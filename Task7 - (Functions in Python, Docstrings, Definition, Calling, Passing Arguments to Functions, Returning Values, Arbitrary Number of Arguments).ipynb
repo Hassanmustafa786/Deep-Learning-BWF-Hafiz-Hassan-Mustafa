{
 "cells": [
  {
   "cell_type": "markdown",
   "id": "53986dad",
   "metadata": {},
   "source": [
    "# Functions in Python\n",
    "In Python, a function is a block of code that performs a specific task. It allows you to write reusable code, making it easier to maintain and debug your code.\n",
    "\n",
    "In this example, the function is defined using the **def** keyword, followed by the function name **(add_numbers)**, and the parameters in parentheses **(a and b)**. The function body is indented and contains the code that performs the task of adding the two numbers."
   ]
  },
  {
   "cell_type": "code",
   "execution_count": 1,
   "id": "03181f09",
   "metadata": {},
   "outputs": [],
   "source": [
    "def add_numbers(x, y):\n",
    "    return x * y"
   ]
  },
  {
   "cell_type": "code",
   "execution_count": 2,
   "id": "81e6b35f",
   "metadata": {},
   "outputs": [
    {
     "name": "stdout",
     "output_type": "stream",
     "text": [
      "60\n"
     ]
    }
   ],
   "source": [
    "result = add_numbers(10, 6)\n",
    "print(result)"
   ]
  },
  {
   "cell_type": "code",
   "execution_count": 3,
   "id": "69ff5901",
   "metadata": {},
   "outputs": [
    {
     "name": "stdout",
     "output_type": "stream",
     "text": [
      "Hello, Jesse! How may I help you?\n"
     ]
    }
   ],
   "source": [
    "def greet_user(username):\n",
    "    print(\"Hello, \" + username.title() + \"!\" + \" How may I help you?\")\n",
    "greet_user('jesse')"
   ]
  },
  {
   "cell_type": "code",
   "execution_count": 4,
   "id": "31046b45",
   "metadata": {},
   "outputs": [
    {
     "name": "stdout",
     "output_type": "stream",
     "text": [
      "In this chapter, I am learning about functions in Python.\n"
     ]
    }
   ],
   "source": [
    "def display_message():\n",
    "    print(\"In this chapter, I am learning about functions in Python.\")\n",
    "    \n",
    "display_message()"
   ]
  },
  {
   "cell_type": "code",
   "execution_count": 5,
   "id": "037cfae9",
   "metadata": {},
   "outputs": [
    {
     "name": "stdout",
     "output_type": "stream",
     "text": [
      "One of my favorite books is Alice in wonderland.\n"
     ]
    }
   ],
   "source": [
    "def favourite_book(title):\n",
    "    print(f\"One of my favorite books is {title}.\")\n",
    "\n",
    "favourite_book(\"Alice in wonderland\")"
   ]
  },
  {
   "cell_type": "markdown",
   "id": "8c8cc413",
   "metadata": {},
   "source": [
    "# Docstrings\n",
    "Docstrings are a form of documentation used in computer programming to describe the purpose and functionality of a program, module, class, method, or function. They are essentially a type of comment that provides information to the developer about how to use the code and what it does.\n",
    "\n",
    "In Python, docstrings are enclosed in triple quotes and are placed at the beginning of the code block, just after the definition statement. The triple quotes can be single or double quotes, and they can span multiple lines.\n",
    "\n",
    "There are two types of docstrings in Python:\n",
    "\n",
    "**1)** Function Docstrings: These describe the functionality of a function or method, including the arguments it takes, its return value, and any exceptions that may be raised.\n",
    "\n",
    "**2)** Module Docstrings: These provide an overview of the entire module, including its purpose, any dependencies it has, and any other relevant information.\n",
    "\n",
    "Using docstrings is considered a best practice in Python programming because it makes code easier to understand and maintain. It also makes it easier for other developers to use and extend the code."
   ]
  },
  {
   "cell_type": "code",
   "execution_count": 6,
   "id": "5d851697",
   "metadata": {},
   "outputs": [],
   "source": [
    "def calculate_average(numbers):\n",
    "    \"\"\"\n",
    "    This function takes a list of numbers as an argument and returns the average.\n",
    "\n",
    "    Args:\n",
    "    numbers (list): A list of numbers.\n",
    "\n",
    "    Returns:\n",
    "    float: The average of the numbers in the list.\n",
    "\n",
    "    Raises:\n",
    "    ValueError: If the input list is empty.\n",
    "    \"\"\"\n",
    "    if len(numbers) == 0:\n",
    "        raise ValueError(\"The input list cannot be empty.\")\n",
    "    return sum(numbers) / len(numbers)"
   ]
  },
  {
   "cell_type": "code",
   "execution_count": 7,
   "id": "7d9de014",
   "metadata": {},
   "outputs": [
    {
     "data": {
      "text/plain": [
       "4.0"
      ]
     },
     "execution_count": 7,
     "metadata": {},
     "output_type": "execute_result"
    }
   ],
   "source": [
    "calculate_average([3,4,5])"
   ]
  },
  {
   "cell_type": "markdown",
   "id": "9a79cb0a",
   "metadata": {},
   "source": [
    "# Definition & Calling\n",
    "In programming, a function is a reusable block of code that performs a specific task. It can take input parameters, process them, and return a result. Functions are an essential concept in programming because they allow you to break down complex tasks into smaller, more manageable pieces of code.\n",
    "\n",
    "A function is defined by using the **def** keyword, followed by the function name and its parameters enclosed in parentheses. The code block that makes up the function is indented below the definition line, and it can include any number of statements.\n",
    "\n",
    "To call or use a function, you simply write its name followed by parentheses and any arguments you want to pass in. Here's an example of how to call the add_numbers function defined above:"
   ]
  },
  {
   "cell_type": "markdown",
   "id": "133fd99e",
   "metadata": {},
   "source": [
    "# Passing Arguments to Functions\n",
    "In Python, you can pass arguments to a function when you call it. These arguments can be used by the function to perform some operation and return a result.\n",
    "\n",
    "There are two types of arguments that you can pass to a function:\n",
    "\n",
    "**Positional Arguments:** These are arguments that are passed to a function based on their position. The first argument passed is assigned to the first parameter in the function definition, the second argument is assigned to the second parameter, and so on.\n",
    "\n",
    "**Keyword Arguments:** These are arguments that are passed to a function by explicitly specifying the parameter name followed by the value. This allows you to pass arguments in any order, and it can make the function call more readable."
   ]
  },
  {
   "cell_type": "code",
   "execution_count": 8,
   "id": "a71bb851",
   "metadata": {},
   "outputs": [
    {
     "name": "stdout",
     "output_type": "stream",
     "text": [
      "36\n"
     ]
    }
   ],
   "source": [
    "def add_numbers(a, b):\n",
    "    return a + b\n",
    "\n",
    "result = add_numbers(3,33)\n",
    "print(result)"
   ]
  },
  {
   "cell_type": "code",
   "execution_count": 9,
   "id": "9e75606c",
   "metadata": {},
   "outputs": [
    {
     "name": "stdout",
     "output_type": "stream",
     "text": [
      "118.0\n"
     ]
    }
   ],
   "source": [
    "def calculate_total(price, tax_rate):\n",
    "    total = price + (price * tax_rate)\n",
    "    return total\n",
    "\n",
    "# Calling the function with keyword arguments\n",
    "print(calculate_total(price=100, tax_rate=0.18))\n"
   ]
  },
  {
   "cell_type": "markdown",
   "id": "62fb360c",
   "metadata": {},
   "source": [
    "# Returning Values\n",
    "A function doesn’t always have to display its output directly. Instead, it can process some data and then return a value or set of values. The value the function returns is called a return value. The return statement takes a value from inside a function and sends it back to the line that called the function. Return values allow you to move much of your program’s grunt work into functions, which can simplify the body of your program."
   ]
  },
  {
   "cell_type": "code",
   "execution_count": 10,
   "id": "0065d964",
   "metadata": {},
   "outputs": [
    {
     "name": "stdout",
     "output_type": "stream",
     "text": [
      "Hassan Mustafa\n"
     ]
    }
   ],
   "source": [
    "def get_formatted_name(first_name, last_name):\n",
    "    \"\"\"Return a full name, neatly formatted.\"\"\"\n",
    "    full_name = first_name + ' ' + last_name\n",
    "    return full_name.title()\n",
    "\n",
    "person = get_formatted_name('Hassan', 'Mustafa')\n",
    "print(person)"
   ]
  },
  {
   "cell_type": "code",
   "execution_count": 11,
   "id": "659cdf74",
   "metadata": {},
   "outputs": [
    {
     "name": "stdout",
     "output_type": "stream",
     "text": [
      "Hafiz Hassan Mustafa\n"
     ]
    }
   ],
   "source": [
    "def get_formatted_name(first_name, middle_name, last_name):\n",
    "    \"\"\"Return a full name, neatly formatted.\"\"\"\n",
    "    full_name = first_name + ' ' + middle_name + ' ' + last_name\n",
    "    return full_name.title()\n",
    "\n",
    "person = get_formatted_name('Hafiz', 'Hassan', 'Mustafa')\n",
    "print(person)"
   ]
  },
  {
   "cell_type": "code",
   "execution_count": 52,
   "id": "06bbd5f8",
   "metadata": {},
   "outputs": [],
   "source": [
    "def get_formatted_name(first_name, last_name, middle_name= ''):\n",
    "    \"\"\"Return a full name, neatly formatted.\"\"\"\n",
    "    if middle_name:\n",
    "        full_name = first_name + ' ' + middle_name + ' ' + last_name\n",
    "    else:\n",
    "        full_name = first_name + ' ' + last_name\n",
    "    return full_name.title()"
   ]
  },
  {
   "cell_type": "code",
   "execution_count": 55,
   "id": "f41b12ea",
   "metadata": {},
   "outputs": [
    {
     "name": "stdout",
     "output_type": "stream",
     "text": [
      "Hassan Mustafa\n"
     ]
    }
   ],
   "source": [
    "musician = get_formatted_name('Hassan', 'Mustafa')\n",
    "print(musician)"
   ]
  },
  {
   "cell_type": "code",
   "execution_count": 54,
   "id": "668ff074",
   "metadata": {},
   "outputs": [
    {
     "name": "stdout",
     "output_type": "stream",
     "text": [
      "Hafiz Hassan Mustafa\n"
     ]
    }
   ],
   "source": [
    "employee = get_formatted_name('Hafiz', 'Mustafa', 'Hassan')\n",
    "print(employee)"
   ]
  },
  {
   "cell_type": "markdown",
   "id": "7a3da41d",
   "metadata": {},
   "source": [
    "# Arbitrary Number of Arguments\n",
    "Sometimes you won’t know ahead of time how many arguments a function needs to accept. Fortunately, Python allows a function to collect an arbitrary number of arguments from the calling statement.For example, consider a function that builds a pizza. It needs to accept a number of toppings, but you can’t know ahead of time how many toppings a person will want. The function in the following example has one parameter, ***toppings**, but this parameter collects as many arguments as the calling line provides:"
   ]
  },
  {
   "cell_type": "code",
   "execution_count": 57,
   "id": "c68ae711",
   "metadata": {},
   "outputs": [],
   "source": [
    "def make_pizza(*toppings):\n",
    "    \"\"\"Print the list of toppings that have been requested.\"\"\"\n",
    "    print(toppings)"
   ]
  },
  {
   "cell_type": "markdown",
   "id": "7f2d89e4",
   "metadata": {},
   "source": [
    "The asterisk in the parameter name *toppings tells Python to make an empty tuple called toppings and pack whatever values it receives into this tuple. The print statement in the function body produces output showing that Python can handle a function call with one value and a call with three values. It treats the different calls similarly. Note that Python packs the arguments into a tuple, even if the function receives only one value:"
   ]
  },
  {
   "cell_type": "code",
   "execution_count": 58,
   "id": "c7721213",
   "metadata": {},
   "outputs": [
    {
     "name": "stdout",
     "output_type": "stream",
     "text": [
      "('pepperoni',)\n",
      "('mushrooms', 'green peppers', 'extra cheese')\n"
     ]
    }
   ],
   "source": [
    "make_pizza('pepperoni')\n",
    "make_pizza('mushrooms', 'green peppers', 'extra cheese')"
   ]
  },
  {
   "cell_type": "code",
   "execution_count": 67,
   "id": "06620af9",
   "metadata": {},
   "outputs": [],
   "source": [
    "def make_pizza(*toppings):\n",
    "    \"\"\"Summarize the pizza we are about to make.\"\"\"\n",
    "    print(\"\\nMaking a pizza with the following toppings:\")\n",
    "    for topping in toppings:\n",
    "        print(\"- \" + topping)"
   ]
  },
  {
   "cell_type": "code",
   "execution_count": 68,
   "id": "6664e750",
   "metadata": {},
   "outputs": [
    {
     "name": "stdout",
     "output_type": "stream",
     "text": [
      "\n",
      "Making a pizza with the following toppings:\n",
      "- pepperoni\n",
      "\n",
      "Making a pizza with the following toppings:\n",
      "- mushrooms\n",
      "- green peppers\n",
      "- extra cheese\n"
     ]
    }
   ],
   "source": [
    "make_pizza('pepperoni')\n",
    "make_pizza('mushrooms', 'green peppers', 'extra cheese')"
   ]
  },
  {
   "cell_type": "code",
   "execution_count": null,
   "id": "341fa1c1",
   "metadata": {},
   "outputs": [],
   "source": []
  }
 ],
 "metadata": {
  "kernelspec": {
   "display_name": "Python 3 (ipykernel)",
   "language": "python",
   "name": "python3"
  },
  "language_info": {
   "codemirror_mode": {
    "name": "ipython",
    "version": 3
   },
   "file_extension": ".py",
   "mimetype": "text/x-python",
   "name": "python",
   "nbconvert_exporter": "python",
   "pygments_lexer": "ipython3",
   "version": "3.8.0"
  }
 },
 "nbformat": 4,
 "nbformat_minor": 5
}
