{
 "cells": [
  {
   "cell_type": "markdown",
   "id": "285de695",
   "metadata": {},
   "source": [
    "# Importing the Pandas library"
   ]
  },
  {
   "cell_type": "code",
   "execution_count": 1,
   "id": "ba41e230",
   "metadata": {},
   "outputs": [],
   "source": [
    "import pandas as pd"
   ]
  },
  {
   "cell_type": "markdown",
   "id": "af6770fc",
   "metadata": {},
   "source": [
    "# Loading Data with Pandas\n",
    "Pandas provides several functions to load data from different file formats and sources. Here are some commonly used functions to load data with Pandas:\n",
    "1. **read_csv():** This function is used to load data from a CSV file. You can specify the file path, column delimiter, and other parameters such as header, index, and data types.\n",
    "2. **read_json():** This function is used to load data from a JSON file. You can specify the file path and other parameters such as orient, dtype, and convert_dates.\n",
    "3. **read_excel():** This function is used to load data from an Excel file. You can specify the file path, sheet name or index, and other parameters such as header, index, and data types.\n",
    "4. **read_sql():** This function is used to load data from a SQL database. You can specify the database connection string, SQL query, and other parameters such as index, chunksize, and dtype."
   ]
  },
  {
   "cell_type": "markdown",
   "id": "cd11f4f1",
   "metadata": {},
   "source": [
    "# JSON"
   ]
  },
  {
   "cell_type": "code",
   "execution_count": 2,
   "id": "1287653f",
   "metadata": {},
   "outputs": [],
   "source": [
    "import json\n",
    "\n",
    "# Creating a sample DataFrame\n",
    "data = {'Name': ['Hafiz Hassan Mustafa', 'Ahsan', 'Faraz'], 'Age': [25, 30, 35],\n",
    "        'city': ['New York', 'Los Angeles', 'Chicago'], 'File Type': ['JSON','JSON','JSON']}\n",
    "\n",
    "\n",
    "# Write the JSON object to a file\n",
    "with open('data.json', 'w') as f:\n",
    "    json.dump(data, f)"
   ]
  },
  {
   "cell_type": "code",
   "execution_count": 3,
   "id": "a4f66540",
   "metadata": {},
   "outputs": [
    {
     "name": "stdout",
     "output_type": "stream",
     "text": [
      "                   Name  Age         city File Type\n",
      "0  Hafiz Hassan Mustafa   25     New York      JSON\n",
      "1                 Ahsan   30  Los Angeles      JSON\n",
      "2                 Faraz   35      Chicago      JSON\n"
     ]
    }
   ],
   "source": [
    "# Read the JSON file into a DataFrame\n",
    "df = pd.read_json('data.json')\n",
    "\n",
    "print(df)"
   ]
  },
  {
   "cell_type": "markdown",
   "id": "db397f6c",
   "metadata": {},
   "source": [
    "# Excel"
   ]
  },
  {
   "cell_type": "code",
   "execution_count": 4,
   "id": "aa7f98e7",
   "metadata": {},
   "outputs": [],
   "source": [
    "#Creating a DataFrame for Excel file\n",
    "data = {'Name': ['Hafiz Hassan Mustafa', 'Ahsan', 'Faraz'], 'Age': [25, 30, 35],\n",
    "        'city': ['New York', 'Los Angeles', 'Chicago'], 'File Type': ['Excel','Excel','Excel']}\n",
    "df = pd.DataFrame(data)\n",
    "\n",
    "# Save the DataFrame to an Excel file\n",
    "df.to_excel('data.xlsx', index=False)"
   ]
  },
  {
   "cell_type": "code",
   "execution_count": 5,
   "id": "331f4cba",
   "metadata": {},
   "outputs": [
    {
     "name": "stdout",
     "output_type": "stream",
     "text": [
      "                   Name  Age         city File Type\n",
      "0  Hafiz Hassan Mustafa   25     New York     Excel\n",
      "1                 Ahsan   30  Los Angeles     Excel\n",
      "2                 Faraz   35      Chicago     Excel\n"
     ]
    }
   ],
   "source": [
    "# Read the Excel file into a DataFrame\n",
    "df = pd.read_excel('data.xlsx')\n",
    "print(df)"
   ]
  },
  {
   "cell_type": "markdown",
   "id": "ba4660d1",
   "metadata": {},
   "source": [
    "# CSV"
   ]
  },
  {
   "cell_type": "code",
   "execution_count": 6,
   "id": "c422607a",
   "metadata": {},
   "outputs": [],
   "source": [
    "#Creating a DataFrame for CSV file\n",
    "data = {'Name': ['Hafiz Hassan Mustafa', 'Ahsan', 'Faraz'], 'Age': [25, 30, 35],\n",
    "        'city': ['New York', 'Los Angeles', 'Chicago'], 'File Type': ['CSV','CSV','CSV']}\n",
    "df = pd.DataFrame(data)\n",
    "\n",
    "# Save the DataFrame to an CSV file\n",
    "df.to_csv('data.csv', index=False)"
   ]
  },
  {
   "cell_type": "code",
   "execution_count": 7,
   "id": "3860b72c",
   "metadata": {},
   "outputs": [
    {
     "name": "stdout",
     "output_type": "stream",
     "text": [
      "                   Name  Age         city File Type\n",
      "0  Hafiz Hassan Mustafa   25     New York       CSV\n",
      "1                 Ahsan   30  Los Angeles       CSV\n",
      "2                 Faraz   35      Chicago       CSV\n"
     ]
    }
   ],
   "source": [
    "# Read the CSV file into a DataFrame\n",
    "df = pd.read_csv('data.csv')\n",
    "print(df)"
   ]
  },
  {
   "cell_type": "markdown",
   "id": "1b0e6811",
   "metadata": {},
   "source": [
    "# SQL"
   ]
  },
  {
   "cell_type": "code",
   "execution_count": 31,
   "id": "bf139ce0",
   "metadata": {},
   "outputs": [],
   "source": [
    "import sqlalchemy as sqla\n",
    "import sqlite3"
   ]
  },
  {
   "cell_type": "code",
   "execution_count": 32,
   "id": "7a3be535",
   "metadata": {},
   "outputs": [
    {
     "data": {
      "text/html": [
       "<div>\n",
       "<style scoped>\n",
       "    .dataframe tbody tr th:only-of-type {\n",
       "        vertical-align: middle;\n",
       "    }\n",
       "\n",
       "    .dataframe tbody tr th {\n",
       "        vertical-align: top;\n",
       "    }\n",
       "\n",
       "    .dataframe thead th {\n",
       "        text-align: right;\n",
       "    }\n",
       "</style>\n",
       "<table border=\"1\" class=\"dataframe\">\n",
       "  <thead>\n",
       "    <tr style=\"text-align: right;\">\n",
       "      <th></th>\n",
       "      <th>Name</th>\n",
       "      <th>Age</th>\n",
       "      <th>city</th>\n",
       "    </tr>\n",
       "  </thead>\n",
       "  <tbody>\n",
       "    <tr>\n",
       "      <th>0</th>\n",
       "      <td>Hafiz Hassan Mustafa</td>\n",
       "      <td>25</td>\n",
       "      <td>New York</td>\n",
       "    </tr>\n",
       "    <tr>\n",
       "      <th>1</th>\n",
       "      <td>Ahsan</td>\n",
       "      <td>30</td>\n",
       "      <td>Los Angeles</td>\n",
       "    </tr>\n",
       "    <tr>\n",
       "      <th>2</th>\n",
       "      <td>Faraz</td>\n",
       "      <td>35</td>\n",
       "      <td>Chicago</td>\n",
       "    </tr>\n",
       "  </tbody>\n",
       "</table>\n",
       "</div>"
      ],
      "text/plain": [
       "                   Name  Age         city\n",
       "0  Hafiz Hassan Mustafa   25     New York\n",
       "1                 Ahsan   30  Los Angeles\n",
       "2                 Faraz   35      Chicago"
      ]
     },
     "execution_count": 32,
     "metadata": {},
     "output_type": "execute_result"
    }
   ],
   "source": [
    "data = pd.DataFrame({'Name': ['Hafiz Hassan Mustafa', 'Ahsan', 'Faraz'], 'Age': [25, 30, 35],\n",
    "                     'city': ['New York', 'Los Angeles', 'Chicago']})\n",
    "data"
   ]
  },
  {
   "cell_type": "code",
   "execution_count": 33,
   "id": "5de6ef37",
   "metadata": {},
   "outputs": [],
   "source": [
    "#We will use sqlite3 library and create a connection\n",
    "cnn = sqlite3.connect('jupyter.db')"
   ]
  },
  {
   "cell_type": "code",
   "execution_count": 34,
   "id": "dd1b7dae",
   "metadata": {},
   "outputs": [
    {
     "data": {
      "text/plain": [
       "3"
      ]
     },
     "execution_count": 34,
     "metadata": {},
     "output_type": "execute_result"
    }
   ],
   "source": [
    "df.to_sql('people', cnn)"
   ]
  },
  {
   "cell_type": "code",
   "execution_count": 35,
   "id": "d7272308",
   "metadata": {},
   "outputs": [
    {
     "name": "stdout",
     "output_type": "stream",
     "text": [
      "The sql extension is already loaded. To reload it, use:\n",
      "  %reload_ext sql\n"
     ]
    }
   ],
   "source": [
    "#load the sql module to python\n",
    "\n",
    "%load_ext sql"
   ]
  },
  {
   "cell_type": "code",
   "execution_count": 36,
   "id": "0dc9399f",
   "metadata": {},
   "outputs": [
    {
     "data": {
      "text/plain": [
       "'Connected: @jupyter.db'"
      ]
     },
     "execution_count": 36,
     "metadata": {},
     "output_type": "execute_result"
    }
   ],
   "source": [
    "%sql sqlite:///jupyter.db"
   ]
  },
  {
   "cell_type": "code",
   "execution_count": 37,
   "id": "61f61394",
   "metadata": {},
   "outputs": [
    {
     "name": "stdout",
     "output_type": "stream",
     "text": [
      " * sqlite:///jupyter.db\n",
      "Done.\n"
     ]
    },
    {
     "data": {
      "text/html": [
       "<table>\n",
       "    <thead>\n",
       "        <tr>\n",
       "            <th>index</th>\n",
       "            <th>Name</th>\n",
       "            <th>Age</th>\n",
       "            <th>city</th>\n",
       "            <th>File Type</th>\n",
       "        </tr>\n",
       "    </thead>\n",
       "    <tbody>\n",
       "        <tr>\n",
       "            <td>0</td>\n",
       "            <td>Hafiz Hassan Mustafa</td>\n",
       "            <td>25</td>\n",
       "            <td>New York</td>\n",
       "            <td>CSV</td>\n",
       "        </tr>\n",
       "        <tr>\n",
       "            <td>1</td>\n",
       "            <td>Ahsan</td>\n",
       "            <td>30</td>\n",
       "            <td>Los Angeles</td>\n",
       "            <td>CSV</td>\n",
       "        </tr>\n",
       "        <tr>\n",
       "            <td>2</td>\n",
       "            <td>Faraz</td>\n",
       "            <td>35</td>\n",
       "            <td>Chicago</td>\n",
       "            <td>CSV</td>\n",
       "        </tr>\n",
       "    </tbody>\n",
       "</table>"
      ],
      "text/plain": [
       "[(0, 'Hafiz Hassan Mustafa', 25, 'New York', 'CSV'),\n",
       " (1, 'Ahsan', 30, 'Los Angeles', 'CSV'),\n",
       " (2, 'Faraz', 35, 'Chicago', 'CSV')]"
      ]
     },
     "execution_count": 37,
     "metadata": {},
     "output_type": "execute_result"
    }
   ],
   "source": [
    "%%sql\n",
    "\n",
    "SELECT *\n",
    "FROM people"
   ]
  },
  {
   "cell_type": "code",
   "execution_count": 38,
   "id": "4232ae86",
   "metadata": {},
   "outputs": [
    {
     "name": "stdout",
     "output_type": "stream",
     "text": [
      " * sqlite:///jupyter.db\n",
      "Done.\n"
     ]
    },
    {
     "data": {
      "text/html": [
       "<table>\n",
       "    <thead>\n",
       "        <tr>\n",
       "            <th>count(*)</th>\n",
       "        </tr>\n",
       "    </thead>\n",
       "    <tbody>\n",
       "        <tr>\n",
       "            <td>3</td>\n",
       "        </tr>\n",
       "    </tbody>\n",
       "</table>"
      ],
      "text/plain": [
       "[(3,)]"
      ]
     },
     "execution_count": 38,
     "metadata": {},
     "output_type": "execute_result"
    }
   ],
   "source": [
    "%%sql\n",
    "\n",
    "SELECT count(*)\n",
    "FROM people"
   ]
  },
  {
   "cell_type": "code",
   "execution_count": 39,
   "id": "c8ab3a53",
   "metadata": {},
   "outputs": [],
   "source": [
    "# Import the necessary libraries and create a database connection\n",
    "import sqlite3\n",
    "\n",
    "conn = sqlite3.connect('jupyter.db')\n",
    "c = conn.cursor()\n",
    "\n",
    "# Execute the DROP TABLE statement to delete the table named \"people\"\n",
    "c.execute('DROP TABLE IF EXISTS people')\n",
    "\n",
    "# Commit the changes and close the connection\n",
    "conn.commit()\n",
    "conn.close()"
   ]
  },
  {
   "cell_type": "code",
   "execution_count": null,
   "id": "a6bb6fc7",
   "metadata": {},
   "outputs": [],
   "source": []
  }
 ],
 "metadata": {
  "kernelspec": {
   "display_name": "Python 3 (ipykernel)",
   "language": "python",
   "name": "python3"
  },
  "language_info": {
   "codemirror_mode": {
    "name": "ipython",
    "version": 3
   },
   "file_extension": ".py",
   "mimetype": "text/x-python",
   "name": "python",
   "nbconvert_exporter": "python",
   "pygments_lexer": "ipython3",
   "version": "3.8.0"
  }
 },
 "nbformat": 4,
 "nbformat_minor": 5
}
