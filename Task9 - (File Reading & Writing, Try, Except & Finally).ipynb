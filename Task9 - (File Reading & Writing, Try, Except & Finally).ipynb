{
 "cells": [
  {
   "cell_type": "markdown",
   "id": "33e65e7d",
   "metadata": {},
   "source": [
    "# File Reading & Writing:\n",
    "In Python, file handling is done using the built-in **open()** function.\n",
    "\n",
    "To read a file, you can use the **read()** method."
   ]
  },
  {
   "cell_type": "code",
   "execution_count": null,
   "id": "100abf4b",
   "metadata": {},
   "outputs": [],
   "source": [
    "with open('example.txt', 'w') as file:\n",
    "    written_content = file.write(\"Hello, World!               \\n\")\n",
    "    print(written_content)"
   ]
  },
  {
   "cell_type": "code",
   "execution_count": null,
   "id": "63b3246f",
   "metadata": {},
   "outputs": [],
   "source": [
    "with open('example.txt', 'r') as file:\n",
    "    content = file.read()\n",
    "    clean_string = content.rstrip()\n",
    "    print(clean_string)"
   ]
  },
  {
   "cell_type": "markdown",
   "id": "1c13f2fa",
   "metadata": {},
   "source": [
    "To write to a file, you can use the **write()** method. The **write()** method of a file object returns the number of characters that were written to the file. In your code, you are using the **write()** method to write the string **\"Hello, World!\"** to the file example.txt. The variable written_content is then assigned the return value of **write()**, which is the number of characters that were written to the file.\n",
    "\n",
    "Finally, you print the value of written_content, which is the length of the string **\"Hello, Hafiz Hassan Mustafa!\"**. That's why the code outputs the length of the string **\"Hello, Hafiz Hassan Mustafa!\"** to the console."
   ]
  },
  {
   "cell_type": "code",
   "execution_count": null,
   "id": "aa036369",
   "metadata": {},
   "outputs": [],
   "source": [
    "print(clean_string)"
   ]
  },
  {
   "cell_type": "code",
   "execution_count": null,
   "id": "223c721f",
   "metadata": {},
   "outputs": [],
   "source": [
    "with open('example.txt', 'w') as file:\n",
    "    updated_written_content = file.write(clean_string + '\\nHello, Hafiz Hassan Mustafa!')\n",
    "    print(updated_written_content)"
   ]
  },
  {
   "cell_type": "code",
   "execution_count": null,
   "id": "6e042d42",
   "metadata": {},
   "outputs": [],
   "source": [
    "filename = 'example.txt'\n",
    "with open(filename) as file:\n",
    "    for line in file:\n",
    "        print(line)"
   ]
  },
  {
   "cell_type": "markdown",
   "id": "5f61c538",
   "metadata": {},
   "source": [
    "# Try, Except & Finally:\n",
    "When working with code that might raise an error, it's important to handle those errors gracefully. This is where the try-except-finally block comes in.\n",
    "\n",
    "In Python, try, except, and finally are keywords used in exception handling.\n",
    "\n",
    "**try** block is used to enclose code that might raise an exception.\n",
    "\n",
    "**except** block is used to handle the exception that was raised in the try block. It allows the program to catch the exception and take appropriate action instead of just stopping the program.\n",
    "\n",
    "**finally** block is used to execute code that must be executed, regardless of whether or not an exception was raised. It is usually used to perform cleanup operations, such as closing files or releasing resources"
   ]
  },
  {
   "cell_type": "code",
   "execution_count": null,
   "id": "a7e4cfee",
   "metadata": {},
   "outputs": [],
   "source": [
    "try:\n",
    "    with open('wrong.txt', 'r') as file:\n",
    "        data = file.read()\n",
    "        \n",
    "except FileNotFoundError:\n",
    "    print(\"The file does not exist.\")\n",
    "\n",
    "finally:\n",
    "    print(\"This code always executes.\")"
   ]
  },
  {
   "cell_type": "code",
   "execution_count": null,
   "id": "05e0a90f",
   "metadata": {},
   "outputs": [],
   "source": [
    "try:\n",
    "    with open('example.txt', 'r') as file:\n",
    "        data = file.read()\n",
    "        \n",
    "except FileNotFoundError:\n",
    "    print(\"The file does not exist.\")\n",
    "\n",
    "finally:\n",
    "    print(\"This code always executes.\")"
   ]
  },
  {
   "cell_type": "code",
   "execution_count": null,
   "id": "19b16db7",
   "metadata": {},
   "outputs": [],
   "source": [
    "with open('example.txt', 'w') as file:\n",
    "    written_content = file.write(\"Welcome!\" + \n",
    "                                 \"\\nHow are you today?\")\n",
    "    print(written_content)"
   ]
  },
  {
   "cell_type": "code",
   "execution_count": null,
   "id": "5e56712f",
   "metadata": {},
   "outputs": [],
   "source": [
    "with open('example.txt','r') as file:\n",
    "    lines = file.readlines()\n",
    "for line in lines:\n",
    "    print(line.rstrip())"
   ]
  },
  {
   "cell_type": "code",
   "execution_count": null,
   "id": "2b9fcb64",
   "metadata": {},
   "outputs": [],
   "source": [
    "text_string = ''\n",
    "for line in lines:\n",
    "    text_string += line.rstrip()\n",
    "    \n",
    "print(text_string)    \n",
    "print(len(text_string))"
   ]
  },
  {
   "cell_type": "code",
   "execution_count": null,
   "id": "cccf63e8",
   "metadata": {},
   "outputs": [],
   "source": [
    "text_string = ''\n",
    "for line in lines:\n",
    "    text_string += line.strip()\n",
    "text_string = ''.join(text_string.split()) # Replace all whitespace with empty string\n",
    "\n",
    "print(text_string)    \n",
    "print(len(text_string))"
   ]
  },
  {
   "cell_type": "markdown",
   "id": "d7d733fc",
   "metadata": {},
   "source": [
    "# Exercise"
   ]
  },
  {
   "cell_type": "code",
   "execution_count": null,
   "id": "7a93b470",
   "metadata": {},
   "outputs": [],
   "source": [
    "# Reading the entire file\n",
    "with open('learning_python.txt','r') as file:\n",
    "    contents = file.read()\n",
    "print(contents)\n",
    "\n",
    "# Looping over the file object\n",
    "with open('learning_python.txt') as file:\n",
    "    for line in file:\n",
    "        print(line.rstrip())\n",
    "\n",
    "# Storing the lines in a list\n",
    "with open('learning_python.txt') as file:\n",
    "    lines = file.readlines()\n",
    "\n",
    "for line in lines:\n",
    "    print(line.rstrip())"
   ]
  },
  {
   "cell_type": "markdown",
   "id": "5596c48b",
   "metadata": {},
   "source": [
    "You can use the **replace()** method to replace any word in a string with a different word."
   ]
  },
  {
   "cell_type": "code",
   "execution_count": null,
   "id": "eb4d1e8b",
   "metadata": {},
   "outputs": [],
   "source": [
    "print(contents)"
   ]
  },
  {
   "cell_type": "code",
   "execution_count": null,
   "id": "fed27ee4",
   "metadata": {},
   "outputs": [],
   "source": [
    "contents.replace(\"Use\",\"Utilize\")"
   ]
  },
  {
   "cell_type": "markdown",
   "id": "78258421",
   "metadata": {},
   "source": [
    "# Appending to a File\n",
    "If you want to add content to a file instead of writing over existing content, you can open the file in append mode. When you open a file in append mode, Python doesn’t erase the file before returning the file object. Any lines you write to the file will be added at the end of the file. If the file doesn’t exist yet, Python will create an empty file for you."
   ]
  },
  {
   "cell_type": "code",
   "execution_count": null,
   "id": "346852cc",
   "metadata": {},
   "outputs": [],
   "source": [
    "with open('learning_python.txt', 'a') as file_object:\n",
    "    file_object.write(\"\\nI also love finding meaning in large datasets.\\n\")\n",
    "    file_object.write(\"I love creating apps that can run in a browser.\\n\")"
   ]
  },
  {
   "cell_type": "code",
   "execution_count": null,
   "id": "dceab221",
   "metadata": {},
   "outputs": [],
   "source": [
    "with open('learning_python.txt', 'r') as file:\n",
    "    content = file.read()\n",
    "    print(content)"
   ]
  },
  {
   "cell_type": "markdown",
   "id": "5606f4da",
   "metadata": {},
   "source": [
    "# Exercise"
   ]
  },
  {
   "cell_type": "code",
   "execution_count": null,
   "id": "84bd8e5c",
   "metadata": {},
   "outputs": [],
   "source": [
    "file_name = 'guest.txt'\n",
    "guest = input(str(\"Enter your name: \"))\n",
    "\n",
    "with open(file_name,'w') as file:\n",
    "    file.write(guest)\n",
    "\n",
    "print(f\"Hello! {guest}, Your file is created with your name.\")"
   ]
  },
  {
   "cell_type": "code",
   "execution_count": 3,
   "id": "d6a2129f",
   "metadata": {},
   "outputs": [
    {
     "name": "stdout",
     "output_type": "stream",
     "text": [
      "Enter your name? OR Press q to quit.hassan\n",
      "Welcome, hassan!\n",
      "Your entry has been recorded in 'guest_book.txt'.\n",
      "\n",
      "Enter your name? OR Press q to quit.saad\n",
      "Welcome, saad!\n",
      "Your entry has been recorded in 'guest_book.txt'.\n",
      "\n",
      "Enter your name? OR Press q to quit.faraz\n",
      "Welcome, faraz!\n",
      "Your entry has been recorded in 'guest_book.txt'.\n",
      "\n",
      "Enter your name? OR Press q to quit.shaheer\n",
      "Welcome, shaheer!\n",
      "Your entry has been recorded in 'guest_book.txt'.\n",
      "\n",
      "Enter your name? OR Press q to quit.q\n"
     ]
    }
   ],
   "source": [
    "filename = 'guest_book.txt'\n",
    "\n",
    "while True:\n",
    "    name = input(\"Enter your name? OR Press q to quit.\")\n",
    "    if name == 'q':\n",
    "        break\n",
    "    print(f\"Welcome, {name}!\")\n",
    "\n",
    "    with open(filename, 'a') as file:\n",
    "        file.write(name + \"\\n\")\n",
    "        \n",
    "    print(f\"Your entry has been recorded in '{filename}'.\\n\")\n",
    "    "
   ]
  },
  {
   "cell_type": "code",
   "execution_count": 5,
   "id": "057c4425",
   "metadata": {},
   "outputs": [
    {
     "name": "stdout",
     "output_type": "stream",
     "text": [
      "Hafiz Hassan Mustafa\n",
      "Hafiz Hassan Mustafa\n",
      "hassan\n",
      "hassan\n",
      "saad\n",
      "faraz\n",
      "shaheer\n",
      "\n"
     ]
    }
   ],
   "source": [
    "filename = 'guest_book.txt'\n",
    "\n",
    "with open(filename) as file:\n",
    "    responses = file.read()\n",
    "    print(responses)"
   ]
  },
  {
   "cell_type": "code",
   "execution_count": 1,
   "id": "362a1f5f",
   "metadata": {},
   "outputs": [
    {
     "name": "stdout",
     "output_type": "stream",
     "text": [
      "Why do you like programming? OR Press q to quit.don't know.\n",
      "Your response has been recorded in 'poll.txt'.\n",
      "\n",
      "Why do you like programming? OR Press q to quit.looks interesting\n",
      "Your response has been recorded in 'poll.txt'.\n",
      "\n",
      "Why do you like programming? OR Press q to quit.fucking hell!\n",
      "Your response has been recorded in 'poll.txt'.\n",
      "\n",
      "Why do you like programming? OR Press q to quit.q\n"
     ]
    }
   ],
   "source": [
    "filename = 'poll.txt'\n",
    "\n",
    "while True:\n",
    "    response = input(\"Why do you like programming? OR Press q to quit.\")\n",
    "    if response == 'q':\n",
    "        break\n",
    "    with open(filename, 'a') as file:\n",
    "        file.write(response + \"\\n\")\n",
    "        \n",
    "    print(f\"Your response has been recorded in '{filename}'.\\n\")"
   ]
  },
  {
   "cell_type": "code",
   "execution_count": 2,
   "id": "cab18ebe",
   "metadata": {},
   "outputs": [
    {
     "name": "stdout",
     "output_type": "stream",
     "text": [
      "don't know.\n",
      "looks interesting\n",
      "fucking hell!\n",
      "\n"
     ]
    }
   ],
   "source": [
    "filename = 'poll.txt'\n",
    "\n",
    "with open(filename) as file:\n",
    "    responses = file.read()\n",
    "    print(responses)"
   ]
  },
  {
   "cell_type": "code",
   "execution_count": null,
   "id": "3cac7bbe",
   "metadata": {},
   "outputs": [],
   "source": []
  }
 ],
 "metadata": {
  "kernelspec": {
   "display_name": "Python 3 (ipykernel)",
   "language": "python",
   "name": "python3"
  },
  "language_info": {
   "codemirror_mode": {
    "name": "ipython",
    "version": 3
   },
   "file_extension": ".py",
   "mimetype": "text/x-python",
   "name": "python",
   "nbconvert_exporter": "python",
   "pygments_lexer": "ipython3",
   "version": "3.8.0"
  }
 },
 "nbformat": 4,
 "nbformat_minor": 5
}
