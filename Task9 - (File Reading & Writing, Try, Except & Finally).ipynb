{
 "cells": [
  {
   "cell_type": "markdown",
   "id": "33e65e7d",
   "metadata": {},
   "source": [
    "# File Reading & Writing:\n",
    "In Python, file handling is done using the built-in **open()** function.\n",
    "\n",
    "To read a file, you can use the **read()** method."
   ]
  },
  {
   "cell_type": "code",
   "execution_count": 1,
   "id": "100abf4b",
   "metadata": {},
   "outputs": [
    {
     "name": "stdout",
     "output_type": "stream",
     "text": [
      "29\n"
     ]
    }
   ],
   "source": [
    "with open('example.txt', 'w') as file:\n",
    "    written_content = file.write(\"Hello, World!               \\n\")\n",
    "    print(written_content)"
   ]
  },
  {
   "cell_type": "code",
   "execution_count": 2,
   "id": "63b3246f",
   "metadata": {},
   "outputs": [
    {
     "name": "stdout",
     "output_type": "stream",
     "text": [
      "Hello, World!\n"
     ]
    }
   ],
   "source": [
    "with open('example.txt', 'r') as file:\n",
    "    content = file.read()\n",
    "    clean_string = content.rstrip()\n",
    "    print(clean_string)"
   ]
  },
  {
   "cell_type": "markdown",
   "id": "1c13f2fa",
   "metadata": {},
   "source": [
    "To write to a file, you can use the **write()** method. The **write()** method of a file object returns the number of characters that were written to the file. In your code, you are using the **write()** method to write the string **\"Hello, World!\"** to the file example.txt. The variable written_content is then assigned the return value of **write()**, which is the number of characters that were written to the file.\n",
    "\n",
    "Finally, you print the value of written_content, which is the length of the string **\"Hello, Hafiz Hassan Mustafa!\"**. That's why the code outputs the length of the string **\"Hello, Hafiz Hassan Mustafa!\"** to the console."
   ]
  },
  {
   "cell_type": "code",
   "execution_count": 3,
   "id": "aa036369",
   "metadata": {},
   "outputs": [
    {
     "name": "stdout",
     "output_type": "stream",
     "text": [
      "Hello, World!\n"
     ]
    }
   ],
   "source": [
    "print(clean_string)"
   ]
  },
  {
   "cell_type": "code",
   "execution_count": 4,
   "id": "223c721f",
   "metadata": {},
   "outputs": [
    {
     "name": "stdout",
     "output_type": "stream",
     "text": [
      "42\n"
     ]
    }
   ],
   "source": [
    "with open('example.txt', 'w') as file:\n",
    "    updated_written_content = file.write(clean_string + '\\nHello, Hafiz Hassan Mustafa!')\n",
    "    print(updated_written_content)"
   ]
  },
  {
   "cell_type": "code",
   "execution_count": 5,
   "id": "6e042d42",
   "metadata": {},
   "outputs": [
    {
     "name": "stdout",
     "output_type": "stream",
     "text": [
      "Hello, World!\n",
      "\n",
      "Hello, Hafiz Hassan Mustafa!\n"
     ]
    }
   ],
   "source": [
    "filename = 'example.txt'\n",
    "with open(filename) as file:\n",
    "    for line in file:\n",
    "        print(line)"
   ]
  },
  {
   "cell_type": "markdown",
   "id": "5f61c538",
   "metadata": {},
   "source": [
    "# Try, Except & Finally:\n",
    "When working with code that might raise an error, it's important to handle those errors gracefully. This is where the try-except-finally block comes in.\n",
    "\n",
    "In Python, try, except, and finally are keywords used in exception handling.\n",
    "\n",
    "**try** block is used to enclose code that might raise an exception.\n",
    "\n",
    "**except** block is used to handle the exception that was raised in the try block. It allows the program to catch the exception and take appropriate action instead of just stopping the program.\n",
    "\n",
    "**finally** block is used to execute code that must be executed, regardless of whether or not an exception was raised. It is usually used to perform cleanup operations, such as closing files or releasing resources"
   ]
  },
  {
   "cell_type": "code",
   "execution_count": 6,
   "id": "a7e4cfee",
   "metadata": {},
   "outputs": [
    {
     "name": "stdout",
     "output_type": "stream",
     "text": [
      "The file does not exist.\n",
      "This code always executes.\n"
     ]
    }
   ],
   "source": [
    "try:\n",
    "    with open('wrong.txt', 'r') as file:\n",
    "        data = file.read()\n",
    "        \n",
    "except FileNotFoundError:\n",
    "    print(\"The file does not exist.\")\n",
    "\n",
    "finally:\n",
    "    print(\"This code always executes.\")"
   ]
  },
  {
   "cell_type": "code",
   "execution_count": 7,
   "id": "05e0a90f",
   "metadata": {},
   "outputs": [
    {
     "name": "stdout",
     "output_type": "stream",
     "text": [
      "This code always executes.\n"
     ]
    }
   ],
   "source": [
    "try:\n",
    "    with open('example.txt', 'r') as file:\n",
    "        data = file.read()\n",
    "        \n",
    "except FileNotFoundError:\n",
    "    print(\"The file does not exist.\")\n",
    "\n",
    "finally:\n",
    "    print(\"This code always executes.\")"
   ]
  },
  {
   "cell_type": "code",
   "execution_count": 8,
   "id": "19b16db7",
   "metadata": {},
   "outputs": [
    {
     "name": "stdout",
     "output_type": "stream",
     "text": [
      "27\n"
     ]
    }
   ],
   "source": [
    "with open('example.txt', 'w') as file:\n",
    "    written_content = file.write(\"Welcome!\" + \n",
    "                                 \"\\nHow are you today?\")\n",
    "    print(written_content)"
   ]
  },
  {
   "cell_type": "code",
   "execution_count": 9,
   "id": "eecbf59e",
   "metadata": {},
   "outputs": [
    {
     "name": "stdout",
     "output_type": "stream",
     "text": [
      "Welcome!\n",
      "\n",
      "How are you today?\n"
     ]
    }
   ],
   "source": [
    "filename = 'example.txt'\n",
    "with open(filename) as file_object:\n",
    "    for line in file_object:\n",
    "        print(line)"
   ]
  },
  {
   "cell_type": "code",
   "execution_count": null,
   "id": "5e56712f",
   "metadata": {},
   "outputs": [],
   "source": []
  }
 ],
 "metadata": {
  "kernelspec": {
   "display_name": "Python 3 (ipykernel)",
   "language": "python",
   "name": "python3"
  },
  "language_info": {
   "codemirror_mode": {
    "name": "ipython",
    "version": 3
   },
   "file_extension": ".py",
   "mimetype": "text/x-python",
   "name": "python",
   "nbconvert_exporter": "python",
   "pygments_lexer": "ipython3",
   "version": "3.8.0"
  }
 },
 "nbformat": 4,
 "nbformat_minor": 5
}
