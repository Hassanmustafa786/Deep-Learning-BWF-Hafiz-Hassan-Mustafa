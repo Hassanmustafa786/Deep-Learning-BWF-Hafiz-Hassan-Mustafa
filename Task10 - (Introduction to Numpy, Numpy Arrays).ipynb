{
 "cells": [
  {
   "cell_type": "markdown",
   "id": "ac875d91",
   "metadata": {},
   "source": [
    "# Introduction to NumPy\n",
    "Short for Numerical Python, has long been a cornerstone of numerical com‐\n",
    "puting in Python. It provides the data structures, algorithms, and library glue needed\n",
    "for most scientific applications involving numerical data in Python. NumPy contains,\n",
    "among other things:\n",
    "\n",
    "• A fast and efficient multidimensional array object ndarray.\n",
    "\n",
    "• Functions for performing element-wise computations with arrays or mathemati‐cal operations between arrays.\n",
    "\n",
    "• Tools for reading and writing array-based datasets to disk.\n",
    "\n",
    "• Linear algebra operations, Fourier transform, and random number generation.\n",
    "\n",
    "• A mature C API to enable Python extensions and native C or C++ code to access NumPy’s data structures and computational facilities.\n",
    "\n",
    "To work with NumPy, you first need to import the library:"
   ]
  },
  {
   "cell_type": "code",
   "execution_count": 1,
   "id": "98708003",
   "metadata": {},
   "outputs": [],
   "source": [
    "import numpy as np"
   ]
  },
  {
   "cell_type": "markdown",
   "id": "7234fe0a",
   "metadata": {},
   "source": [
    "Creating a NumPy array can be done in several ways, but the most common way is by passing a Python list to the **np.array()** function. For example:"
   ]
  },
  {
   "cell_type": "markdown",
   "id": "e0052771",
   "metadata": {},
   "source": [
    "# NumPy Array\n",
    "A NumPy array is a **multi-dimensional** container of elements of the same data type. The array object in NumPy is called ndarray. The ndarray object is similar to a list or a tuple, but it is more efficient and powerful for numerical computations."
   ]
  },
  {
   "cell_type": "code",
   "execution_count": 2,
   "id": "d6479d95",
   "metadata": {},
   "outputs": [
    {
     "name": "stdout",
     "output_type": "stream",
     "text": [
      "['Hafiz' 'Hassan' 'Mustafa' '2' '3']\n"
     ]
    }
   ],
   "source": [
    "array = np.array([\"Hafiz\",\"Hassan\", \"Mustafa\", 2, 3])\n",
    "print(array)"
   ]
  },
  {
   "cell_type": "code",
   "execution_count": 3,
   "id": "a45cae2c",
   "metadata": {},
   "outputs": [
    {
     "name": "stdout",
     "output_type": "stream",
     "text": [
      "<class 'numpy.ndarray'>\n"
     ]
    }
   ],
   "source": [
    "print(type(array))"
   ]
  },
  {
   "cell_type": "markdown",
   "id": "d42be1fb",
   "metadata": {},
   "source": [
    "This creates a **one-dimensional array** of integers and strings. You can also create **multi-dimensional arrays** by passing nested lists.\n",
    "\n",
    "NumPy arrays have some important attributes that you should be aware of:\n",
    "\n",
    "**ndarray.ndim**: returns the number of dimensions of the array.\n",
    "\n",
    "**ndarray.shape**: returns a tuple indicating the size of each dimension of the array.\n",
    "\n",
    "**ndarray.size**: returns the total number of elements in the array.\n",
    "\n",
    "**ndarray.dtype**: returns the data type of the elements in the array."
   ]
  },
  {
   "cell_type": "code",
   "execution_count": 4,
   "id": "8e45447e",
   "metadata": {},
   "outputs": [
    {
     "data": {
      "text/plain": [
       "array([[1, 2, 3],\n",
       "       [4, 5, 6],\n",
       "       [7, 8, 9]])"
      ]
     },
     "execution_count": 4,
     "metadata": {},
     "output_type": "execute_result"
    }
   ],
   "source": [
    "array = np.array([[1, 2, 3], [4, 5, 6], [7, 8, 9]])\n",
    "array"
   ]
  },
  {
   "cell_type": "code",
   "execution_count": 5,
   "id": "97042690",
   "metadata": {},
   "outputs": [
    {
     "data": {
      "text/plain": [
       "numpy.ndarray"
      ]
     },
     "execution_count": 5,
     "metadata": {},
     "output_type": "execute_result"
    }
   ],
   "source": [
    "type(array)"
   ]
  },
  {
   "cell_type": "code",
   "execution_count": 6,
   "id": "3200ece4",
   "metadata": {},
   "outputs": [
    {
     "name": "stdout",
     "output_type": "stream",
     "text": [
      "2\n"
     ]
    }
   ],
   "source": [
    "print(array.ndim)"
   ]
  },
  {
   "cell_type": "code",
   "execution_count": 7,
   "id": "4f1e5ad4",
   "metadata": {},
   "outputs": [
    {
     "name": "stdout",
     "output_type": "stream",
     "text": [
      "(3, 3)\n"
     ]
    }
   ],
   "source": [
    "print(array.shape)"
   ]
  },
  {
   "cell_type": "code",
   "execution_count": 8,
   "id": "61fdb4cc",
   "metadata": {},
   "outputs": [
    {
     "name": "stdout",
     "output_type": "stream",
     "text": [
      "9\n"
     ]
    }
   ],
   "source": [
    "print(array.size)"
   ]
  },
  {
   "cell_type": "code",
   "execution_count": 9,
   "id": "85dd6bde",
   "metadata": {},
   "outputs": [
    {
     "name": "stdout",
     "output_type": "stream",
     "text": [
      "int32\n"
     ]
    }
   ],
   "source": [
    "print(array.dtype)"
   ]
  },
  {
   "cell_type": "markdown",
   "id": "ae93e22d",
   "metadata": {},
   "source": [
    "NumPy arrays can be indexed and sliced like Python lists and tuples. You can access individual elements, subsets of elements, and entire rows and columns of the array."
   ]
  },
  {
   "cell_type": "code",
   "execution_count": 10,
   "id": "791344c2",
   "metadata": {},
   "outputs": [
    {
     "name": "stdout",
     "output_type": "stream",
     "text": [
      "[1 2 3]\n"
     ]
    }
   ],
   "source": [
    "print(array[0])"
   ]
  },
  {
   "cell_type": "code",
   "execution_count": 11,
   "id": "e5f5220e",
   "metadata": {},
   "outputs": [
    {
     "name": "stdout",
     "output_type": "stream",
     "text": [
      "[[4 5 6]\n",
      " [7 8 9]]\n"
     ]
    }
   ],
   "source": [
    "print(array[1:3])"
   ]
  },
  {
   "cell_type": "markdown",
   "id": "ddb8ffb8",
   "metadata": {},
   "source": [
    "# NumPy Functions\n",
    "1) **np.zeros()** that creates an array of a given shape and type, filled with zeros.\n",
    "\n",
    "2) **np.ones()** that creates an array of a given shape and type, filled with ones.\n",
    "\n",
    "3) **np.random.rand()** that creates an array of random values with a given shape.\n",
    "\n",
    "4) **np.arange()** that creates an array with evenly spaced values within a given interval.\n",
    "\n",
    "Once you have created a NumPy array, you can access its elements using indexing and slicing, just like you would with a regular Python list:"
   ]
  },
  {
   "cell_type": "code",
   "execution_count": 12,
   "id": "471b3258",
   "metadata": {},
   "outputs": [
    {
     "data": {
      "text/plain": [
       "array([[0, 0, 0],\n",
       "       [0, 0, 0],\n",
       "       [0, 0, 0]])"
      ]
     },
     "execution_count": 12,
     "metadata": {},
     "output_type": "execute_result"
    }
   ],
   "source": [
    "array = np.zeros((3,3), dtype=int, order='C')\n",
    "array"
   ]
  },
  {
   "cell_type": "code",
   "execution_count": 13,
   "id": "1ad81f52",
   "metadata": {},
   "outputs": [
    {
     "data": {
      "text/plain": [
       "array([[1, 1, 1, 1, 1, 1],\n",
       "       [1, 1, 1, 1, 1, 1],\n",
       "       [1, 1, 1, 1, 1, 1]])"
      ]
     },
     "execution_count": 13,
     "metadata": {},
     "output_type": "execute_result"
    }
   ],
   "source": [
    "array = np.ones((3,6), dtype=int, order='C')\n",
    "array"
   ]
  },
  {
   "cell_type": "code",
   "execution_count": 14,
   "id": "885b261d",
   "metadata": {},
   "outputs": [
    {
     "data": {
      "text/plain": [
       "array([[0.45407788, 0.20161646, 0.02328179, 0.22849844, 0.67048805],\n",
       "       [0.43070983, 0.79875095, 0.90713286, 0.31533983, 0.49968154],\n",
       "       [0.13198884, 0.5793321 , 0.30132602, 0.34843259, 0.56642343]])"
      ]
     },
     "execution_count": 14,
     "metadata": {},
     "output_type": "execute_result"
    }
   ],
   "source": [
    "array = np.random.rand(3,5)\n",
    "array"
   ]
  },
  {
   "cell_type": "code",
   "execution_count": 15,
   "id": "a81414d5",
   "metadata": {},
   "outputs": [
    {
     "data": {
      "text/plain": [
       "array([ 1,  3,  5,  7,  9, 11, 13, 15, 17, 19, 21, 23])"
      ]
     },
     "execution_count": 15,
     "metadata": {},
     "output_type": "execute_result"
    }
   ],
   "source": [
    "#np.arange(start, stop, step, dtype=None)\n",
    "\n",
    "array = np.arange(1, 25, 2, dtype = int)\n",
    "array"
   ]
  },
  {
   "cell_type": "markdown",
   "id": "e74ccd40",
   "metadata": {},
   "source": [
    "NumPy also provides various mathematical operations for arrays, such as **addition**, **subtraction**, **multiplication**, **division**, **dot product**, and more. These operations can be performed element-wise or with entire arrays, depending on the specific operation and arguments used."
   ]
  },
  {
   "cell_type": "code",
   "execution_count": 16,
   "id": "8565a295",
   "metadata": {},
   "outputs": [
    {
     "data": {
      "text/plain": [
       "array([11, 13, 15, 17, 19, 21, 23, 25, 27, 29, 31, 33])"
      ]
     },
     "execution_count": 16,
     "metadata": {},
     "output_type": "execute_result"
    }
   ],
   "source": [
    "addition_arr = array + 10\n",
    "addition_arr"
   ]
  },
  {
   "cell_type": "code",
   "execution_count": 17,
   "id": "1fd4fd3d",
   "metadata": {},
   "outputs": [
    {
     "data": {
      "text/plain": [
       "array([-9, -7, -5, -3, -1,  1,  3,  5,  7,  9, 11, 13])"
      ]
     },
     "execution_count": 17,
     "metadata": {},
     "output_type": "execute_result"
    }
   ],
   "source": [
    "subtraction_arr = array - 10\n",
    "subtraction_arr"
   ]
  },
  {
   "cell_type": "code",
   "execution_count": 18,
   "id": "a5841791",
   "metadata": {},
   "outputs": [
    {
     "data": {
      "text/plain": [
       "array([ 100,  300,  500,  700,  900, 1100, 1300, 1500, 1700, 1900, 2100,\n",
       "       2300])"
      ]
     },
     "execution_count": 18,
     "metadata": {},
     "output_type": "execute_result"
    }
   ],
   "source": [
    "multiplication_arr = array * 100\n",
    "multiplication_arr"
   ]
  },
  {
   "cell_type": "code",
   "execution_count": 19,
   "id": "5293fcc0",
   "metadata": {},
   "outputs": [
    {
     "data": {
      "text/plain": [
       "array([0.1, 0.3, 0.5, 0.7, 0.9, 1.1, 1.3, 1.5, 1.7, 1.9, 2.1, 2.3])"
      ]
     },
     "execution_count": 19,
     "metadata": {},
     "output_type": "execute_result"
    }
   ],
   "source": [
    "division_arr = array / 10\n",
    "division_arr"
   ]
  },
  {
   "cell_type": "code",
   "execution_count": 20,
   "id": "5f82638d",
   "metadata": {},
   "outputs": [
    {
     "name": "stdout",
     "output_type": "stream",
     "text": [
      "Addition:\n",
      " [[ 6  8]\n",
      " [10 12]]\n"
     ]
    }
   ],
   "source": [
    "# create two arrays of the same shape\n",
    "a = np.array([[1, 2], [3, 4]])\n",
    "b = np.array([[5, 6], [7, 8]])\n",
    "\n",
    "# addition\n",
    "c = a + b\n",
    "print(\"Addition:\\n\", c)"
   ]
  },
  {
   "cell_type": "code",
   "execution_count": 21,
   "id": "bf61cbcf",
   "metadata": {},
   "outputs": [
    {
     "name": "stdout",
     "output_type": "stream",
     "text": [
      "Subtraction:\n",
      " [[-4 -4]\n",
      " [-4 -4]]\n"
     ]
    }
   ],
   "source": [
    "# subtraction\n",
    "d = a - b\n",
    "print(\"Subtraction:\\n\", d)"
   ]
  },
  {
   "cell_type": "code",
   "execution_count": 22,
   "id": "c25c7f92",
   "metadata": {},
   "outputs": [
    {
     "name": "stdout",
     "output_type": "stream",
     "text": [
      "Element-wise multiplication:\n",
      " [[ 5 12]\n",
      " [21 32]]\n"
     ]
    }
   ],
   "source": [
    "# multiplication (element-wise)\n",
    "e = a * b\n",
    "print(\"Element-wise multiplication:\\n\", e)"
   ]
  },
  {
   "cell_type": "code",
   "execution_count": 23,
   "id": "5937238a",
   "metadata": {},
   "outputs": [
    {
     "name": "stdout",
     "output_type": "stream",
     "text": [
      "Element-wise division:\n",
      " [[0.2        0.33333333]\n",
      " [0.42857143 0.5       ]]\n"
     ]
    }
   ],
   "source": [
    "# division (element-wise)\n",
    "f = a / b\n",
    "print(\"Element-wise division:\\n\", f)"
   ]
  },
  {
   "cell_type": "code",
   "execution_count": 24,
   "id": "11f3390d",
   "metadata": {},
   "outputs": [
    {
     "name": "stdout",
     "output_type": "stream",
     "text": [
      "Dot product:\n",
      " [[19 22]\n",
      " [43 50]]\n"
     ]
    }
   ],
   "source": [
    "# dot product\n",
    "g = np.dot(a, b)\n",
    "print(\"Dot product:\\n\", g)"
   ]
  },
  {
   "cell_type": "code",
   "execution_count": 25,
   "id": "1d0d56da",
   "metadata": {},
   "outputs": [
    {
     "name": "stdout",
     "output_type": "stream",
     "text": [
      "Sum of all elements in a:\n",
      " 10\n"
     ]
    }
   ],
   "source": [
    "# sum of all elements\n",
    "h = np.sum(a)\n",
    "print(\"Sum of all elements in a:\\n\", h)"
   ]
  },
  {
   "cell_type": "code",
   "execution_count": null,
   "id": "0b532b12",
   "metadata": {},
   "outputs": [],
   "source": []
  }
 ],
 "metadata": {
  "kernelspec": {
   "display_name": "Python 3 (ipykernel)",
   "language": "python",
   "name": "python3"
  },
  "language_info": {
   "codemirror_mode": {
    "name": "ipython",
    "version": 3
   },
   "file_extension": ".py",
   "mimetype": "text/x-python",
   "name": "python",
   "nbconvert_exporter": "python",
   "pygments_lexer": "ipython3",
   "version": "3.8.0"
  }
 },
 "nbformat": 4,
 "nbformat_minor": 5
}
