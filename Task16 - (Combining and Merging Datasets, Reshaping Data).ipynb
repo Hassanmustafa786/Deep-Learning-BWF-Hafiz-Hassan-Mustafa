{
 "cells": [
  {
   "cell_type": "markdown",
   "id": "2761c254",
   "metadata": {},
   "source": [
    "# Importing Python libraries"
   ]
  },
  {
   "cell_type": "code",
   "execution_count": 1,
   "id": "cc774f40",
   "metadata": {},
   "outputs": [],
   "source": [
    "import pandas as pd"
   ]
  },
  {
   "cell_type": "markdown",
   "id": "68bc3a14",
   "metadata": {},
   "source": [
    "# Combining Datasets\n",
    "Concatenating DataFrames allows you to combine two or more DataFrames into a single DataFrame. You can concatenate DataFrames horizontally (along columns) or vertically (along rows).\n",
    "\n",
    "To concatenate DataFrames vertically, use the **concat()** function from the pandas library."
   ]
  },
  {
   "cell_type": "code",
   "execution_count": 2,
   "id": "6e8b2548",
   "metadata": {},
   "outputs": [
    {
     "name": "stdout",
     "output_type": "stream",
     "text": [
      "   A  B\n",
      "0  1  3\n",
      "1  2  4\n",
      "0  5  7\n",
      "1  6  8\n"
     ]
    }
   ],
   "source": [
    "df1 = pd.DataFrame({'A': [1, 2], 'B': [3, 4]})\n",
    "df2 = pd.DataFrame({'A': [5, 6], 'B': [7, 8]})\n",
    "\n",
    "# concatenate the DataFrames vertically\n",
    "result_1 = pd.concat([df1, df2])\n",
    "print(result_1)"
   ]
  },
  {
   "cell_type": "code",
   "execution_count": 3,
   "id": "1fb1e2b4",
   "metadata": {},
   "outputs": [
    {
     "name": "stdout",
     "output_type": "stream",
     "text": [
      "   A  B  A  B\n",
      "0  1  3  5  7\n",
      "1  2  4  6  8\n"
     ]
    }
   ],
   "source": [
    "#To concatenate DataFrames horizontally, set the axis parameter to 1\n",
    "result_2 = pd.concat([df1, df2], axis=1)\n",
    "print(result_2)"
   ]
  },
  {
   "cell_type": "markdown",
   "id": "fb223dbf",
   "metadata": {},
   "source": [
    "# Merging DataFrames\n",
    "Merging DataFrames allows you to combine two or more DataFrames based on a common column or index. To merge DataFrames, use the **merge()** function from the pandas library."
   ]
  },
  {
   "cell_type": "code",
   "execution_count": 4,
   "id": "f57fe212",
   "metadata": {},
   "outputs": [
    {
     "name": "stdout",
     "output_type": "stream",
     "text": [
      "  key  value_x  value_y\n",
      "0   B        2        5\n",
      "1   D        4        6\n"
     ]
    }
   ],
   "source": [
    "#We merged the two DataFrames df1 and df2 based on the 'key' column,\n",
    "#And only the rows where the 'key' column had a common value were included in the result...\n",
    "\n",
    "df1 = pd.DataFrame({'key': ['A', 'B', 'C', 'D'], 'value': [1, 2, 3, 4]})\n",
    "df2 = pd.DataFrame({'key': ['B', 'D', 'E', 'F'], 'value': [5, 6, 7, 8]})\n",
    "\n",
    "# merge the DataFrames based on the 'key' column\n",
    "result = pd.merge(df1, df2, on='key')\n",
    "print(result)"
   ]
  },
  {
   "cell_type": "markdown",
   "id": "63c51386",
   "metadata": {},
   "source": [
    "# Reshaping Data\n",
    "Reshaping data in Python is a common task when working with data. There are several ways to reshape data, including:\n",
    "1. Transposing data allows you to swap rows and columns in a DataFrame. To transpose a DataFrame, use the **transpose()** method or the .T attribute.\n",
    "2. Melting data allows you to transform a DataFrame from wide format to long format by unpivoting data. To melt a DataFrame, use the **melt()** function from the pandas library.\n",
    "3. Pivoting data allows you to transform a DataFrame from long format to wide format by creating a new column for each unique value in a specified column. To pivot a DataFrame, use the **pivot()** or **pivot_table()** function from the pandas library."
   ]
  },
  {
   "cell_type": "code",
   "execution_count": 5,
   "id": "472ee3b4",
   "metadata": {},
   "outputs": [
    {
     "name": "stdout",
     "output_type": "stream",
     "text": [
      "   A  B  C\n",
      "0  1  4  7\n",
      "1  2  5  8\n",
      "2  3  6  9\n",
      "----------\n",
      "   0  1  2\n",
      "A  1  2  3\n",
      "B  4  5  6\n",
      "C  7  8  9\n"
     ]
    }
   ],
   "source": [
    "df = pd.DataFrame({'A': [1, 2, 3], 'B': [4, 5, 6], 'C': [7, 8, 9]})\n",
    "print(df)\n",
    "print(\"----------\")\n",
    "# transpose the DataFrame\n",
    "transposed_df = df.transpose()\n",
    "print(transposed_df)"
   ]
  },
  {
   "cell_type": "code",
   "execution_count": 6,
   "id": "8f4fa3c4",
   "metadata": {},
   "outputs": [
    {
     "name": "stdout",
     "output_type": "stream",
     "text": [
      "    Name  Math  Science\n",
      "0   John    90       85\n",
      "1   Mary    80       75\n",
      "2  Peter    70       65\n",
      "------------------------\n",
      "    Name  Subject  Score\n",
      "0   John     Math     90\n",
      "1   Mary     Math     80\n",
      "2  Peter     Math     70\n",
      "3   John  Science     85\n",
      "4   Mary  Science     75\n",
      "5  Peter  Science     65\n"
     ]
    }
   ],
   "source": [
    "df = pd.DataFrame({'Name': ['John', 'Mary', 'Peter'],\n",
    "                   'Math': [90, 80, 70],\n",
    "                   'Science': [85, 75, 65]})\n",
    "print(df)\n",
    "print(\"------------------------\")\n",
    "# melt the DataFrame\n",
    "melted_df = pd.melt(df, id_vars=['Name'], var_name='Subject', value_name='Score')\n",
    "print(melted_df)"
   ]
  },
  {
   "cell_type": "code",
   "execution_count": 7,
   "id": "5975c76f",
   "metadata": {},
   "outputs": [
    {
     "name": "stdout",
     "output_type": "stream",
     "text": [
      "    Name  Subject  Score\n",
      "0   John     Math     90\n",
      "1   Mary     Math     80\n",
      "2  Peter     Math     70\n",
      "3   John  Science     85\n",
      "4   Mary  Science     75\n",
      "5  Peter  Science     65\n",
      "-------------------------------\n",
      "Subject  Math  Science\n",
      "Name                  \n",
      "John       90       85\n",
      "Mary       80       75\n",
      "Peter      70       65\n"
     ]
    }
   ],
   "source": [
    "df = pd.DataFrame({'Name': ['John', 'Mary', 'Peter', 'John', 'Mary', 'Peter'],\n",
    "                   'Subject': ['Math', 'Math', 'Math', 'Science', 'Science', 'Science'],\n",
    "                   'Score': [90, 80, 70, 85, 75, 65]})\n",
    "print(df)\n",
    "print(\"-------------------------------\")\n",
    "# pivot the DataFrame\n",
    "pivoted_df = df.pivot(index='Name', columns='Subject', values='Score')\n",
    "print(pivoted_df)"
   ]
  },
  {
   "cell_type": "code",
   "execution_count": null,
   "id": "90083ad1",
   "metadata": {},
   "outputs": [],
   "source": []
  }
 ],
 "metadata": {
  "kernelspec": {
   "display_name": "Python 3 (ipykernel)",
   "language": "python",
   "name": "python3"
  },
  "language_info": {
   "codemirror_mode": {
    "name": "ipython",
    "version": 3
   },
   "file_extension": ".py",
   "mimetype": "text/x-python",
   "name": "python",
   "nbconvert_exporter": "python",
   "pygments_lexer": "ipython3",
   "version": "3.8.0"
  }
 },
 "nbformat": 4,
 "nbformat_minor": 5
}
