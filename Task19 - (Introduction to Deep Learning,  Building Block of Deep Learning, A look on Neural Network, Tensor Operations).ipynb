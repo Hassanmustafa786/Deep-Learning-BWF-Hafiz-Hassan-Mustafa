{
 "cells": [
  {
   "cell_type": "markdown",
   "id": "ae68e9f7",
   "metadata": {},
   "source": [
    "# Introduction to Deep Learning\n",
    "Deep Learning is a subfield of machine learning and artificial intelligence that is concerned with the development of algorithms that can learn to perform complex tasks by training on large sets of data. Deep learning models are designed to mimic the way that the human brain works by using interconnected layers of artificial neurons to process and interpret information.\n",
    "\n",
    "The key advantage of deep learning over traditional machine learning algorithms is its ability to automatically learn hierarchical representations of data, which can capture complex patterns and relationships within the data. This makes deep learning particularly effective for tasks such as image and speech recognition, natural language processing, and decision making.\n",
    "\n",
    "Deep learning models typically consist of multiple layers of artificial neurons, each of which performs a simple computation on its inputs and passes the result on to the next layer. The output of the final layer is used to make a prediction or decision based on the input data.\n",
    "\n",
    "Training a deep learning model involves optimizing the parameters of the neural network to minimize the difference between the model's predictions and the actual output. This is typically done using a technique called backpropagation, which calculates the gradient of the loss function with respect to each parameter in the model and adjusts the parameters accordingly.\n",
    "\n",
    "Recent advances in deep learning, particularly with the development of large-scale neural networks and the availability of massive datasets, have led to significant improvements in the accuracy and performance of many AI applications, and have contributed to the rapid growth of the AI industry."
   ]
  },
  {
   "cell_type": "code",
   "execution_count": 19,
   "id": "2f7135bf",
   "metadata": {},
   "outputs": [
    {
     "data": {
      "text/html": [
       "<img src=\"https://miro.medium.com/max/896/1*h_yloQIVEY2vaca31HN8HA.png\"/>"
      ],
      "text/plain": [
       "<IPython.core.display.Image object>"
      ]
     },
     "execution_count": 19,
     "metadata": {},
     "output_type": "execute_result"
    }
   ],
   "source": [
    "from IPython.display import Image\n",
    "Image(url='https://miro.medium.com/max/896/1*h_yloQIVEY2vaca31HN8HA.png')"
   ]
  },
  {
   "cell_type": "markdown",
   "id": "070df450",
   "metadata": {},
   "source": [
    "# Building Block of Deep Learning\n",
    "The building block of deep learning is the artificial neural network. An artificial neural network is a mathematical model that is designed to mimic the structure and function of the human brain. It is composed of interconnected layers of artificial neurons, each of which performs a simple computation on its inputs and passes the result on to the next layer.\n",
    "\n",
    "The most common type of neural network used in deep learning is the feedforward neural network, which consists of an input layer, one or more hidden layers, and an output layer. The input layer takes in the raw input data, such as an image or a piece of text, and passes it on to the first hidden layer. Each hidden layer applies a series of mathematical transformations to the input data to produce a new representation, which is then passed on to the next layer. The final layer produces the output of the network, such as a classification label or a numerical value.\n",
    "\n",
    "Another important building block of deep learning is the activation function. The activation function is a mathematical function that is applied to the output of each artificial neuron in a neural network. It introduces non-linearity into the network, which allows it to capture complex patterns and relationships within the data. Some common activation functions used in deep learning include the sigmoid function, the ReLU (Rectified Linear Unit) function, and the softmax function.\n",
    "\n",
    "The optimization algorithm is also a crucial component of deep learning. Optimization algorithms are used to adjust the parameters of the neural network during the training process to minimize the difference between the model's predictions and the actual output. The most popular optimization algorithm used in deep learning is gradient descent, which iteratively adjusts the parameters of the network based on the gradient of the loss function with respect to each parameter.\n",
    "\n",
    "Finally, deep learning also relies on large amounts of data for training. The more data a neural network is trained on, the better it becomes at generalizing to new, unseen data. Therefore, data preparation and preprocessing are critical steps in building effective deep learning models."
   ]
  },
  {
   "cell_type": "code",
   "execution_count": 1,
   "id": "6a1103ac",
   "metadata": {},
   "outputs": [
    {
     "name": "stdout",
     "output_type": "stream",
     "text": [
      "2.8.0\n"
     ]
    }
   ],
   "source": [
    "import tensorflow as tf\n",
    "print(tf.__version__)"
   ]
  },
  {
   "cell_type": "code",
   "execution_count": 2,
   "id": "4e7f925d",
   "metadata": {},
   "outputs": [],
   "source": [
    "from tensorflow.keras.datasets import mnist\n",
    "(train_images, train_labels),(test_images, test_labels) = mnist.load_data()"
   ]
  },
  {
   "cell_type": "code",
   "execution_count": 3,
   "id": "a135d00d",
   "metadata": {},
   "outputs": [
    {
     "data": {
      "text/plain": [
       "array([[  0,   0,   0,   0,   0,   0,   0,   0,   0,   0,   0,   0,   0,\n",
       "          0,   0,   0,   0,   0,   0,   0,   0,   0,   0,   0,   0,   0,\n",
       "          0,   0],\n",
       "       [  0,   0,   0,   0,   0,   0,   0,   0,   0,   0,   0,   0,   0,\n",
       "          0,   0,   0,   0,   0,   0,   0,   0,   0,   0,   0,   0,   0,\n",
       "          0,   0],\n",
       "       [  0,   0,   0,   0,   0,   0,   0,   0,   0,   0,   0,   0,   0,\n",
       "          0,   0,   0,   0,   0,   0,   0,   0,   0,   0,   0,   0,   0,\n",
       "          0,   0],\n",
       "       [  0,   0,   0,   0,   0,   0,   0,   0,   0,   0,   0,   0,   0,\n",
       "          0,   0,   0,   0,   0,   0,   0,   0,   0,   0,   0,   0,   0,\n",
       "          0,   0],\n",
       "       [  0,   0,   0,   0,   0,   0,   0,   0,   0,   0,   0,   0,   0,\n",
       "          0,   0,   0,   0,   0,   0,   0,   0,   0,   0,   0,   0,   0,\n",
       "          0,   0],\n",
       "       [  0,   0,   0,   0,   0,   0,   0,   0,   0,   0,   0,   0,   3,\n",
       "         18,  18,  18, 126, 136, 175,  26, 166, 255, 247, 127,   0,   0,\n",
       "          0,   0],\n",
       "       [  0,   0,   0,   0,   0,   0,   0,   0,  30,  36,  94, 154, 170,\n",
       "        253, 253, 253, 253, 253, 225, 172, 253, 242, 195,  64,   0,   0,\n",
       "          0,   0],\n",
       "       [  0,   0,   0,   0,   0,   0,   0,  49, 238, 253, 253, 253, 253,\n",
       "        253, 253, 253, 253, 251,  93,  82,  82,  56,  39,   0,   0,   0,\n",
       "          0,   0],\n",
       "       [  0,   0,   0,   0,   0,   0,   0,  18, 219, 253, 253, 253, 253,\n",
       "        253, 198, 182, 247, 241,   0,   0,   0,   0,   0,   0,   0,   0,\n",
       "          0,   0],\n",
       "       [  0,   0,   0,   0,   0,   0,   0,   0,  80, 156, 107, 253, 253,\n",
       "        205,  11,   0,  43, 154,   0,   0,   0,   0,   0,   0,   0,   0,\n",
       "          0,   0],\n",
       "       [  0,   0,   0,   0,   0,   0,   0,   0,   0,  14,   1, 154, 253,\n",
       "         90,   0,   0,   0,   0,   0,   0,   0,   0,   0,   0,   0,   0,\n",
       "          0,   0],\n",
       "       [  0,   0,   0,   0,   0,   0,   0,   0,   0,   0,   0, 139, 253,\n",
       "        190,   2,   0,   0,   0,   0,   0,   0,   0,   0,   0,   0,   0,\n",
       "          0,   0],\n",
       "       [  0,   0,   0,   0,   0,   0,   0,   0,   0,   0,   0,  11, 190,\n",
       "        253,  70,   0,   0,   0,   0,   0,   0,   0,   0,   0,   0,   0,\n",
       "          0,   0],\n",
       "       [  0,   0,   0,   0,   0,   0,   0,   0,   0,   0,   0,   0,  35,\n",
       "        241, 225, 160, 108,   1,   0,   0,   0,   0,   0,   0,   0,   0,\n",
       "          0,   0],\n",
       "       [  0,   0,   0,   0,   0,   0,   0,   0,   0,   0,   0,   0,   0,\n",
       "         81, 240, 253, 253, 119,  25,   0,   0,   0,   0,   0,   0,   0,\n",
       "          0,   0],\n",
       "       [  0,   0,   0,   0,   0,   0,   0,   0,   0,   0,   0,   0,   0,\n",
       "          0,  45, 186, 253, 253, 150,  27,   0,   0,   0,   0,   0,   0,\n",
       "          0,   0],\n",
       "       [  0,   0,   0,   0,   0,   0,   0,   0,   0,   0,   0,   0,   0,\n",
       "          0,   0,  16,  93, 252, 253, 187,   0,   0,   0,   0,   0,   0,\n",
       "          0,   0],\n",
       "       [  0,   0,   0,   0,   0,   0,   0,   0,   0,   0,   0,   0,   0,\n",
       "          0,   0,   0,   0, 249, 253, 249,  64,   0,   0,   0,   0,   0,\n",
       "          0,   0],\n",
       "       [  0,   0,   0,   0,   0,   0,   0,   0,   0,   0,   0,   0,   0,\n",
       "          0,  46, 130, 183, 253, 253, 207,   2,   0,   0,   0,   0,   0,\n",
       "          0,   0],\n",
       "       [  0,   0,   0,   0,   0,   0,   0,   0,   0,   0,   0,   0,  39,\n",
       "        148, 229, 253, 253, 253, 250, 182,   0,   0,   0,   0,   0,   0,\n",
       "          0,   0],\n",
       "       [  0,   0,   0,   0,   0,   0,   0,   0,   0,   0,  24, 114, 221,\n",
       "        253, 253, 253, 253, 201,  78,   0,   0,   0,   0,   0,   0,   0,\n",
       "          0,   0],\n",
       "       [  0,   0,   0,   0,   0,   0,   0,   0,  23,  66, 213, 253, 253,\n",
       "        253, 253, 198,  81,   2,   0,   0,   0,   0,   0,   0,   0,   0,\n",
       "          0,   0],\n",
       "       [  0,   0,   0,   0,   0,   0,  18, 171, 219, 253, 253, 253, 253,\n",
       "        195,  80,   9,   0,   0,   0,   0,   0,   0,   0,   0,   0,   0,\n",
       "          0,   0],\n",
       "       [  0,   0,   0,   0,  55, 172, 226, 253, 253, 253, 253, 244, 133,\n",
       "         11,   0,   0,   0,   0,   0,   0,   0,   0,   0,   0,   0,   0,\n",
       "          0,   0],\n",
       "       [  0,   0,   0,   0, 136, 253, 253, 253, 212, 135, 132,  16,   0,\n",
       "          0,   0,   0,   0,   0,   0,   0,   0,   0,   0,   0,   0,   0,\n",
       "          0,   0],\n",
       "       [  0,   0,   0,   0,   0,   0,   0,   0,   0,   0,   0,   0,   0,\n",
       "          0,   0,   0,   0,   0,   0,   0,   0,   0,   0,   0,   0,   0,\n",
       "          0,   0],\n",
       "       [  0,   0,   0,   0,   0,   0,   0,   0,   0,   0,   0,   0,   0,\n",
       "          0,   0,   0,   0,   0,   0,   0,   0,   0,   0,   0,   0,   0,\n",
       "          0,   0],\n",
       "       [  0,   0,   0,   0,   0,   0,   0,   0,   0,   0,   0,   0,   0,\n",
       "          0,   0,   0,   0,   0,   0,   0,   0,   0,   0,   0,   0,   0,\n",
       "          0,   0]], dtype=uint8)"
      ]
     },
     "execution_count": 3,
     "metadata": {},
     "output_type": "execute_result"
    }
   ],
   "source": [
    "train_images[0]"
   ]
  },
  {
   "cell_type": "code",
   "execution_count": 4,
   "id": "26ac604f",
   "metadata": {},
   "outputs": [
    {
     "data": {
      "text/plain": [
       "2"
      ]
     },
     "execution_count": 4,
     "metadata": {},
     "output_type": "execute_result"
    }
   ],
   "source": [
    "train_images[0].ndim"
   ]
  },
  {
   "cell_type": "code",
   "execution_count": 5,
   "id": "c2a009d8",
   "metadata": {},
   "outputs": [
    {
     "data": {
      "text/plain": [
       "(28, 28)"
      ]
     },
     "execution_count": 5,
     "metadata": {},
     "output_type": "execute_result"
    }
   ],
   "source": [
    "train_images[0].shape"
   ]
  },
  {
   "cell_type": "code",
   "execution_count": 6,
   "id": "8bc36a55",
   "metadata": {},
   "outputs": [
    {
     "data": {
      "text/plain": [
       "(60000, 28, 28)"
      ]
     },
     "execution_count": 6,
     "metadata": {},
     "output_type": "execute_result"
    }
   ],
   "source": [
    "train_images.shape"
   ]
  },
  {
   "cell_type": "code",
   "execution_count": 7,
   "id": "fd8bd868",
   "metadata": {},
   "outputs": [
    {
     "data": {
      "text/plain": [
       "(10000, 28, 28)"
      ]
     },
     "execution_count": 7,
     "metadata": {},
     "output_type": "execute_result"
    }
   ],
   "source": [
    "test_images.shape"
   ]
  },
  {
   "cell_type": "code",
   "execution_count": 8,
   "id": "337bebe8",
   "metadata": {},
   "outputs": [
    {
     "data": {
      "text/plain": [
       "5"
      ]
     },
     "execution_count": 8,
     "metadata": {},
     "output_type": "execute_result"
    }
   ],
   "source": [
    "train_labels[0]"
   ]
  },
  {
   "cell_type": "code",
   "execution_count": 9,
   "id": "b2a7efcc",
   "metadata": {},
   "outputs": [],
   "source": [
    "#Network Architecture\n",
    "from tensorflow.keras import models\n",
    "from tensorflow.keras import layers\n",
    "network = models.Sequential()\n",
    "network.add(layers.Dense(512, activation='relu', input_shape=(28*28,)))\n",
    "network.add(layers.Dense(10, activation='softmax'))"
   ]
  },
  {
   "cell_type": "code",
   "execution_count": 10,
   "id": "b703f151",
   "metadata": {},
   "outputs": [],
   "source": [
    "#Compilation Step\n",
    "network.compile(optimizer='rmsprop', loss='categorical_crossentropy', metrics=['accuracy'])"
   ]
  },
  {
   "cell_type": "code",
   "execution_count": 11,
   "id": "c33e8502",
   "metadata": {},
   "outputs": [],
   "source": [
    "#Preparing the image data\n",
    "train_images = train_images.reshape((60000,28*28))\n",
    "train_images = train_images.astype('float32') / 255\n",
    "test_images = test_images.reshape((10000,28*28))\n",
    "test_images = test_images.astype('float32') / 255"
   ]
  },
  {
   "cell_type": "code",
   "execution_count": 12,
   "id": "fec82da1",
   "metadata": {},
   "outputs": [],
   "source": [
    "#Preaparing the labels\n",
    "from tensorflow.keras.utils import to_categorical\n",
    "train_labels = to_categorical(train_labels)\n",
    "test_labels = to_categorical(test_labels)"
   ]
  },
  {
   "cell_type": "code",
   "execution_count": 13,
   "id": "84aba73e",
   "metadata": {},
   "outputs": [
    {
     "name": "stdout",
     "output_type": "stream",
     "text": [
      "Epoch 1/5\n",
      "469/469 [==============================] - 6s 11ms/step - loss: 0.2556 - accuracy: 0.9265\n",
      "Epoch 2/5\n",
      "469/469 [==============================] - 5s 11ms/step - loss: 0.1044 - accuracy: 0.9689\n",
      "Epoch 3/5\n",
      "469/469 [==============================] - 5s 11ms/step - loss: 0.0676 - accuracy: 0.9802\n",
      "Epoch 4/5\n",
      "469/469 [==============================] - 5s 11ms/step - loss: 0.0489 - accuracy: 0.9855\n",
      "Epoch 5/5\n",
      "469/469 [==============================] - 5s 11ms/step - loss: 0.0378 - accuracy: 0.9887\n"
     ]
    },
    {
     "data": {
      "text/plain": [
       "<keras.callbacks.History at 0x2c9952ef0d0>"
      ]
     },
     "execution_count": 13,
     "metadata": {},
     "output_type": "execute_result"
    }
   ],
   "source": [
    "#Training Step\n",
    "network.fit(train_images, train_labels, epochs= 5, batch_size= 128)"
   ]
  },
  {
   "cell_type": "code",
   "execution_count": 14,
   "id": "1a939d99",
   "metadata": {},
   "outputs": [
    {
     "name": "stdout",
     "output_type": "stream",
     "text": [
      "313/313 [==============================] - 1s 3ms/step - loss: 0.0644 - accuracy: 0.9805\n",
      "test_acc: 0.9804999828338623\n"
     ]
    }
   ],
   "source": [
    "#Testing Step\n",
    "test_loss, test_acc = network.evaluate(test_images, test_labels)\n",
    "print('test_acc:', test_acc)"
   ]
  },
  {
   "cell_type": "code",
   "execution_count": 15,
   "id": "078fb568",
   "metadata": {},
   "outputs": [
    {
     "data": {
      "text/plain": [
       "array([1.1525233e-08, 4.6937593e-11, 1.0075667e-06, 2.5818739e-04,\n",
       "       8.1579153e-12, 6.5218103e-08, 6.8408571e-13, 9.9974018e-01,\n",
       "       5.8743353e-08, 3.9273297e-07], dtype=float32)"
      ]
     },
     "execution_count": 15,
     "metadata": {},
     "output_type": "execute_result"
    }
   ],
   "source": [
    "network.predict(test_images)[0]"
   ]
  },
  {
   "cell_type": "code",
   "execution_count": 16,
   "id": "707a7499",
   "metadata": {},
   "outputs": [],
   "source": [
    "from tensorflow.keras.datasets import mnist\n",
    "(train_images, train_labels),(test_images, test_labels) = mnist.load_data()"
   ]
  },
  {
   "cell_type": "code",
   "execution_count": 17,
   "id": "99b62ee7",
   "metadata": {},
   "outputs": [
    {
     "data": {
      "text/plain": [
       "<function matplotlib.pyplot.show(close=None, block=None)>"
      ]
     },
     "execution_count": 17,
     "metadata": {},
     "output_type": "execute_result"
    },
    {
     "data": {
      "image/png": "[encoded data removed]",
      "text/plain": [
       "<Figure size 640x480 with 1 Axes>"
      ]
     },
     "metadata": {},
     "output_type": "display_data"
    }
   ],
   "source": [
    "digit = train_images[4]\n",
    "import matplotlib.pyplot as plt\n",
    "plt.imshow(digit, cmap = plt.cm.binary)\n",
    "plt.show"
   ]
  },
  {
   "cell_type": "code",
   "execution_count": 18,
   "id": "c41854d5",
   "metadata": {},
   "outputs": [
    {
     "data": {
      "text/plain": [
       "9"
      ]
     },
     "execution_count": 18,
     "metadata": {},
     "output_type": "execute_result"
    }
   ],
   "source": [
    "train_labels[4]"
   ]
  },
  {
   "cell_type": "markdown",
   "id": "c644397e",
   "metadata": {},
   "source": [
    "# A look on Neural Network\n",
    "A neural network is a type of machine learning algorithm that is modeled after the structure and function of the human brain. It is composed of interconnected layers of artificial neurons that work together to perform a specific task, such as image recognition or natural language processing.\n",
    "\n",
    "The basic building block of a neural network is the artificial neuron, also known as a node. An artificial neuron receives one or more inputs, which are weighted and combined with a bias term to produce an output. The output of the neuron is then passed on to the next layer of neurons in the network.\n",
    "\n",
    "Neural networks can have multiple layers of neurons, with each layer performing a different type of computation on the input data. The input layer receives the raw input data, such as an image or a piece of text, and passes it on to the first hidden layer. Each subsequent layer applies a series of mathematical transformations to the input data to produce a new representation, which is then passed on to the next layer.\n",
    "\n",
    "The output layer of a neural network produces the final output of the model, such as a classification label or a numerical value. The output is computed based on the activation function of the final layer and the weighted sum of the outputs of the previous layer.\n",
    "\n",
    "During training, the parameters of the neural network, such as the weights and biases, are adjusted using an optimization algorithm such as stochastic gradient descent. The goal of training is to minimize the difference between the output of the neural network and the actual output, as measured by a loss function.\n",
    "\n",
    "Neural networks have been successfully applied to a wide range of applications, including computer vision, natural language processing, speech recognition, and recommendation systems. One of the advantages of neural networks is their ability to learn complex patterns and relationships within the data, which makes them highly effective for tasks that are difficult to solve using traditional machine learning algorithms."
   ]
  },
  {
   "cell_type": "code",
   "execution_count": 23,
   "id": "37267891",
   "metadata": {},
   "outputs": [
    {
     "data": {
      "text/html": [
       "<img src=\"https://miro.medium.com/max/1280/1*e4q3pUGTsHOFYP9Us6hucQ.gif\"/>"
      ],
      "text/plain": [
       "<IPython.core.display.Image object>"
      ]
     },
     "execution_count": 23,
     "metadata": {},
     "output_type": "execute_result"
    }
   ],
   "source": [
    "# Helps to visualize the process...\n",
    "from IPython.display import Image\n",
    "Image(url='https://miro.medium.com/max/1280/1*e4q3pUGTsHOFYP9Us6hucQ.gif')"
   ]
  },
  {
   "cell_type": "code",
   "execution_count": 20,
   "id": "ea1b4f4e",
   "metadata": {},
   "outputs": [
    {
     "data": {
      "text/html": [
       "<img src=\"https://uploads-ssl.webflow.com/5e406ebd483f3d05807695ac/5ef6264e9c8fd93380694488_5Id6AXaCeXDHL9XaW-j7StiEljSqIDbSFH2nSMBJ9eVZIjuePiG-Kgk3ioicpnxA-OLa09yFUsBr-EG1AVZ33CfEx1DFKoDGPD616yGnuT8j_xQ-KW66mXxmAuVPbIqKn4n9vxMF.png\"/>"
      ],
      "text/plain": [
       "<IPython.core.display.Image object>"
      ]
     },
     "execution_count": 20,
     "metadata": {},
     "output_type": "execute_result"
    }
   ],
   "source": [
    "from IPython.display import Image\n",
    "Image(url='https://uploads-ssl.webflow.com/5e406ebd483f3d05807695ac/5ef6264e9c8fd93380694488_5Id6AXaCeXDHL9XaW-j7StiEljSqIDbSFH2nSMBJ9eVZIjuePiG-Kgk3ioicpnxA-OLa09yFUsBr-EG1AVZ33CfEx1DFKoDGPD616yGnuT8j_xQ-KW66mXxmAuVPbIqKn4n9vxMF.png')"
   ]
  },
  {
   "cell_type": "markdown",
   "id": "6489889c",
   "metadata": {},
   "source": [
    "# Tensor Operations\n",
    "Tensor operations are a fundamental component of many machine learning and deep learning algorithms. A tensor is a mathematical object that generalizes scalars, vectors, and matrices to higher dimensions. Tensors are used to represent and manipulate multi-dimensional data, such as images, videos, and text.\n",
    "\n",
    "Tensor operations are mathematical operations that are performed on tensors. The most common tensor operations are:\n",
    "\n",
    "1. **Element-wise Operations:** These operations are performed on individual elements of two or more tensors, such as addition, subtraction, multiplication, and division.\n",
    "2. **Dot Product:** The dot product is a scalar value that results from multiplying two vectors together element-wise and summing the result. It is used for tasks like computing similarity between vectors or projecting one vector onto another.\n",
    "3. **Matrix Multiplication:** Matrix multiplication is used extensively in deep learning for tasks such as weight updates in neural networks. It involves multiplying two matrices and summing the result along one dimension.\n",
    "4. **Transpose:** The transpose of a tensor flips its dimensions, such that the rows become columns and vice versa. This is useful in various operations, such as computing the covariance matrix.\n",
    "5. **Reduction Operations:** These operations reduce the dimensionality of a tensor along one or more dimensions, such as computing the mean, sum, maximum, or minimum of a tensor.\n",
    "6. **Reshaping:** Reshaping involves changing the shape of a tensor while preserving its contents. This is useful for tasks such as flattening an image tensor into a vector for use in a neural network.\n",
    "7. **Concatenation:** Concatenation is the process of combining two or more tensors along a specified dimension. This is useful for tasks such as combining the output of two neural network layers.\n",
    "8. **Broadcasting:** Broadcasting is a technique used to perform element-wise operations between tensors of different shapes. The smaller tensor is \"broadcasted\" to match the shape of the larger tensor.\n",
    "9. **Tensor Slicing:** Tensor slicing involves selecting a subset of a tensor along one or more dimensions. This is useful for tasks such as selecting a batch of data from a larger dataset.\n",
    "\n",
    "Tensor operations are implemented using tensor libraries such as TensorFlow. This library provide efficient implementations of tensor operations that can be executed on CPUs or GPUs. The ability to perform tensor operations quickly and efficiently is critical for training and deploying deep learning models on large datasets."
   ]
  },
  {
   "cell_type": "code",
   "execution_count": 21,
   "id": "d54b30a7",
   "metadata": {},
   "outputs": [
    {
     "data": {
      "text/html": [
       "<img src=\"https://machinelearningknowledge.ai/wp-content/uploads/2021/04/operations.png\"/>"
      ],
      "text/plain": [
       "<IPython.core.display.Image object>"
      ]
     },
     "execution_count": 21,
     "metadata": {},
     "output_type": "execute_result"
    }
   ],
   "source": [
    "from IPython.display import Image\n",
    "Image(url='https://machinelearningknowledge.ai/wp-content/uploads/2021/04/operations.png')"
   ]
  },
  {
   "cell_type": "code",
   "execution_count": 41,
   "id": "11b4427c",
   "metadata": {},
   "outputs": [
    {
     "name": "stdout",
     "output_type": "stream",
     "text": [
      "Addition: [5 7 9]\n",
      "Subtraction: [-3 -3 -3]\n",
      "Multiplication: [ 4 10 18]\n",
      "Division: [0.25 0.4  0.5 ]\n"
     ]
    }
   ],
   "source": [
    "import numpy as np\n",
    "\n",
    "a = np.array([1, 2, 3])\n",
    "b = np.array([4, 5, 6])\n",
    "\n",
    "# Addition\n",
    "c = a + b\n",
    "\n",
    "# Subtraction\n",
    "d = a - b\n",
    "\n",
    "# Multiplication\n",
    "e = a * b\n",
    "\n",
    "# Division\n",
    "f = a / b\n",
    "\n",
    "print(\"Addition:\",c)\n",
    "print(\"Subtraction:\",d)\n",
    "print(\"Multiplication:\",e)\n",
    "print(\"Division:\",f)"
   ]
  },
  {
   "cell_type": "code",
   "execution_count": 42,
   "id": "cac1ba28",
   "metadata": {},
   "outputs": [
    {
     "name": "stdout",
     "output_type": "stream",
     "text": [
      "Dot Product: 32\n"
     ]
    }
   ],
   "source": [
    "a = np.array([1, 2, 3])\n",
    "b = np.array([4, 5, 6])\n",
    "\n",
    "# Dot Product\n",
    "c = np.dot(a, b)\n",
    "print(\"Dot Product:\",c)"
   ]
  },
  {
   "cell_type": "code",
   "execution_count": 53,
   "id": "2312e5da",
   "metadata": {},
   "outputs": [
    {
     "name": "stdout",
     "output_type": "stream",
     "text": [
      "[[19 22]\n",
      " [43 50]]\n"
     ]
    }
   ],
   "source": [
    "a = np.array([[1, 2], [3, 4]])\n",
    "b = np.array([[5, 6], [7, 8]])\n",
    "\n",
    "# Matrix Multiplication\n",
    "c = np.matmul(a, b)\n",
    "print(c)"
   ]
  },
  {
   "cell_type": "code",
   "execution_count": 44,
   "id": "6bf2670a",
   "metadata": {},
   "outputs": [
    {
     "name": "stdout",
     "output_type": "stream",
     "text": [
      "[[1 3]\n",
      " [2 4]]\n"
     ]
    }
   ],
   "source": [
    "a = np.array([[1, 2],\n",
    "              [3, 4]])\n",
    "\n",
    "# Transpose\n",
    "b = np.transpose(a)\n",
    "print(b)"
   ]
  },
  {
   "cell_type": "code",
   "execution_count": 45,
   "id": "52dba90e",
   "metadata": {},
   "outputs": [
    {
     "name": "stdout",
     "output_type": "stream",
     "text": [
      "Sum: 6\n",
      "Mean: 2.0\n",
      "Maximum: 3\n",
      "Minimum: 1\n"
     ]
    }
   ],
   "source": [
    "a = np.array([1, 2, 3])\n",
    "\n",
    "# Sum\n",
    "b = np.sum(a)\n",
    "\n",
    "# Mean\n",
    "c = np.mean(a)\n",
    "\n",
    "# Maximum\n",
    "d = np.max(a)\n",
    "\n",
    "# Minimum\n",
    "e = np.min(a)\n",
    "\n",
    "print(\"Sum:\",b)\n",
    "print(\"Mean:\",c)\n",
    "print(\"Maximum:\",d)\n",
    "print(\"Minimum:\",e)"
   ]
  },
  {
   "cell_type": "code",
   "execution_count": 52,
   "id": "1c245f33",
   "metadata": {},
   "outputs": [
    {
     "name": "stdout",
     "output_type": "stream",
     "text": [
      "[[1 2 3]\n",
      " [4 5 6]]\n"
     ]
    }
   ],
   "source": [
    "a = np.array([[1, 2],\n",
    "              [3, 4],\n",
    "              [5, 6]])\n",
    "\n",
    "# Reshape\n",
    "b = np.reshape(a, (2, 3))\n",
    "print(b)"
   ]
  },
  {
   "cell_type": "code",
   "execution_count": 51,
   "id": "949eb4ea",
   "metadata": {},
   "outputs": [
    {
     "name": "stdout",
     "output_type": "stream",
     "text": [
      "[[1 2 5 6]\n",
      " [3 4 7 8]]\n"
     ]
    }
   ],
   "source": [
    "a = np.array([[1, 2],\n",
    "              [3, 4]])\n",
    "\n",
    "b = np.array([[5, 6],\n",
    "              [7, 8]])\n",
    "\n",
    "# Concatenate\n",
    "c = np.concatenate((a, b), axis=1)\n",
    "print(c)"
   ]
  },
  {
   "cell_type": "code",
   "execution_count": 50,
   "id": "961ce6e1",
   "metadata": {},
   "outputs": [
    {
     "name": "stdout",
     "output_type": "stream",
     "text": [
      "[[ 6  8]\n",
      " [ 8 10]]\n"
     ]
    }
   ],
   "source": [
    "a = np.array([[1, 2],\n",
    "              [3, 4]])\n",
    "\n",
    "b = np.array([5, 6])\n",
    "\n",
    "# Broadcasting\n",
    "c = a + b\n",
    "print(c)"
   ]
  },
  {
   "cell_type": "code",
   "execution_count": 63,
   "id": "3cd723f6",
   "metadata": {},
   "outputs": [
    {
     "name": "stdout",
     "output_type": "stream",
     "text": [
      "[[2 3]\n",
      " [5 6]]\n"
     ]
    }
   ],
   "source": [
    "a = np.array([[1, 2, 3],\n",
    "              [4, 5, 6],\n",
    "              [7, 8, 9]])\n",
    "\n",
    "# Tensor Slicing\n",
    "b = a[:2, 1:]\n",
    "print(b)"
   ]
  }
 ],
 "metadata": {
  "kernelspec": {
   "display_name": "Python 3 (ipykernel)",
   "language": "python",
   "name": "python3"
  },
  "language_info": {
   "codemirror_mode": {
    "name": "ipython",
    "version": 3
   },
   "file_extension": ".py",
   "mimetype": "text/x-python",
   "name": "python",
   "nbconvert_exporter": "python",
   "pygments_lexer": "ipython3",
   "version": "3.8.0"
  }
 },
 "nbformat": 4,
 "nbformat_minor": 5
}
