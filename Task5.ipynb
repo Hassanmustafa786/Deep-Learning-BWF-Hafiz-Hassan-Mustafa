{
 "cells": [
  {
   "cell_type": "markdown",
   "id": "38e419c9",
   "metadata": {},
   "source": [
    "# Enumerate Function\n",
    "The **enumerate()** function in Python is a built-in function that returns an iterator object that generates a sequence of tuples, each containing an index and the corresponding item from an iterable object (such as a list, tuple, string, or dictionary)."
   ]
  },
  {
   "cell_type": "code",
   "execution_count": 7,
   "id": "534695ab",
   "metadata": {},
   "outputs": [
    {
     "name": "stdout",
     "output_type": "stream",
     "text": [
      "Python 3.8.16\n"
     ]
    }
   ],
   "source": [
    "!python -V"
   ]
  },
  {
   "cell_type": "code",
   "execution_count": 1,
   "id": "f7c794db",
   "metadata": {},
   "outputs": [
    {
     "name": "stdout",
     "output_type": "stream",
     "text": [
      "[(0, 'Apple'), (1, 'Banana'), (2, 'Orange'), (3, 'Mango'), (4, 'Pineapple'), (5, 'Grapefruit'), (6, 'Kiwi'), (7, 'Watermelon'), (8, 'Cantaloupe'), (9, 'Honeydew'), (10, 'Strawberry'), (11, 'Blueberry'), (12, 'Raspberry'), (13, 'Blackberry'), (14, 'Cherry'), (15, 'Peach'), (16, 'Pear'), (17, 'Plum'), (18, 'Apricot'), (19, 'Papaya'), (20, 'Guava'), (21, 'Coconut'), (22, 'Pomegranate'), (23, 'Fig'), (24, 'Passionfruit'), (25, 'Grape'), (26, 'Lemon'), (27, 'Lime'), (28, 'Avocado'), (29, 'Tomato')]\n"
     ]
    }
   ],
   "source": [
    "fruits = [\"Apple\",\"Banana\",\"Orange\",\"Mango\",\"Pineapple\",\"Grapefruit\",\"Kiwi\",\"Watermelon\",\"Cantaloupe\",\"Honeydew\",\"Strawberry\",\n",
    "          \"Blueberry\",\"Raspberry\",\"Blackberry\",\"Cherry\",\"Peach\",\"Pear\",\"Plum\",\"Apricot\",\"Papaya\",\"Guava\",\"Coconut\",\"Pomegranate\",\n",
    "          \"Fig\",\"Passionfruit\",\"Grape\",\"Lemon\",\"Lime\",\"Avocado\",\"Tomato\"]\n",
    "\n",
    "print(list(enumerate(fruits)))"
   ]
  },
  {
   "cell_type": "code",
   "execution_count": 2,
   "id": "0674223c",
   "metadata": {},
   "outputs": [
    {
     "name": "stdout",
     "output_type": "stream",
     "text": [
      "(0, 'Apple')\n",
      "(1, 'Banana')\n",
      "(2, 'Orange')\n",
      "(3, 'Mango')\n",
      "(4, 'Pineapple')\n",
      "(5, 'Grapefruit')\n",
      "(6, 'Kiwi')\n",
      "(7, 'Watermelon')\n",
      "(8, 'Cantaloupe')\n",
      "(9, 'Honeydew')\n",
      "(10, 'Strawberry')\n",
      "(11, 'Blueberry')\n",
      "(12, 'Raspberry')\n",
      "(13, 'Blackberry')\n",
      "(14, 'Cherry')\n",
      "(15, 'Peach')\n",
      "(16, 'Pear')\n",
      "(17, 'Plum')\n",
      "(18, 'Apricot')\n",
      "(19, 'Papaya')\n",
      "(20, 'Guava')\n",
      "(21, 'Coconut')\n",
      "(22, 'Pomegranate')\n",
      "(23, 'Fig')\n",
      "(24, 'Passionfruit')\n",
      "(25, 'Grape')\n",
      "(26, 'Lemon')\n",
      "(27, 'Lime')\n",
      "(28, 'Avocado')\n",
      "(29, 'Tomato')\n"
     ]
    }
   ],
   "source": [
    "for ele in enumerate(fruits):\n",
    "    print (ele)"
   ]
  },
  {
   "cell_type": "code",
   "execution_count": 3,
   "id": "09747f0f",
   "metadata": {},
   "outputs": [
    {
     "name": "stdout",
     "output_type": "stream",
     "text": [
      "50 Apple\n",
      "51 Banana\n",
      "52 Orange\n",
      "53 Mango\n",
      "54 Pineapple\n",
      "55 Grapefruit\n",
      "56 Kiwi\n",
      "57 Watermelon\n",
      "58 Cantaloupe\n",
      "59 Honeydew\n",
      "60 Strawberry\n",
      "61 Blueberry\n",
      "62 Raspberry\n",
      "63 Blackberry\n",
      "64 Cherry\n",
      "65 Peach\n",
      "66 Pear\n",
      "67 Plum\n",
      "68 Apricot\n",
      "69 Papaya\n",
      "70 Guava\n",
      "71 Coconut\n",
      "72 Pomegranate\n",
      "73 Fig\n",
      "74 Passionfruit\n",
      "75 Grape\n",
      "76 Lemon\n",
      "77 Lime\n",
      "78 Avocado\n",
      "79 Tomato\n"
     ]
    }
   ],
   "source": [
    "# changing index and printing separately\n",
    "for count, ele in enumerate(fruits, 50):\n",
    "    print (count, ele)"
   ]
  },
  {
   "cell_type": "markdown",
   "id": "f81e1124",
   "metadata": {},
   "source": [
    "# Timing your code\n",
    "Python executes 10⁷ operations per second.\n",
    "\n",
    "To time your code you will need a time library. In this library, there is a perf_counter() function which is a performance counter.\n",
    "\n",
    "perf_counter(): It returns the float value of time in seconds. It gives you the absolute value.\n",
    "\n",
    "perf_counter_ns(): It returns the float value of time in nanoseconds."
   ]
  },
  {
   "cell_type": "code",
   "execution_count": 4,
   "id": "d6504e8f",
   "metadata": {},
   "outputs": [
    {
     "name": "stdout",
     "output_type": "stream",
     "text": [
      "[ 1  2  3  4  5  6  7  8  9 10]\n",
      "----------------------------------------------\n",
      "[  1   4   9  16  25  36  49  64  81 100]\n",
      "----------------------------------------------\n",
      "[0 1 2 3 4 5 6 7 8 9]\n",
      "----------------------------------------------\n",
      "[ 2  3  4  5  6  7  8  9 10 11]\n",
      "----------------------------------------------\n",
      "[0.5 1.  1.5 2.  2.5 3.  3.5 4.  4.5 5. ]\n",
      "Elapsed time: 0.001563 seconds\n"
     ]
    }
   ],
   "source": [
    "import numpy as np\n",
    "import time\n",
    "\n",
    "start_time = time.perf_counter()\n",
    "\n",
    "data = np.arange(1,11)\n",
    "multi = data * data\n",
    "sub = data - 1\n",
    "add = data + 1\n",
    "div= data / 2\n",
    "print(data)\n",
    "print(\"----------------------------------------------\")\n",
    "print(multi)\n",
    "print(\"----------------------------------------------\")\n",
    "print(sub)\n",
    "print(\"----------------------------------------------\")\n",
    "print(add)\n",
    "print(\"----------------------------------------------\")\n",
    "print(div)\n",
    "\n",
    "end_time = time.perf_counter()\n",
    "\n",
    "elapsed_time = end_time - start_time\n",
    "print(f\"Elapsed time: {elapsed_time:.6f} seconds\")"
   ]
  },
  {
   "cell_type": "code",
   "execution_count": 5,
   "id": "a8478ab5",
   "metadata": {},
   "outputs": [
    {
     "name": "stdout",
     "output_type": "stream",
     "text": [
      "[ 1  2  3  4  5  6  7  8  9 10]\n",
      "----------------------------------------------\n",
      "[  1   4   9  16  25  36  49  64  81 100]\n",
      "----------------------------------------------\n",
      "[0 1 2 3 4 5 6 7 8 9]\n",
      "----------------------------------------------\n",
      "[ 2  3  4  5  6  7  8  9 10 11]\n",
      "----------------------------------------------\n",
      "[0.5 1.  1.5 2.  2.5 3.  3.5 4.  4.5 5. ]\n"
     ]
    },
    {
     "data": {
      "text/plain": [
       "0.00299835205078125"
      ]
     },
     "execution_count": 5,
     "metadata": {},
     "output_type": "execute_result"
    }
   ],
   "source": [
    "t0 = time.time()\n",
    "\n",
    "data = np.arange(1,11)\n",
    "multi = data * data\n",
    "sub = data - 1\n",
    "add = data + 1\n",
    "div= data / 2\n",
    "print(data)\n",
    "print(\"----------------------------------------------\")\n",
    "print(multi)\n",
    "print(\"----------------------------------------------\")\n",
    "print(sub)\n",
    "print(\"----------------------------------------------\")\n",
    "print(add)\n",
    "print(\"----------------------------------------------\")\n",
    "print(div)\n",
    "\n",
    "t1 = time.time()\n",
    "\n",
    "total = t1-t0\n",
    "total"
   ]
  },
  {
   "cell_type": "code",
   "execution_count": 6,
   "id": "d3e4fdb6",
   "metadata": {},
   "outputs": [
    {
     "data": {
      "text/plain": [
       "0.0014352520507814326"
      ]
     },
     "execution_count": 6,
     "metadata": {},
     "output_type": "execute_result"
    }
   ],
   "source": [
    "# Difference of perf_counter() function & time() function\n",
    "final = total - elapsed_time\n",
    "final"
   ]
  },
  {
   "cell_type": "code",
   "execution_count": 8,
   "id": "38a71e9a",
   "metadata": {},
   "outputs": [
    {
     "name": "stdout",
     "output_type": "stream",
     "text": [
      "The today current date and time is:- 2023-03-21 12:20:22.210892\n"
     ]
    }
   ],
   "source": [
    "from datetime import datetime\n",
    "\n",
    "date_and_time = datetime.now()\n",
    "print(\"The today current date and time is:-\" , date_and_time)"
   ]
  },
  {
   "cell_type": "markdown",
   "id": "8d7cd84f",
   "metadata": {},
   "source": [
    "# User Inputs\n",
    "User input refers to the data or information that a program receives from the user during runtime. In Python, you can prompt the user to input data using the built-in **input()** function. When the **input()** function is executed, the program pauses and waits for the user to enter data. Once the user inputs data and presses the \"Enter\" key, the program resumes and the input data is returned as a string."
   ]
  },
  {
   "cell_type": "code",
   "execution_count": 9,
   "id": "ff9c5e7b",
   "metadata": {},
   "outputs": [
    {
     "name": "stdout",
     "output_type": "stream",
     "text": [
      "Enter the radius of circle: 5\n",
      "Area of circle is:  78.53975 square units\n"
     ]
    }
   ],
   "source": [
    "Radius = float(input(\"Enter the radius of circle: \"))\n",
    "Area = 3.14159 * (Radius*Radius)\n",
    "print(\"Area of circle is: \", Area, \"square units\")"
   ]
  },
  {
   "cell_type": "code",
   "execution_count": 12,
   "id": "ad84b350",
   "metadata": {},
   "outputs": [
    {
     "name": "stdout",
     "output_type": "stream",
     "text": [
      "Enter first number: 5\n",
      "Enter second number: 9\n",
      "Total: 14.0\n"
     ]
    }
   ],
   "source": [
    "a = float(input(\"Enter first number: \"));\n",
    "b = float(input(\"Enter second number: \"));\n",
    "c = a + b;\n",
    "print(\"Total:\",float(c))"
   ]
  },
  {
   "cell_type": "code",
   "execution_count": 13,
   "id": "4f69f2a1",
   "metadata": {},
   "outputs": [
    {
     "name": "stdout",
     "output_type": "stream",
     "text": [
      "Enter your full name: Hafiz Hassan Mustafa\n",
      "afatsuM nassaH zifaH\n",
      "\n"
     ]
    }
   ],
   "source": [
    "#This code can be used to print any input string in reverse order, not just names.\n",
    "name = input(\"Enter your full name: \")\n",
    "\n",
    "for char in range(len(name) - 1, -1, -1):\n",
    "  print(name[char], end=\"\")\n",
    "print(\"\\n\")"
   ]
  },
  {
   "cell_type": "markdown",
   "id": "38935a0b",
   "metadata": {},
   "source": [
    "# Conditionals\n",
    "Conditionals, also known as conditional statements, are programming constructs that allow you to execute different blocks of code based on whether a certain condition is true or false. In Python, there are two types of conditional statements: if statements and if-else statements."
   ]
  },
  {
   "cell_type": "code",
   "execution_count": 20,
   "id": "f7604d09",
   "metadata": {},
   "outputs": [
    {
     "name": "stdout",
     "output_type": "stream",
     "text": [
      "Enter your name: Hafiz Hassan Mustafa\n",
      "Enter your age: 23\n",
      "-------------------------------------------------------\n",
      "You are eligible for student ticket & get 10% discount.\n"
     ]
    }
   ],
   "source": [
    "# Ticketing charges\n",
    "name = str(input(\"Enter your name: \"))\n",
    "age = int(input(\"Enter your age: \"))\n",
    "\n",
    "if age < 10:\n",
    "    print(\"----------------------------------\")\n",
    "    print(\"You are eligible for child ticket.\")\n",
    "elif age > 10 & age < 30:\n",
    "    print(\"-------------------------------------------------------\")\n",
    "    print(\"You are eligible for student ticket & get 10% discount.\")\n",
    "else:\n",
    "    print(\"--------------------------------------\")\n",
    "    print(\"You are not eligible for adult ticket.\")"
   ]
  },
  {
   "cell_type": "markdown",
   "id": "f8086b8f",
   "metadata": {},
   "source": [
    "# Introducing Set\n",
    "In Python, a set is an unordered collection of unique elements. This means that a set can contain only one instance of each element, and the order in which the elements appear in the set is not important. Sets are similar to lists and tuples, but unlike lists and tuples, they do not support indexing or slicing.\n",
    "Various set operations are performed using the **|, &, -, and ^** operators."
   ]
  },
  {
   "cell_type": "code",
   "execution_count": 23,
   "id": "66136cc5",
   "metadata": {},
   "outputs": [
    {
     "name": "stdout",
     "output_type": "stream",
     "text": [
      "{'Ahsan', 'Faraz', 'Hassan', 'Saad', 'Hasnain'}\n",
      "{'Hassan'}\n",
      "{'Ahsan', 'Hasnain'}\n",
      "{'Ahsan', 'Faraz', 'Saad', 'Hasnain'}\n"
     ]
    }
   ],
   "source": [
    "set1 = {\"Hassan\", \"Ahsan\", \"Hasnain\"}\n",
    "set2 = {\"Hassan\",\"Saad\",\"Faraz\"}\n",
    "\n",
    "print(set1 | set2) #Union\n",
    "print(set1 & set2) #Intersection\n",
    "print(set1 - set2) #Difference\n",
    "print(set1 ^ set2) #Symmetric difference"
   ]
  },
  {
   "cell_type": "markdown",
   "id": "b155051f",
   "metadata": {},
   "source": [
    "# 2nd Approach\n",
    "In this code, two sets (data1 and data2) are defined, and various set operations are performed using the **.union(), .intersection(), .difference(), and .symmetric_difference()** methods."
   ]
  },
  {
   "cell_type": "code",
   "execution_count": 34,
   "id": "0a8f21e1",
   "metadata": {},
   "outputs": [
    {
     "name": "stdout",
     "output_type": "stream",
     "text": [
      "<class 'set'> <class 'set'>\n"
     ]
    }
   ],
   "source": [
    "data1 = set([1,2,3,4,5])\n",
    "data2 = set([5,6,7,8,9])\n",
    "print(type(data1),type(data2))"
   ]
  },
  {
   "cell_type": "markdown",
   "id": "b22f6588",
   "metadata": {},
   "source": [
    "# Union"
   ]
  },
  {
   "cell_type": "code",
   "execution_count": 35,
   "id": "8b4dd81f",
   "metadata": {},
   "outputs": [
    {
     "name": "stdout",
     "output_type": "stream",
     "text": [
      "<class 'set'>\n",
      "Final Uninion: {1, 2, 3, 4, 5, 6, 7, 8, 9}\n"
     ]
    }
   ],
   "source": [
    "final_data = data1.union(data2)\n",
    "print(type(final_data))\n",
    "print(\"Final Uninion:\", final_data)"
   ]
  },
  {
   "cell_type": "markdown",
   "id": "1537bdb8",
   "metadata": {},
   "source": [
    "# Intersection"
   ]
  },
  {
   "cell_type": "code",
   "execution_count": 36,
   "id": "a2938548",
   "metadata": {},
   "outputs": [
    {
     "name": "stdout",
     "output_type": "stream",
     "text": [
      "<class 'set'>\n",
      "Final Intersection: {5}\n"
     ]
    }
   ],
   "source": [
    "final_data = data1.intersection(data2)\n",
    "print(type(final_data))\n",
    "print(\"Final Intersection:\", final_data)"
   ]
  },
  {
   "cell_type": "markdown",
   "id": "02ddb0e0",
   "metadata": {},
   "source": [
    "# Difference"
   ]
  },
  {
   "cell_type": "code",
   "execution_count": 37,
   "id": "71dc4a48",
   "metadata": {},
   "outputs": [
    {
     "name": "stdout",
     "output_type": "stream",
     "text": [
      "<class 'set'>\n",
      "Final Difference: {1, 2, 3, 4}\n"
     ]
    }
   ],
   "source": [
    "final_data = data1.difference(data2)\n",
    "print(type(final_data))\n",
    "print(\"Final Difference:\", final_data)"
   ]
  },
  {
   "cell_type": "markdown",
   "id": "a83215de",
   "metadata": {},
   "source": [
    "# Symmetric Difference"
   ]
  },
  {
   "cell_type": "code",
   "execution_count": 38,
   "id": "355a32e1",
   "metadata": {},
   "outputs": [
    {
     "name": "stdout",
     "output_type": "stream",
     "text": [
      "<class 'set'>\n",
      "Final Symmetric Difference:  {1, 2, 3, 4, 6, 7, 8, 9}\n"
     ]
    }
   ],
   "source": [
    "final_data = data1.symmetric_difference(data2)\n",
    "print(type(final_data))\n",
    "print(\"Final Symmetric Difference: \", final_data)"
   ]
  },
  {
   "cell_type": "code",
   "execution_count": null,
   "id": "2e3e13d8",
   "metadata": {},
   "outputs": [],
   "source": []
  }
 ],
 "metadata": {
  "kernelspec": {
   "display_name": "Python 3 (ipykernel)",
   "language": "python",
   "name": "python3"
  },
  "language_info": {
   "codemirror_mode": {
    "name": "ipython",
    "version": 3
   },
   "file_extension": ".py",
   "mimetype": "text/x-python",
   "name": "python",
   "nbconvert_exporter": "python",
   "pygments_lexer": "ipython3",
   "version": "3.8.16"
  }
 },
 "nbformat": 4,
 "nbformat_minor": 5
}
