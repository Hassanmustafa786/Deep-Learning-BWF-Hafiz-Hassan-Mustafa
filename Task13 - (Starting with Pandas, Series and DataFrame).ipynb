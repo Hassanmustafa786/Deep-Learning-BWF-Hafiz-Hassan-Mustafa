{
 "cells": [
  {
   "cell_type": "markdown",
   "id": "0b0ff71b",
   "metadata": {},
   "source": [
    "# Starting with Pandas\n",
    "\n",
    "Pandas is a popular Python library used for data analysis and manipulation. Here's a brief introduction to help you get started with Pandas:\n",
    "\n",
    "1. **Installation:** You can install pandas using pip, the package installer for Python. Open your command prompt or terminal and type the following command:**pip install pandas**\n",
    "2. **Importing:** Once you have installed pandas, you can import it in your Python code using the following command: **import pandas as pd**\n",
    "3. **Data Structures:** Pandas provides two main data structures - Series and DataFrame.\n",
    "4. **Reading Data:** Pandas allows you to read data from various file formats such as CSV, Excel, SQL, and more. You can use functions like **pd.read_csv()**, **pd.read_excel()**, **pd.read_sql()**, etc. to read data into a DataFrame.\n",
    "5. **Data Manipulation:** Pandas provides a wide range of functions to manipulate data. You can use functions like filtering, sorting, grouping, merging, etc. to perform various operations on your data.\n",
    "6. **Data Visualization:** Pandas also provides functions to visualize data using graphs, charts, and plots. You can use functions like **pd.plot()**, **pd.hist()**, **pd.scatter()**, etc. to visualize your data."
   ]
  },
  {
   "cell_type": "markdown",
   "id": "e9d84a6d",
   "metadata": {},
   "source": [
    "# Importing the Pandas library"
   ]
  },
  {
   "cell_type": "code",
   "execution_count": 2,
   "id": "2a76e0b1",
   "metadata": {},
   "outputs": [],
   "source": [
    "import pandas as pd"
   ]
  },
  {
   "cell_type": "markdown",
   "id": "8535fade",
   "metadata": {},
   "source": [
    "# Series\n",
    "A Series is a one-dimensional labeled array that can hold any data type such as integers, floats, strings, etc. It is a fundamental Pandas data structure that is used extensively in data analysis and manipulation."
   ]
  },
  {
   "cell_type": "code",
   "execution_count": 3,
   "id": "06407ea0",
   "metadata": {},
   "outputs": [
    {
     "name": "stdout",
     "output_type": "stream",
     "text": [
      "0         Hasnain\n",
      "1           Ahsan\n",
      "2    Hafiz Hassan\n",
      "3        Abdullah\n",
      "4         Shahvez\n",
      "dtype: object\n"
     ]
    }
   ],
   "source": [
    "# create a Series using a list\n",
    "series_data = [\"Hasnain\", \"Ahsan\", \"Hafiz Hassan\", \"Abdullah\", \"Shahvez\"]\n",
    "\n",
    "my_series = pd.Series(series_data)\n",
    "print(my_series)"
   ]
  },
  {
   "cell_type": "markdown",
   "id": "c4baca2a",
   "metadata": {},
   "source": [
    "We printed the **my_series** object, and it shows the index labels (0, 1, 2, 3, 4) and the corresponding values (\"Hasnain\", \"Ahsan\", \"Hafiz Hassan\", \"Abdullah\", \"Shahvez\") of the Series."
   ]
  },
  {
   "cell_type": "code",
   "execution_count": 5,
   "id": "77066327",
   "metadata": {},
   "outputs": [
    {
     "data": {
      "text/plain": [
       "a         Hasnain\n",
       "b           Ahsan\n",
       "c    Hafiz Hassan\n",
       "d        Abdullah\n",
       "e         Shahvez\n",
       "dtype: object"
      ]
     },
     "execution_count": 5,
     "metadata": {},
     "output_type": "execute_result"
    }
   ],
   "source": [
    "#Changing the index\n",
    "index_series = pd.Series(series_data, index= ['a','b','c','d','e'])\n",
    "index_series"
   ]
  },
  {
   "cell_type": "code",
   "execution_count": 6,
   "id": "8bb1d6fd",
   "metadata": {},
   "outputs": [
    {
     "name": "stdout",
     "output_type": "stream",
     "text": [
      "['Hasnain' 'Ahsan' 'Hafiz Hassan' 'Abdullah' 'Shahvez']\n",
      "RangeIndex(start=0, stop=5, step=1)\n"
     ]
    }
   ],
   "source": [
    "# access values and index labels of a Series\n",
    "print(my_series.values)\n",
    "print(my_series.index)"
   ]
  },
  {
   "cell_type": "code",
   "execution_count": 7,
   "id": "27418cde",
   "metadata": {},
   "outputs": [
    {
     "name": "stdout",
     "output_type": "stream",
     "text": [
      "apple     10\n",
      "banana    20\n",
      "orange    30\n",
      "dtype: int64\n"
     ]
    }
   ],
   "source": [
    "#Creating a dictionary\n",
    "my_dict = {'apple': 10, 'banana': 20, 'orange': 30}\n",
    "\n",
    "my_series = pd.Series(my_dict)\n",
    "print(my_series)"
   ]
  },
  {
   "cell_type": "code",
   "execution_count": 10,
   "id": "bcab5af9",
   "metadata": {},
   "outputs": [
    {
     "name": "stdout",
     "output_type": "stream",
     "text": [
      "c    30\n",
      "d    40\n",
      "e    50\n",
      "dtype: int64\n"
     ]
    }
   ],
   "source": [
    "new_series = pd.Series([10, 20, 30, 40, 50], index=['a', 'b', 'c', 'd', 'e'])\n",
    "\n",
    "#Filter the Series to include only values greater than 20\n",
    "filtered_series = new_series[new_series > 20]\n",
    "print(filtered_series)"
   ]
  },
  {
   "cell_type": "markdown",
   "id": "b17e7c9d",
   "metadata": {},
   "source": [
    "# Mathematical operations on Series"
   ]
  },
  {
   "cell_type": "code",
   "execution_count": 13,
   "id": "c7832d44",
   "metadata": {},
   "outputs": [
    {
     "name": "stdout",
     "output_type": "stream",
     "text": [
      "a    15\n",
      "b    30\n",
      "c    45\n",
      "d    60\n",
      "e    75\n",
      "dtype: int64\n",
      "a     5\n",
      "b    10\n",
      "c    15\n",
      "d    20\n",
      "e    25\n",
      "dtype: int64\n",
      "a      50\n",
      "b     200\n",
      "c     450\n",
      "d     800\n",
      "e    1250\n",
      "dtype: int64\n"
     ]
    }
   ],
   "source": [
    "#Creating two Series\n",
    "series1 = pd.Series([10, 20, 30, 40, 50], index=['a', 'b', 'c', 'd', 'e'])\n",
    "series2 = pd.Series([5, 10, 15, 20, 25], index=['a', 'b', 'c', 'd', 'e'])\n",
    "\n",
    "# perform mathematical operations on the Series\n",
    "sum_series = series1 + series2\n",
    "diff_series = series1 - series2\n",
    "product_series = series1 * series2\n",
    "\n",
    "print(sum_series)\n",
    "print(diff_series)\n",
    "print(product_series)"
   ]
  },
  {
   "cell_type": "markdown",
   "id": "5f1ca052",
   "metadata": {},
   "source": [
    "# DataFrame\n",
    "A DataFrame is a two-dimensional labeled data structure that is used extensively in data analysis and manipulation. It is a table-like structure that contains rows and columns, where each column can have a different data type such as integers, floats, strings, etc."
   ]
  },
  {
   "cell_type": "code",
   "execution_count": 14,
   "id": "797a34ac",
   "metadata": {},
   "outputs": [
    {
     "name": "stdout",
     "output_type": "stream",
     "text": [
      "      Name  Age      City\n",
      "0   Hassan   23  New York\n",
      "1     Saad   25    London\n",
      "2  Shaheer   21     Paris\n",
      "3    Faraz   22     Tokyo\n"
     ]
    }
   ],
   "source": [
    "#Creating a DataFrame from a dictionary\n",
    "my_dict = {'Name': ['Hassan', 'Saad', 'Shaheer', 'Faraz'],\n",
    "           'Age': [23, 25, 21, 22],\n",
    "           'City': ['New York', 'London', 'Paris', 'Tokyo']}\n",
    "\n",
    "df = pd.DataFrame(my_dict)\n",
    "print(df)"
   ]
  },
  {
   "cell_type": "code",
   "execution_count": 29,
   "id": "d8e7c346",
   "metadata": {},
   "outputs": [
    {
     "name": "stdout",
     "output_type": "stream",
     "text": [
      "                   Name  Age     City\n",
      "0  Hafiz Hassan Mustafa   23  Karachi\n",
      "1                  Saad   25   London\n",
      "2               Shaheer   21    Paris\n",
      "3                 Faraz   22    Tokyo\n"
     ]
    }
   ],
   "source": [
    "#Creating a DataFrame from a list of dictionaries\n",
    "my_list = [{'Name': 'Hafiz Hassan Mustafa', 'Age': 23, 'City': 'Karachi'}, {'Name': 'Saad', 'Age': 25, 'City': 'London'},\n",
    "           {'Name': 'Shaheer', 'Age': 21, 'City': 'Paris'}, {'Name': 'Faraz', 'Age': 22, 'City': 'Tokyo'}]\n",
    "\n",
    "df = pd.DataFrame(my_list)\n",
    "print(df)"
   ]
  },
  {
   "cell_type": "code",
   "execution_count": 30,
   "id": "df539b04",
   "metadata": {},
   "outputs": [
    {
     "name": "stdout",
     "output_type": "stream",
     "text": [
      "Index(['Name', 'Age', 'City'], dtype='object')\n",
      "RangeIndex(start=0, stop=4, step=1)\n",
      "                   Name  Age     City\n",
      "0  Hafiz Hassan Mustafa   23  Karachi\n",
      "1                  Saad   25   London\n",
      "2               Shaheer   21    Paris\n"
     ]
    }
   ],
   "source": [
    "# access columns and rows of a DataFrame\n",
    "print(df.columns)\n",
    "print(df.index)\n",
    "print(df.iloc[0:3])"
   ]
  },
  {
   "cell_type": "code",
   "execution_count": 31,
   "id": "69024b12",
   "metadata": {},
   "outputs": [
    {
     "name": "stdout",
     "output_type": "stream",
     "text": [
      "                   Name  Age     City\n",
      "0  Hafiz Hassan Mustafa   23  Karachi\n",
      "1                  Saad   25   London\n"
     ]
    }
   ],
   "source": [
    "#Filter rows based on a condition\n",
    "filtered_df = df[df['Age'] > 22]\n",
    "print(filtered_df)"
   ]
  },
  {
   "cell_type": "code",
   "execution_count": 32,
   "id": "9ed623f5",
   "metadata": {},
   "outputs": [
    {
     "name": "stdout",
     "output_type": "stream",
     "text": [
      "                   Name  Age     City  Salary\n",
      "0  Hafiz Hassan Mustafa   23  Karachi   50000\n",
      "1                  Saad   25   London   60000\n",
      "2               Shaheer   21    Paris   55000\n",
      "3                 Faraz   22    Tokyo   70000\n"
     ]
    }
   ],
   "source": [
    "#Adding a new column to the DataFrame\n",
    "salary = [50000, 60000, 55000, 70000]\n",
    "\n",
    "df['Salary'] = salary\n",
    "print(df)"
   ]
  },
  {
   "cell_type": "code",
   "execution_count": 33,
   "id": "d725e1cd",
   "metadata": {},
   "outputs": [
    {
     "name": "stdout",
     "output_type": "stream",
     "text": [
      "                   Name  Age     City  Salary\n",
      "2               Shaheer   21    Paris   55000\n",
      "3                 Faraz   22    Tokyo   70000\n",
      "0  Hafiz Hassan Mustafa   23  Karachi   50000\n",
      "1                  Saad   25   London   60000\n"
     ]
    }
   ],
   "source": [
    "#Sorting the DataFrame by a column\n",
    "sorted_df = df.sort_values('Age')\n",
    "print(sorted_df)"
   ]
  },
  {
   "cell_type": "code",
   "execution_count": 35,
   "id": "1ac19286",
   "metadata": {},
   "outputs": [
    {
     "name": "stdout",
     "output_type": "stream",
     "text": [
      "          Age   Salary\n",
      "City                  \n",
      "Karachi  23.0  50000.0\n",
      "London   25.0  60000.0\n",
      "Paris    21.0  55000.0\n",
      "Tokyo    22.0  70000.0\n"
     ]
    }
   ],
   "source": [
    "import warnings\n",
    "warnings.filterwarnings('ignore')\n",
    "\n",
    "#Grouping the DataFrame by a column and calculate the mean\n",
    "grouped_df = df.groupby('City').mean()\n",
    "print(grouped_df)"
   ]
  },
  {
   "cell_type": "code",
   "execution_count": null,
   "id": "115c347f",
   "metadata": {},
   "outputs": [],
   "source": []
  },
  {
   "cell_type": "code",
   "execution_count": null,
   "id": "925de7c3",
   "metadata": {},
   "outputs": [],
   "source": []
  }
 ],
 "metadata": {
  "kernelspec": {
   "display_name": "Python 3 (ipykernel)",
   "language": "python",
   "name": "python3"
  },
  "language_info": {
   "codemirror_mode": {
    "name": "ipython",
    "version": 3
   },
   "file_extension": ".py",
   "mimetype": "text/x-python",
   "name": "python",
   "nbconvert_exporter": "python",
   "pygments_lexer": "ipython3",
   "version": "3.8.0"
  }
 },
 "nbformat": 4,
 "nbformat_minor": 5
}
