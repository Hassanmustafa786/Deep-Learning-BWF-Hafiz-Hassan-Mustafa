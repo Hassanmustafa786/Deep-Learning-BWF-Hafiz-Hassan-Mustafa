{
 "cells": [
  {
   "cell_type": "markdown",
   "id": "25bffe37",
   "metadata": {},
   "source": [
    "# Importing the Numpy library"
   ]
  },
  {
   "cell_type": "code",
   "execution_count": 1,
   "id": "1aa1e36f",
   "metadata": {},
   "outputs": [],
   "source": [
    "import numpy as np"
   ]
  },
  {
   "cell_type": "markdown",
   "id": "20af3575",
   "metadata": {},
   "source": [
    "# Broadcasting in Numpy Array\n",
    "Operations between differently sized arrays is called **broadcasting.**\n",
    "\n",
    "In Numpy, broadcasting is a powerful mechanism that allows arrays with different shapes to be used in arithmetic operations. When operating on arrays with different shapes, Numpy automatically broadcasts the smaller array across the larger array so that they have compatible shapes.\n",
    "\n",
    "Here's an example to demonstrate broadcasting:"
   ]
  },
  {
   "cell_type": "code",
   "execution_count": 10,
   "id": "ab1a3475",
   "metadata": {},
   "outputs": [
    {
     "name": "stdout",
     "output_type": "stream",
     "text": [
      "(3,)\n",
      "[ 8 20 36]\n"
     ]
    }
   ],
   "source": [
    "import numpy as np\n",
    "\n",
    "a = np.array([1, 2, 3])\n",
    "b = 2\n",
    "c = np.array([4, 5, 6])\n",
    "\n",
    "# Elementwise multiplication using broadcasting\n",
    "result = a * b * c\n",
    "print(np.shape(a)) #It returns Tuple.\n",
    "print(result)"
   ]
  },
  {
   "cell_type": "markdown",
   "id": "555bace4",
   "metadata": {},
   "source": [
    "In the example above, b is a scalar value and has a shape of (). However, Numpy automatically broadcasts it to a shape of (3,) so that it can be multiplied element-wise with a and c, which have shapes of (3,) and (3,) respectively.\n",
    "\n",
    "Numpy broadcasting rules are as follows:\n",
    "\n",
    "1. If the arrays have different numbers of dimensions, the smaller array is padded with ones on its left side.\n",
    "2. If the shape of the two arrays in a dimension is the same, or one of them has a size of 1, then they are compatible.\n",
    "3. If the arrays have different shapes and are not compatible, a ValueError is raised.\n",
    "\n",
    "It's important to note that broadcasting can be computationally expensive, so it's best to use it judiciously and understand how it works under the hood."
   ]
  },
  {
   "cell_type": "code",
   "execution_count": 5,
   "id": "849c173a",
   "metadata": {},
   "outputs": [
    {
     "name": "stdout",
     "output_type": "stream",
     "text": [
      "[[11 22 33]\n",
      " [14 25 36]]\n"
     ]
    }
   ],
   "source": [
    "a = np.array([[1, 2, 3],\n",
    "              [4, 5, 6]])\n",
    "\n",
    "b = np.array([10, 20, 30])   \n",
    "\n",
    "# Elementwise addition using broadcasting\n",
    "result = a + b\n",
    "print(result)"
   ]
  },
  {
   "cell_type": "code",
   "execution_count": 16,
   "id": "5aa5d8b5",
   "metadata": {},
   "outputs": [
    {
     "data": {
      "text/plain": [
       "(2, 3)"
      ]
     },
     "execution_count": 16,
     "metadata": {},
     "output_type": "execute_result"
    }
   ],
   "source": [
    "np.shape(a)"
   ]
  },
  {
   "cell_type": "code",
   "execution_count": 7,
   "id": "6622445d",
   "metadata": {},
   "outputs": [
    {
     "name": "stdout",
     "output_type": "stream",
     "text": [
      "[[15. 40.]\n",
      " [35. 80.]]\n"
     ]
    }
   ],
   "source": [
    "a = np.array([[1.5, 2],\n",
    "              [3.5, 4]])\n",
    "\n",
    "b = np.array([10, 20])\n",
    "\n",
    "# Elementwise multiplication using broadcasting\n",
    "result = a * b\n",
    "print(result)"
   ]
  },
  {
   "cell_type": "markdown",
   "id": "15f3aedf",
   "metadata": {},
   "source": [
    "In this example, a is a 3x3 array of ones, and b is a 1D array with values 1, 2, and 3. The expression **b[:, np.newaxis]** reshapes b into a column vector with shape (3, 1). Then, broadcasting is used to multiply the two arrays element-wise, resulting in a new 3x3 array c where each row is multiplied by the corresponding element of b."
   ]
  },
  {
   "cell_type": "code",
   "execution_count": 1,
   "id": "b428afbf",
   "metadata": {},
   "outputs": [
    {
     "name": "stdout",
     "output_type": "stream",
     "text": [
      "[[1. 1. 1.]\n",
      " [2. 2. 2.]\n",
      " [3. 3. 3.]]\n"
     ]
    }
   ],
   "source": [
    "# Create a 3x3 array of ones\n",
    "a = np.ones((3, 3))\n",
    "\n",
    "# Create a 1D array with values 1, 2, and 3\n",
    "b = np.array([1, 2, 3])\n",
    "\n",
    "# Multiply the arrays using broadcasting\n",
    "c = a * b[:, np.newaxis]\n",
    "\n",
    "# Print the result\n",
    "print(c)"
   ]
  },
  {
   "cell_type": "code",
   "execution_count": null,
   "id": "e80bb7dd",
   "metadata": {},
   "outputs": [],
   "source": []
  }
 ],
 "metadata": {
  "kernelspec": {
   "display_name": "Python 3 (ipykernel)",
   "language": "python",
   "name": "python3"
  },
  "language_info": {
   "codemirror_mode": {
    "name": "ipython",
    "version": 3
   },
   "file_extension": ".py",
   "mimetype": "text/x-python",
   "name": "python",
   "nbconvert_exporter": "python",
   "pygments_lexer": "ipython3",
   "version": "3.8.0"
  }
 },
 "nbformat": 4,
 "nbformat_minor": 5
}
