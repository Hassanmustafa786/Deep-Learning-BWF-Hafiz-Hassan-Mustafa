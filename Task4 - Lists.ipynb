{
 "cells": [
  {
   "cell_type": "markdown",
   "id": "495ffb19",
   "metadata": {},
   "source": [
    "# List\n",
    "\n",
    "A list is a collection of items in a particular order. You can make a list that\n",
    "includes the letters of the alphabet, the digits from 0–9, or the names of\n",
    "all the people in your family. You can put anything you want into a list, and the items in your list don’t have to be related in any particular way. Because a list usually contains more than one element, it’s a good idea to make the name of your list plural, such as letters, digits, or names."
   ]
  },
  {
   "cell_type": "code",
   "execution_count": 10,
   "id": "d962fa99",
   "metadata": {},
   "outputs": [
    {
     "name": "stdout",
     "output_type": "stream",
     "text": [
      "['apple', 'mango', 'banana', 'blueberry']\n",
      "<class 'list'>\n"
     ]
    }
   ],
   "source": [
    "variable = ['apple', 'mango', 'banana', 'blueberry']\n",
    "print(variable)\n",
    "print(type(variable))"
   ]
  },
  {
   "cell_type": "code",
   "execution_count": 2,
   "id": "2715b2f1",
   "metadata": {},
   "outputs": [
    {
     "data": {
      "text/plain": [
       "'apple'"
      ]
     },
     "execution_count": 2,
     "metadata": {},
     "output_type": "execute_result"
    }
   ],
   "source": [
    "variable[0]"
   ]
  },
  {
   "cell_type": "code",
   "execution_count": 4,
   "id": "7e76c908",
   "metadata": {},
   "outputs": [
    {
     "data": {
      "text/plain": [
       "'Apple'"
      ]
     },
     "execution_count": 4,
     "metadata": {},
     "output_type": "execute_result"
    }
   ],
   "source": [
    "variable[0].title()"
   ]
  },
  {
   "cell_type": "markdown",
   "id": "1ccb37ed",
   "metadata": {},
   "source": [
    "# Changing\n",
    "To change an element in a list, you can simply assign a new value to that element."
   ]
  },
  {
   "cell_type": "code",
   "execution_count": 9,
   "id": "b809766a",
   "metadata": {},
   "outputs": [
    {
     "data": {
      "text/plain": [
       "['apple', 'mango', 'strawberry', 'blueberry']"
      ]
     },
     "execution_count": 9,
     "metadata": {},
     "output_type": "execute_result"
    }
   ],
   "source": [
    "# We are changing the element in a list...\n",
    "variable[2] = 'strawberry'\n",
    "variable"
   ]
  },
  {
   "cell_type": "markdown",
   "id": "4dd5acf0",
   "metadata": {},
   "source": [
    "# Adding\n",
    "To add elements to a list, you can use the append() method to add an element to the end of the list or the insert() method to add an element at a specific index."
   ]
  },
  {
   "cell_type": "code",
   "execution_count": 11,
   "id": "621a5878",
   "metadata": {},
   "outputs": [
    {
     "data": {
      "text/plain": [
       "['apple', 'mango', 'banana', 'blueberry', 'lemon']"
      ]
     },
     "execution_count": 11,
     "metadata": {},
     "output_type": "execute_result"
    }
   ],
   "source": [
    "variable.append(\"lemon\")\n",
    "variable"
   ]
  },
  {
   "cell_type": "code",
   "execution_count": 12,
   "id": "e1458f22",
   "metadata": {},
   "outputs": [
    {
     "data": {
      "text/plain": [
       "['apple', 'mango', 'banana', 'pear', 'blueberry', 'lemon']"
      ]
     },
     "execution_count": 12,
     "metadata": {},
     "output_type": "execute_result"
    }
   ],
   "source": [
    "variable.insert(3,\"pear\")\n",
    "variable"
   ]
  },
  {
   "cell_type": "markdown",
   "id": "4956cd92",
   "metadata": {},
   "source": [
    "# Removing\n",
    "To remove elements from a list, you can use the remove() method to remove a specific element or the pop() method to remove an element at a specific index."
   ]
  },
  {
   "cell_type": "code",
   "execution_count": 13,
   "id": "09490253",
   "metadata": {},
   "outputs": [
    {
     "data": {
      "text/plain": [
       "['apple', 'mango', 'pear', 'blueberry', 'lemon']"
      ]
     },
     "execution_count": 13,
     "metadata": {},
     "output_type": "execute_result"
    }
   ],
   "source": [
    "variable.remove(\"banana\")\n",
    "variable"
   ]
  },
  {
   "cell_type": "code",
   "execution_count": 14,
   "id": "35fcfed3",
   "metadata": {},
   "outputs": [
    {
     "data": {
      "text/plain": [
       "['mango', 'pear', 'blueberry', 'lemon']"
      ]
     },
     "execution_count": 14,
     "metadata": {},
     "output_type": "execute_result"
    }
   ],
   "source": [
    "variable.pop(0)\n",
    "variable"
   ]
  },
  {
   "cell_type": "markdown",
   "id": "f6701767",
   "metadata": {},
   "source": [
    "# Organizing elements in a list\n",
    "You can sort a list using the sort() method or the sorted() function."
   ]
  },
  {
   "cell_type": "code",
   "execution_count": 16,
   "id": "6e7a0152",
   "metadata": {},
   "outputs": [
    {
     "data": {
      "text/plain": [
       "[35, 75, 150, 175, 250]"
      ]
     },
     "execution_count": 16,
     "metadata": {},
     "output_type": "execute_result"
    }
   ],
   "source": [
    "numbers = [150,175,75,250,35]\n",
    "numbers.sort()\n",
    "numbers"
   ]
  },
  {
   "cell_type": "code",
   "execution_count": 17,
   "id": "83d7e938",
   "metadata": {},
   "outputs": [
    {
     "data": {
      "text/plain": [
       "[35, 75, 150, 175, 250]"
      ]
     },
     "execution_count": 17,
     "metadata": {},
     "output_type": "execute_result"
    }
   ],
   "source": [
    "sorted(numbers)"
   ]
  },
  {
   "cell_type": "markdown",
   "id": "89921706",
   "metadata": {},
   "source": [
    "# Indexing in a list\n",
    "You can access individual elements in a list using their index. The index of the first element is 0, the second element is 1, and so on. You can also use negative indexing to access elements from the end of the list."
   ]
  },
  {
   "cell_type": "code",
   "execution_count": 18,
   "id": "7a6d6854",
   "metadata": {},
   "outputs": [
    {
     "name": "stdout",
     "output_type": "stream",
     "text": [
      "['mango', 'pear', 'blueberry', 'lemon']\n",
      "blueberry\n",
      "pear\n"
     ]
    }
   ],
   "source": [
    "print(variable)\n",
    "\n",
    "print(variable[-2])\n",
    "print(variable[1])"
   ]
  },
  {
   "cell_type": "markdown",
   "id": "7aa9757e",
   "metadata": {},
   "source": [
    "# Looping In Python\n",
    "In Python, you can use loops to repeatedly execute a block of code. There are two types of loops in Python: \"for\" loops and \"while\" loops.\n",
    "## For loop\n",
    "For loop is used for sequential traversal i.e. it is used for iterating over an iterable like String, Tuple, List, Set or Dictionary.\n",
    "## While loop\n",
    "Python While Loop is used to execute a block of statements repeatedly until a given condition is satisfied. And when the condition becomes false, the line immediately after the loop in the program is executed."
   ]
  },
  {
   "cell_type": "code",
   "execution_count": 3,
   "id": "550f9a17",
   "metadata": {},
   "outputs": [
    {
     "name": "stdout",
     "output_type": "stream",
     "text": [
      "1\n",
      "2\n",
      "3\n",
      "4\n",
      "5\n",
      "6\n",
      "7\n",
      "8\n",
      "9\n",
      "10\n",
      "11\n",
      "12\n",
      "13\n",
      "14\n"
     ]
    }
   ],
   "source": [
    "import numpy as np\n",
    "numbers = np.arange(1,15)\n",
    "for i in numbers:\n",
    "    print(i)"
   ]
  },
  {
   "cell_type": "code",
   "execution_count": 3,
   "id": "e9401495",
   "metadata": {},
   "outputs": [
    {
     "name": "stdout",
     "output_type": "stream",
     "text": [
      "Letter : H\n",
      "Letter : A\n",
      "Letter : F\n",
      "Letter : I\n",
      "Letter : Z\n",
      "Letter : H\n",
      "Letter : A\n",
      "Letter : S\n",
      "Letter : S\n",
      "Letter : A\n",
      "Letter : N\n",
      "Letter : M\n",
      "Letter : U\n",
      "Letter : S\n",
      "Letter : T\n",
      "Letter : A\n",
      "Letter : F\n",
      "Letter : A\n"
     ]
    }
   ],
   "source": [
    "count = 0\n",
    "name = \"hafiz hassan mustafa\"\n",
    "\n",
    "while count < len(name):\n",
    "    if name[count] == ' ':\n",
    "        count += 1\n",
    "        continue\n",
    "         \n",
    "    print('Letter :', name[count].title())\n",
    "    count += 1"
   ]
  },
  {
   "cell_type": "markdown",
   "id": "3f0c15c9",
   "metadata": {},
   "source": [
    "# Looping Over List\n",
    "You’ll often want to run through all entries in a list, performing the same task with each item. For example, in a list of numbers you might want to perform the same statistical operation on every element. Or perhaps you’ll want to display each headline from a list of articles on a web-site. When you want to do the same action with every item in a list, you can use Python’s for loop.\n",
    "\n",
    "Let’s say we have a list of fruits’ names, and we want to print out each name in the list. We could do this by retrieving each name from the list individually, but this approach could cause several problems. For one, it would be repetitive to do this with a long list of names. Also, we’d have to change our code each time the list’s length changed. A for loop avoids both of these issues by letting Python manage these issues internally.\n",
    "\n",
    "Let’s use a for loop to print out each name in a list of fruits:"
   ]
  },
  {
   "cell_type": "code",
   "execution_count": 10,
   "id": "5cec510f",
   "metadata": {},
   "outputs": [
    {
     "name": "stdout",
     "output_type": "stream",
     "text": [
      "1. Apple\n",
      "2. Banana\n",
      "3. Orange\n",
      "4. Mango\n",
      "5. Pineapple\n",
      "6. Grapefruit\n",
      "7. Kiwi\n",
      "8. Watermelon\n",
      "9. Cantaloupe\n",
      "10. Honeydew\n",
      "11. Strawberry\n",
      "12. Blueberry\n",
      "13. Raspberry\n",
      "14. Blackberry\n",
      "15. Cherry\n",
      "16. Peach\n",
      "17. Pear\n",
      "18. Plum\n",
      "19. Apricot\n",
      "20. Papaya\n",
      "21. Guava\n",
      "22. Coconut\n",
      "23. Pomegranate\n",
      "24. Fig\n",
      "25. Passionfruit\n",
      "26. Grape\n",
      "27. Lemon\n",
      "28. Lime\n",
      "29. Avocado\n",
      "30. Tomato\n"
     ]
    }
   ],
   "source": [
    "fruits = [\"Apple\",\"Banana\",\"Orange\",\"Mango\",\"Pineapple\",\"Grapefruit\",\"Kiwi\",\"Watermelon\",\"Cantaloupe\",\"Honeydew\",\"Strawberry\",\n",
    "          \"Blueberry\",\"Raspberry\",\"Blackberry\",\"Cherry\",\"Peach\",\"Pear\",\"Plum\",\"Apricot\",\"Papaya\",\"Guava\",\"Coconut\",\"Pomegranate\",\n",
    "          \"Fig\",\"Passionfruit\",\"Grape\",\"Lemon\",\"Lime\",\"Avocado\",\"Tomato\"]\n",
    "\n",
    "for idx, fruit in enumerate(fruits):\n",
    "    print(f\"{idx+1}. {fruit}\")"
   ]
  },
  {
   "cell_type": "markdown",
   "id": "5527d92e",
   "metadata": {},
   "source": [
    "# Avoiding Indentation Errors\n",
    "Indentation errors are a common issue in Python programming, especially for beginners. Here are some tips to help you avoid indentation errors in your code:\n",
    "\n",
    "**1)** Use a consistent number of spaces for indentation. The most common convention is to use four spaces for each level of indentation.\n",
    "\n",
    "**2)** Don't mix tabs and spaces for indentation. This can cause issues because tabs are interpreted differently by different editors and systems. Stick to using spaces only.\n",
    "\n",
    "**3)** Be mindful of the scope of your code blocks. Python uses indentation to indicate the scope of a code block, so make sure you indent your code correctly to avoid syntax errors.\n",
    "\n",
    "**4)** Use a text editor or IDE that can highlight indentation errors. This can be very helpful in catching indentation errors early and fixing them quickly.\n",
    "\n",
    "**5)** Don't copy and paste code blindly. If you copy and paste code from another source, make sure to check the indentation and adjust it to match your code style.\n",
    "\n",
    "**6)** Always check your code for indentation errors before running it. This can save you a lot of time and frustration in the long run.\n",
    "\n",
    "By following these tips, you can minimize the risk of indentation errors in your Python code and make your code more readable and maintainable."
   ]
  },
  {
   "cell_type": "markdown",
   "id": "c014fcac",
   "metadata": {},
   "source": [
    "# Introducing tuples\n",
    "A tuple looks just like a list except you use parentheses instead of square brackets. Once you define a tuple, you can access individual elements by using each item’s index, just as you would for a list.Tuples allow you to do just that. Python refers to values that cannot change as immutable, and an immutable list is called a tuple."
   ]
  },
  {
   "cell_type": "code",
   "execution_count": 12,
   "id": "32bf1f2f",
   "metadata": {},
   "outputs": [
    {
     "name": "stdout",
     "output_type": "stream",
     "text": [
      "<class 'tuple'>\n"
     ]
    }
   ],
   "source": [
    "variable = ('apple', 'mango', 'banana', 'blueberry')\n",
    "print(type(variable))"
   ]
  },
  {
   "cell_type": "code",
   "execution_count": 15,
   "id": "cc99c410",
   "metadata": {},
   "outputs": [
    {
     "data": {
      "text/plain": [
       "'apple'"
      ]
     },
     "execution_count": 15,
     "metadata": {},
     "output_type": "execute_result"
    }
   ],
   "source": [
    "#As you can see element at 0 position is \"apple\" if this was a list then we can change it easily but its a tuple so we can't change it...\n",
    "#If you run this code this will 100% give you an error but if you change it into list then it won't give you an error...\n",
    "variable[0] =\"cake\"\n",
    "print(variable)"
   ]
  },
  {
   "cell_type": "markdown",
   "id": "973d10b0",
   "metadata": {},
   "source": [
    "# List vs Tuple\n",
    "Lists and tuples have some similarities, but there are also some important differences. Here are some key differences:\n",
    "\n",
    "**1)** Lists are mutable, while tuples are immutable.\n",
    "\n",
    "**2)** Lists are usually used for collections of related items that need to be modified, while tuples are usually used for fixed collections of related items.\n",
    "\n",
    "**3)** Lists consumes more memory while tuples consumes less.\n",
    "\n",
    "**4)** Lists has many built-in methods while tuples doesn't have many built-in methods.\n",
    "\n",
    "**5)** Unexpected errors and changes can easily occur in lists while unexpected errors and changes rarely occur in tuples.\n",
    "\n",
    "**6)** The implication of iterations is time-consuming in the list while the implications of iterations are much faster in tuples.\n",
    "\n",
    "**7)** Tuples are often used to represent a single object with multiple attributes, while lists are often used to represent collections of similar objects."
   ]
  },
  {
   "cell_type": "markdown",
   "id": "9491b026",
   "metadata": {},
   "source": [
    "# Styling Your Code in Python:\n",
    "Styling your code is important for readability and maintainability. Here are some tips for styling your Python code:\n",
    "\n",
    "**1)** Use consistent naming conventions for variables, functions, and classes. For example, use lowercase letters and underscores for variable names, and capitalize the first letter of each word for class names.\n",
    "\n",
    "**2)** Use whitespace to make your code more readable. For example, use blank lines to separate code blocks and functions, and use spaces around operators and after commas.\n",
    "\n",
    "**3)** Limit the length of your code lines to 79 characters or less. This makes your code easier to read in most text editors and on most displays.\n",
    "\n",
    "**4)** Use comments to explain your code and provide context. Comments can help you and other developers understand what your code does and why it does it.\n",
    "\n",
    "**5)** Use docstrings to provide documentation for your functions and classes. Docstrings are multi-line strings that describe what a function or class does and how to use it.\n",
    "\n",
    "**6)** Use Python's built-in formatting tools, such as f-strings and the format() method, to format strings in a consistent and readable way."
   ]
  },
  {
   "cell_type": "code",
   "execution_count": 19,
   "id": "63e8388c",
   "metadata": {},
   "outputs": [
    {
     "name": "stdout",
     "output_type": "stream",
     "text": [
      "My name is Hafiz Hassan Mustafa and I am 23 years old\n"
     ]
    }
   ],
   "source": [
    "person = {\"name\": \"Hafiz Hassan Mustafa\", \"age\": 23}\n",
    "print(\"My name is {name} and I am {age} years old\".format(**person))\n"
   ]
  },
  {
   "cell_type": "code",
   "execution_count": null,
   "id": "e88166a1",
   "metadata": {},
   "outputs": [],
   "source": []
  }
 ],
 "metadata": {
  "kernelspec": {
   "display_name": "Python 3 (ipykernel)",
   "language": "python",
   "name": "python3"
  },
  "language_info": {
   "codemirror_mode": {
    "name": "ipython",
    "version": 3
   },
   "file_extension": ".py",
   "mimetype": "text/x-python",
   "name": "python",
   "nbconvert_exporter": "python",
   "pygments_lexer": "ipython3",
   "version": "3.8.16"
  }
 },
 "nbformat": 4,
 "nbformat_minor": 5
}
