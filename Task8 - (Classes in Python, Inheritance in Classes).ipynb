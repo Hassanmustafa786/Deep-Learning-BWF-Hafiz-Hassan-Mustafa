{
 "cells": [
  {
   "cell_type": "markdown",
   "id": "94f8bca9",
   "metadata": {},
   "source": [
    "# Classes in Python\n",
    "In Python, a class is a blueprint or a template for creating objects. It defines a set of attributes and methods that describe the behavior of the objects created from the class.\n",
    "\n",
    "When you create individual objects from the class, each object is automatically equipped with the general behavior; you can then give each object whatever unique traits you desire. You’ll be amazed how well real-world situations can be modeled with object-oriented programming.\n",
    "\n",
    "Making an object from a class is called **instantiation**, and you work with instances of a class. In this topic you’ll write classes and create instances of those classes. You’ll specify the kind of information that can be stored in instances, and you’ll define actions that can be taken with these instances.\n",
    "\n",
    "Docstring describing what this class does."
   ]
  },
  {
   "cell_type": "code",
   "execution_count": 1,
   "id": "a7d0a02d",
   "metadata": {},
   "outputs": [],
   "source": [
    "# Creating the Dog Class\n",
    "class Dog():\n",
    "    \"\"\"A simple attempt to model a dog.\"\"\"\n",
    "    \n",
    "    def __init__(self, name, age):\n",
    "        \"\"\"Initialize name and age attributes.\"\"\"\n",
    "        self.name = name\n",
    "        self.age = age\n",
    "    \n",
    "    def sit(self):\n",
    "        \"\"\"Simulate a dog sitting in response to a command.\"\"\"\n",
    "        print(self.name.title() + \" is now sitting.\")\n",
    "    \n",
    "    def roll_over(self):\n",
    "        \"\"\"Simulate rolling over in response to a command.\"\"\"\n",
    "        print(self.name.title() + \" rolled over!\")"
   ]
  },
  {
   "cell_type": "code",
   "execution_count": 2,
   "id": "137c5bca",
   "metadata": {},
   "outputs": [
    {
     "name": "stdout",
     "output_type": "stream",
     "text": [
      "My dog's name is Willie.\n",
      "My dog is 6 years old.\n"
     ]
    }
   ],
   "source": [
    "my_dog = Dog('willie', 6)\n",
    "print(\"My dog's name is \" + my_dog.name.title() + \".\")\n",
    "print(\"My dog is \" + str(my_dog.age) + \" years old.\")"
   ]
  },
  {
   "cell_type": "code",
   "execution_count": 3,
   "id": "c7fe7786",
   "metadata": {},
   "outputs": [
    {
     "name": "stdout",
     "output_type": "stream",
     "text": [
      "willie\n",
      "6\n"
     ]
    }
   ],
   "source": [
    "print(my_dog.name)\n",
    "print(my_dog.age)"
   ]
  },
  {
   "cell_type": "code",
   "execution_count": 4,
   "id": "566d8ce2",
   "metadata": {},
   "outputs": [
    {
     "name": "stdout",
     "output_type": "stream",
     "text": [
      "Willie is now sitting.\n",
      "Willie rolled over!\n"
     ]
    }
   ],
   "source": [
    "my_dog.sit()\n",
    "my_dog.roll_over()"
   ]
  },
  {
   "cell_type": "code",
   "execution_count": 5,
   "id": "0a3a03b9",
   "metadata": {},
   "outputs": [
    {
     "name": "stdout",
     "output_type": "stream",
     "text": [
      "My dog's name is Willie.\n",
      "My dog is 6 years old.\n",
      "Willie is now sitting.\n"
     ]
    }
   ],
   "source": [
    "my_dog = Dog('willie', 6)\n",
    "your_dog = Dog('lucy', 3)\n",
    "\n",
    "print(\"My dog's name is \" + my_dog.name.title() + \".\")\n",
    "print(\"My dog is \" + str(my_dog.age) + \" years old.\")\n",
    "\n",
    "my_dog.sit()"
   ]
  },
  {
   "cell_type": "code",
   "execution_count": 6,
   "id": "830a16a2",
   "metadata": {},
   "outputs": [
    {
     "name": "stdout",
     "output_type": "stream",
     "text": [
      "\n",
      "Your dog's name is Lucy.\n",
      "Your dog is 3 years old.\n",
      "Lucy is now sitting.\n"
     ]
    }
   ],
   "source": [
    "print(\"\\nYour dog's name is \" + your_dog.name.title() + \".\")\n",
    "print(\"Your dog is \" + str(your_dog.age) + \" years old.\")\n",
    "your_dog.sit()"
   ]
  },
  {
   "cell_type": "code",
   "execution_count": 7,
   "id": "37e8a0a0",
   "metadata": {},
   "outputs": [],
   "source": [
    "class Restaurant():\n",
    "    \"\"\"A simple attempt to model a Restaurant.\"\"\"\n",
    "    \n",
    "    def __init__(self, restaurant_name, cuisine_type):\n",
    "        \"\"\"Initialize restaurant_name and cuisine_type attributes.\"\"\"\n",
    "        self.restaurant_name = restaurant_name\n",
    "        self.cuisine_type = cuisine_type\n",
    "        \n",
    "    def describe_restaurant(self):\n",
    "        \"\"\"Simulate a describe restaurant in response to a command.\"\"\"\n",
    "        print(self.restaurant_name.title() + \" is a five star restaurant.\")\n",
    "        \n",
    "    def open_restaurant(self):\n",
    "        \"\"\"Simulate the timing of restaurant in response to a command.\"\"\"\n",
    "        print(self.restaurant_name.title() + \" open from 7:00 PM to 2:00 AM\")"
   ]
  },
  {
   "cell_type": "code",
   "execution_count": 8,
   "id": "e463d1a7",
   "metadata": {},
   "outputs": [
    {
     "name": "stdout",
     "output_type": "stream",
     "text": [
      "The Restaurant name is Student Biryani\n",
      "The Cuisine type is Italian\n"
     ]
    }
   ],
   "source": [
    "output = Restaurant('student biryani', 'italian')\n",
    "\n",
    "print(\"The Restaurant name is \" + output.restaurant_name.title())\n",
    "print(\"The Cuisine type is \" + output.cuisine_type.title())"
   ]
  },
  {
   "cell_type": "code",
   "execution_count": 9,
   "id": "696aec0b",
   "metadata": {},
   "outputs": [
    {
     "name": "stdout",
     "output_type": "stream",
     "text": [
      "student biryani\n",
      "italian\n"
     ]
    }
   ],
   "source": [
    "print(output.restaurant_name)\n",
    "print(output.cuisine_type)"
   ]
  },
  {
   "cell_type": "code",
   "execution_count": 10,
   "id": "c2878ce6",
   "metadata": {},
   "outputs": [
    {
     "name": "stdout",
     "output_type": "stream",
     "text": [
      "Student Biryani is a five star restaurant.\n",
      "Student Biryani open from 7:00 PM to 2:00 AM\n"
     ]
    }
   ],
   "source": [
    "output.describe_restaurant()\n",
    "output.open_restaurant()"
   ]
  },
  {
   "cell_type": "code",
   "execution_count": 11,
   "id": "2c9c0244",
   "metadata": {},
   "outputs": [
    {
     "name": "stdout",
     "output_type": "stream",
     "text": [
      "The Restaurant name is Red Chilli\n",
      "The Cuisine type is Italian\n",
      "----------------------------------------------------------\n",
      "The Restaurant name is Student Biryani\n",
      "The Cuisine type is Pakistani\n",
      "----------------------------------------------------------\n",
      "The Restaurant name is Chipotle Mexican Grill\n",
      "The Cuisine type is Mexican\n"
     ]
    }
   ],
   "source": [
    "person_1 = Restaurant('Red chilli', 'italian')\n",
    "person_2 = Restaurant('student biryani', 'pakistani')\n",
    "person_3 = Restaurant('Chipotle Mexican Grill', 'Mexican')\n",
    "\n",
    "print(\"The Restaurant name is \" + person_1.restaurant_name.title())\n",
    "print(\"The Cuisine type is \" + person_1.cuisine_type.title())\n",
    "\n",
    "print(\"----------------------------------------------------------\")\n",
    "\n",
    "print(\"The Restaurant name is \" + person_2.restaurant_name.title())\n",
    "print(\"The Cuisine type is \" + person_2.cuisine_type.title())\n",
    "\n",
    "print(\"----------------------------------------------------------\")\n",
    "\n",
    "print(\"The Restaurant name is \" + person_3.restaurant_name.title())\n",
    "print(\"The Cuisine type is \" + person_3.cuisine_type.title())"
   ]
  },
  {
   "cell_type": "code",
   "execution_count": 12,
   "id": "7b75a54e",
   "metadata": {},
   "outputs": [
    {
     "name": "stdout",
     "output_type": "stream",
     "text": [
      "Red Chilli is a five star restaurant.\n",
      "Red Chilli open from 7:00 PM to 2:00 AM\n"
     ]
    }
   ],
   "source": [
    "person_1.describe_restaurant()\n",
    "person_1.open_restaurant()"
   ]
  },
  {
   "cell_type": "code",
   "execution_count": 13,
   "id": "b80e6464",
   "metadata": {},
   "outputs": [
    {
     "name": "stdout",
     "output_type": "stream",
     "text": [
      "Student Biryani is a five star restaurant.\n",
      "Student Biryani open from 7:00 PM to 2:00 AM\n"
     ]
    }
   ],
   "source": [
    "person_2.describe_restaurant()\n",
    "person_2.open_restaurant()"
   ]
  },
  {
   "cell_type": "code",
   "execution_count": 14,
   "id": "b24c3718",
   "metadata": {},
   "outputs": [
    {
     "name": "stdout",
     "output_type": "stream",
     "text": [
      "Chipotle Mexican Grill is a five star restaurant.\n",
      "Chipotle Mexican Grill open from 7:00 PM to 2:00 AM\n"
     ]
    }
   ],
   "source": [
    "person_3.describe_restaurant()\n",
    "person_3.open_restaurant()"
   ]
  },
  {
   "cell_type": "code",
   "execution_count": 15,
   "id": "e2027ee2",
   "metadata": {},
   "outputs": [],
   "source": [
    "class User():\n",
    "    \n",
    "    def __init__(self, first_name, last_name, age, profession, occupation):\n",
    "        \n",
    "        self.first_name = first_name\n",
    "        self.last_name = last_name\n",
    "        self.age = age\n",
    "        self.profession = profession\n",
    "        self.occupation = occupation\n",
    "        \n",
    "    def greet_user(self):\n",
    "        print(\"Hello! \" + self.first_name.title() + \" I'm glad that you came here.\")\n",
    "        \n",
    "    def describe_user(self):\n",
    "        print(f\"User: {self.first_name.title()} {self.last_name.title()}\")\n",
    "        print(f\"Age: {self.age}\")\n",
    "        print(f\"Profession: {self.profession}\")\n",
    "        print(f\"Occupation: {self.occupation}\\n\")"
   ]
  },
  {
   "cell_type": "code",
   "execution_count": 16,
   "id": "ed71563f",
   "metadata": {},
   "outputs": [
    {
     "name": "stdout",
     "output_type": "stream",
     "text": [
      "Employee name: Hassan Mustafa\n",
      "Employee age: 23\n",
      "Employee profession: Mechanical Engineer\n",
      "Employee occupation: Data Scientist\n"
     ]
    }
   ],
   "source": [
    "member = User(\"hassan\", \"mustafa\", 23, \"Mechanical Engineer\", \"Data Scientist\")\n",
    "\n",
    "print(\"Employee name:\", member.first_name.title(), member.last_name.title())\n",
    "print(\"Employee age:\", member.age)\n",
    "print(\"Employee profession:\", member.profession.title())\n",
    "print(\"Employee occupation:\", member.occupation.title())"
   ]
  },
  {
   "cell_type": "code",
   "execution_count": 17,
   "id": "093e2784",
   "metadata": {},
   "outputs": [
    {
     "name": "stdout",
     "output_type": "stream",
     "text": [
      "Hello! Hassan I'm glad that you came here.\n"
     ]
    }
   ],
   "source": [
    "member.greet_user()"
   ]
  },
  {
   "cell_type": "code",
   "execution_count": 18,
   "id": "1df8182d",
   "metadata": {},
   "outputs": [
    {
     "name": "stdout",
     "output_type": "stream",
     "text": [
      "User: Hassan Mustafa\n",
      "Age: 23\n",
      "Profession: Mechanical Engineer\n",
      "Occupation: Data Scientist\n",
      "\n"
     ]
    }
   ],
   "source": [
    "member.describe_user()"
   ]
  },
  {
   "cell_type": "code",
   "execution_count": 19,
   "id": "67be54eb",
   "metadata": {},
   "outputs": [
    {
     "name": "stdout",
     "output_type": "stream",
     "text": [
      "2016 Audi A4\n"
     ]
    }
   ],
   "source": [
    "class Car():\n",
    "    \"\"\"A simple attempt to represent a car.\"\"\"\n",
    "    \n",
    "    def __init__(self, make, model, year):\n",
    "        \"\"\"Initialize attributes to describe a car.\"\"\"\n",
    "        self.make = make\n",
    "        self.model = model\n",
    "        self.year = year\n",
    "        self.odometer_reading = 0\n",
    "        \n",
    "    def get_descriptive_name(self):\n",
    "        \"\"\"Return a neatly formatted descriptive name.\"\"\"\n",
    "        long_name = str(self.year) + ' ' + self.make + ' ' + self.model\n",
    "        return long_name.title()\n",
    "    \n",
    "    def read_odometer(self):\n",
    "        \"\"\"Print a statement showing the car's mileage.\"\"\"\n",
    "        print(\"This car has \" + str(self.odometer_reading) + \" miles on it.\")\n",
    "        \n",
    "    def update_odometer(self, mileage):\n",
    "        \"\"\"Set the odometer reading to the given value.\"\"\"\n",
    "        self.odometer_reading = mileage\n",
    "\n",
    "    def updated_odometer(self, mileage):\n",
    "        \"\"\"\n",
    "        Set the odometer reading to the given value.\n",
    "        Reject the change if it attempts to roll the odometer back.\n",
    "        \"\"\"\n",
    "        if mileage >= self.odometer_reading:\n",
    "            self.odometer_reading = mileage\n",
    "        else:\n",
    "            print(\"You can't roll back an odometer!\")\n",
    "            \n",
    "    def increment_odometer(self, miles):\n",
    "        \"\"\"Add the given amount to the odometer reading.\"\"\"\n",
    "        self.odometer_reading += miles\n",
    "    \n",
    "my_new_car = Car('audi', 'a4', 2016)\n",
    "print(my_new_car.get_descriptive_name())"
   ]
  },
  {
   "cell_type": "code",
   "execution_count": 20,
   "id": "4f7de8ef",
   "metadata": {},
   "outputs": [
    {
     "name": "stdout",
     "output_type": "stream",
     "text": [
      "2016 Audi A4\n",
      "This car has 0 miles on it.\n"
     ]
    }
   ],
   "source": [
    "my_new_car = Car('audi', 'a4', 2016)\n",
    "print(my_new_car.get_descriptive_name())\n",
    "my_new_car.read_odometer()"
   ]
  },
  {
   "cell_type": "code",
   "execution_count": 21,
   "id": "4c2c0075",
   "metadata": {},
   "outputs": [
    {
     "name": "stdout",
     "output_type": "stream",
     "text": [
      "This car has 23 miles on it.\n"
     ]
    }
   ],
   "source": [
    "my_new_car.odometer_reading = 23\n",
    "my_new_car.read_odometer()"
   ]
  },
  {
   "cell_type": "code",
   "execution_count": 29,
   "id": "92808fcc",
   "metadata": {},
   "outputs": [
    {
     "name": "stdout",
     "output_type": "stream",
     "text": [
      "This car has 23 miles on it.\n"
     ]
    }
   ],
   "source": [
    "my_new_car.update_odometer(23)\n",
    "my_new_car.read_odometer()"
   ]
  },
  {
   "cell_type": "code",
   "execution_count": 23,
   "id": "ae05b92b",
   "metadata": {},
   "outputs": [
    {
     "name": "stdout",
     "output_type": "stream",
     "text": [
      "2013 Subaru Outback\n"
     ]
    }
   ],
   "source": [
    "my_used_car = Car('subaru', 'outback', 2013)\n",
    "print(my_used_car.get_descriptive_name())"
   ]
  },
  {
   "cell_type": "code",
   "execution_count": 36,
   "id": "64f7ef6c",
   "metadata": {},
   "outputs": [
    {
     "name": "stdout",
     "output_type": "stream",
     "text": [
      "This car has 23500 miles on it.\n"
     ]
    }
   ],
   "source": [
    "my_used_car.update_odometer(23500)\n",
    "my_used_car.read_odometer()"
   ]
  },
  {
   "cell_type": "code",
   "execution_count": 37,
   "id": "5121bc70",
   "metadata": {},
   "outputs": [
    {
     "name": "stdout",
     "output_type": "stream",
     "text": [
      "This car has 23600 miles on it.\n"
     ]
    }
   ],
   "source": [
    "my_used_car.increment_odometer(100)\n",
    "my_used_car.read_odometer()"
   ]
  },
  {
   "cell_type": "markdown",
   "id": "1ae4179a",
   "metadata": {},
   "source": [
    "# Inheritance in Classes\n",
    "Inheritance is a mechanism in object-oriented programming that allows a new class to be based on an existing class, inheriting its attributes and methods. The existing class is called the parent class or superclass, and the new class is called the child class or subclass.\n",
    "\n",
    "In Python, you can create a subclass by specifying the name of the parent class in parentheses after the name of the child class, like this:"
   ]
  },
  {
   "cell_type": "code",
   "execution_count": 40,
   "id": "4f75b14f",
   "metadata": {},
   "outputs": [],
   "source": [
    "class Animal:\n",
    "    def __init__(self, name, species):\n",
    "        self.name = name\n",
    "        self.species = species\n",
    "\n",
    "    def make_sound(self):\n",
    "        print(\"The animal makes a sound.\")\n",
    "\n",
    "class Dog(Animal):\n",
    "    def __init__(self, name, breed):\n",
    "        super().__init__(name, species=\"Dog\")\n",
    "        self.breed = breed\n",
    "\n",
    "    def make_sound(self):\n",
    "        print(\"Arrrrr Woof!\")"
   ]
  },
  {
   "cell_type": "markdown",
   "id": "a64c5572",
   "metadata": {},
   "source": [
    "In this example, Animal is the parent class, and Dog is the child class. The Dog class inherits the name and species attributes and the **make_sound()** method from the Animal class, and defines its own breed attribute and **make_sound()** method that overrides the parent method.\n",
    "\n",
    "We can now create instances of the Dog class and call its methods:"
   ]
  },
  {
   "cell_type": "code",
   "execution_count": 42,
   "id": "ea2f2d48",
   "metadata": {},
   "outputs": [
    {
     "name": "stdout",
     "output_type": "stream",
     "text": [
      "My dog's name is Tony, and he is a German Shehpherd.\n",
      "Arrrrr Woof!\n"
     ]
    }
   ],
   "source": [
    "my_dog = Dog(\"Tony\", \"German Shehpherd\")\n",
    "\n",
    "print(f\"My dog's name is {my_dog.name}, and he is a {my_dog.breed}.\")\n",
    "my_dog.make_sound()"
   ]
  },
  {
   "cell_type": "code",
   "execution_count": 45,
   "id": "6b0255c3",
   "metadata": {},
   "outputs": [
    {
     "name": "stdout",
     "output_type": "stream",
     "text": [
      "2016 Tesla Model S\n"
     ]
    }
   ],
   "source": [
    "class ElectricCar(Car):\n",
    "    \"\"\"Represent aspects of a car, specific to electric vehicles.\"\"\"\n",
    "    \n",
    "    def __init__(self, make, model, year):\n",
    "        \"\"\"Initialize attributes of the parent class.\"\"\"\n",
    "        super().__init__(make, model, year)\n",
    "\n",
    "my_tesla = ElectricCar('tesla', 'model s', 2016)\n",
    "print(my_tesla.get_descriptive_name())"
   ]
  },
  {
   "cell_type": "markdown",
   "id": "aacb0027",
   "metadata": {},
   "source": [
    "The **super()** function is a special function that helps Python make connections between the parent and child class. This line tells Python to call the **__init__()** method from ElectricCar’s parent class, which gives an ElectricCar instance all the attributes of its parent class. The name super comes from a convention of calling the parent class a superclass and the child class a subclass."
   ]
  },
  {
   "cell_type": "code",
   "execution_count": 47,
   "id": "f8b59822",
   "metadata": {},
   "outputs": [
    {
     "name": "stdout",
     "output_type": "stream",
     "text": [
      "Python 3.8.0\n"
     ]
    }
   ],
   "source": [
    "!python --version"
   ]
  },
  {
   "cell_type": "code",
   "execution_count": 55,
   "id": "3cc4a963",
   "metadata": {},
   "outputs": [
    {
     "name": "stdout",
     "output_type": "stream",
     "text": [
      "2016 Tesla Model S\n",
      "This car has a 70-kWh battery.\n"
     ]
    }
   ],
   "source": [
    "class ElectricCar(Car):\n",
    "    \"\"\"Represent aspects of a car, specific to electric vehicles.\"\"\"\n",
    "    \n",
    "    def __init__(self, make, model, year):\n",
    "        \"\"\"\n",
    "        Initialize attributes of the parent class.\n",
    "        Then initialize attributes specific to an electric car.\n",
    "        \"\"\"\n",
    "        super().__init__(make, model, year)\n",
    "        self.battery_size = 70\n",
    "    \n",
    "    def describe_battery(self):\n",
    "        \"\"\"Print a statement describing the battery size.\"\"\"\n",
    "        print(\"This car has a \" + str(self.battery_size) + \"-kWh battery.\")\n",
    "        \n",
    "    def fill_gas_tank(self):\n",
    "        \"\"\"Electric cars don't have gas tanks.\"\"\"\n",
    "        print(\"This car doesn't need a gas tank!\")\n",
    "\n",
    "my_tesla = ElectricCar('tesla', 'model s', 2016)\n",
    "print(my_tesla.get_descriptive_name())\n",
    "my_tesla.describe_battery()"
   ]
  },
  {
   "cell_type": "code",
   "execution_count": 56,
   "id": "eb981f29",
   "metadata": {},
   "outputs": [
    {
     "name": "stdout",
     "output_type": "stream",
     "text": [
      "This car doesn't need a gas tank!\n"
     ]
    }
   ],
   "source": [
    "my_tesla.fill_gas_tank()"
   ]
  },
  {
   "cell_type": "code",
   "execution_count": null,
   "id": "6046c6df",
   "metadata": {},
   "outputs": [],
   "source": []
  }
 ],
 "metadata": {
  "kernelspec": {
   "display_name": "Python 3 (ipykernel)",
   "language": "python",
   "name": "python3"
  },
  "language_info": {
   "codemirror_mode": {
    "name": "ipython",
    "version": 3
   },
   "file_extension": ".py",
   "mimetype": "text/x-python",
   "name": "python",
   "nbconvert_exporter": "python",
   "pygments_lexer": "ipython3",
   "version": "3.8.0"
  }
 },
 "nbformat": 4,
 "nbformat_minor": 5
}
