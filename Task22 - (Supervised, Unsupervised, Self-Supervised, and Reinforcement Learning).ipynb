{
 "cells": [
  {
   "cell_type": "markdown",
   "id": "c3e5300b",
   "metadata": {},
   "source": [
    "# Supervised Learning\n",
    "This is by far the most common case. It consists of learning to map input data to known targets (also called annotations), given a set of examples (often annotated by humans). All four examples you’ve encountered in this book so far were canonical examples of supervised learning. Generally, almost all applications of deep learning that are in the spotlight these days belong in this category, such as optical character recognition, speech recognition, image classification, and language translation. Although supervised learning mostly consists of classification and regression, there are more exotic variants as well, including the following (with examples):\n",
    "1. **Sequence generation:** Given a picture, predict a caption describing it. Sequence generation can sometimes be reformulated as a series of classification problems (such as repeatedly predicting a word or token in a sequence).\n",
    "2. **Syntax tree prediction:** Given a sentence, predict its decomposition into a syntax tree.\n",
    "3. **Object detection:** Given a picture, draw a bounding box around certain objects inside the picture. This can also be expressed as a classification problem (given many candidate bounding boxes, classify the contents of each one) or as a joint classification and regression problem, where the bounding-box coordinates are predicted via vector regression.\n",
    "4. **Image segmentation:** Given a picture, draw a pixel-level mask on a specific object. \n",
    "\n",
    "Supervised learning is a type of machine learning where the algorithm is trained on a labeled dataset, meaning that each data point in the dataset is associated with a corresponding label or output. In deep learning, supervised learning is often used to train neural networks to perform tasks such as image classification, natural language processing, and speech recognition.\n",
    "\n",
    "In this example, we are using the CIFAR-10 dataset, which consists of 60,000 32x32 color images in 10 classes, with 6,000 images per class. We load the dataset using Keras, preprocess the data by normalizing it to values between 0 and 1, define a simple CNN architecture, compile the model with an optimizer, a loss function, and a metric, and then train the model for 10 epochs. Finally, we evaluate the model on the test set and print the test accuracy."
   ]
  },
  {
   "cell_type": "markdown",
   "id": "a1a824d8",
   "metadata": {},
   "source": [
    "# Unsupervised Learning\n",
    "Unsupervised learning is a type of machine learning technique where the model is not given any pre-labeled data, but instead it must learn to identify patterns and relationships within the input data on its own. Unlike supervised learning, where the model is trained on labeled data to make predictions, unsupervised learning algorithms focus on finding hidden structures or clusters in the data without any prior knowledge or guidance.\n",
    "\n",
    "The most common unsupervised learning algorithms include clustering, anomaly detection, and dimensionality reduction. Clustering algorithms group similar data points together based on their similarity, while anomaly detection algorithms identify rare and unusual data points. Dimensionality reduction techniques help to reduce the number of features in the dataset while preserving as much information as possible.\n",
    "\n",
    "Some common applications of unsupervised learning include customer segmentation, fraud detection, image and video processing, natural language processing, and recommendation systems. Unsupervised learning is an important area of machine learning and has many practical applications in various industries."
   ]
  },
  {
   "cell_type": "markdown",
   "id": "c4d630ee",
   "metadata": {},
   "source": [
    "# Self-supervised Learning\n",
    "This is a specific instance of supervised learning, but it’s different enough that it deserves its own category. Self-supervised learning is supervised learning without Four branches of machine learning 95 human-annotated labels—you can think of it as supervised learning without any humans in the loop. There are still labels involved (because the learning has to be supervised by something), but they’re generated from the input data, typically using a heuristic algorithm.\n",
    "\n",
    "For instance, autoencoders are a well-known instance of self-supervised learning, where the generated targets are the input, unmodified. In the same way, trying to predict the next frame in a video, given past frames, or the next word in a text, given previous words, are instances of self-supervised learning (temporally supervised learning, in this case: supervision comes from future input data). Note that the distinction between supervised, self-supervised, and unsupervised learning can be blurry sometimes—these categories are more of a continuum without solid borders. Self-supervised learning can be reinterpreted as either supervised or unsupervised learning, depending on whether you pay attention to the learning mechanism or to the context of its application."
   ]
  },
  {
   "cell_type": "markdown",
   "id": "da5734bf",
   "metadata": {},
   "source": [
    "# Reinforcement learning\n",
    "Long overlooked, this branch of machine learning recently started to get a lot of attention after Google DeepMind successfully applied it to learning to play Atari games (and, later, learning to play Go at the highest level). In reinforcement learning,\n",
    "an agent receives information about its environment and learns to choose actions that will maximize some reward. For instance, a neural network that “looks” at a video game screen and outputs game actions in order to maximize its score can be trained via reinforcement learning.\n",
    "\n",
    "Currently, reinforcement learning is mostly a research area and hasn’t yet had significant practical successes beyond games. In time, however, we expect to see reinforcement learning take over an increasingly large range of real-world applications: self-driving cars, robotics, resource management, education, and so on. It’s an idea whose time has come, or will come soon."
   ]
  }
 ],
 "metadata": {
  "kernelspec": {
   "display_name": "Python 3 (ipykernel)",
   "language": "python",
   "name": "python3"
  },
  "language_info": {
   "codemirror_mode": {
    "name": "ipython",
    "version": 3
   },
   "file_extension": ".py",
   "mimetype": "text/x-python",
   "name": "python",
   "nbconvert_exporter": "python",
   "pygments_lexer": "ipython3",
   "version": "3.8.0"
  }
 },
 "nbformat": 4,
 "nbformat_minor": 5
}
