{
 "cells": [
  {
   "cell_type": "markdown",
   "id": "6a0f4044",
   "metadata": {},
   "source": [
    "# Syntax\n",
    "In Python, syntax refers to the set of rules that define how the code must be structured and formatted. Proper syntax is essential for the Python interpreter to understand the code and execute it correctly.\n",
    "\n",
    "Here are some important rules of Python syntax:\n",
    "\n",
    "**Indentation:** Python uses indentation to denote blocks of code. Indentation refers to the number of spaces or tabs at the beginning of a line. Blocks of code that are at the same level of indentation belong to the same block. This is different from other programming languages that use curly braces to denote blocks of code.\n",
    "\n",
    "**Statements:** In Python, statements are the individual instructions that make up a program. A statement typically ends with a newline character, but you can use a semicolon (;) to separate multiple statements on the same line.\n",
    "\n",
    "**Comments:** Comments are used to document your code and make it easier to understand. In Python, comments start with the hash symbol (#) and continue to the end of the line. Comments are ignored by the interpreter and do not affect the code's execution.\n",
    "\n",
    "These are just a few of the key elements of Python syntax. Python is a highly readable language, and it's designed to be easy to learn and use. By following the rules of Python syntax, you can write clear, concise code that is easy to understand and maintain."
   ]
  },
  {
   "cell_type": "code",
   "execution_count": 9,
   "id": "fa834e43",
   "metadata": {},
   "outputs": [
    {
     "name": "stdout",
     "output_type": "stream",
     "text": [
      "Hello, Hafiz Hassan Mustafa\n",
      "100.5\n",
      "123 456\n"
     ]
    }
   ],
   "source": [
    "print(\"Hello, Hafiz Hassan Mustafa\")   #String data\n",
    "print(100.5)                           #Float data\n",
    "print(123,\"456\")                       #Integer & String data"
   ]
  },
  {
   "cell_type": "markdown",
   "id": "e2577137",
   "metadata": {},
   "source": [
    "# Exercise"
   ]
  },
  {
   "cell_type": "code",
   "execution_count": 40,
   "id": "84de668b",
   "metadata": {},
   "outputs": [
    {
     "name": "stdout",
     "output_type": "stream",
     "text": [
      "Hello Hafiz Hassan mustafa , are you hungry?\n"
     ]
    }
   ],
   "source": [
    "#2-3. Personal Message:\n",
    "\n",
    "name = \"Hafiz Hassan mustafa\"\n",
    "print(\"Hello\", name,\", are you hungry?\")"
   ]
  },
  {
   "cell_type": "code",
   "execution_count": 41,
   "id": "451f3959",
   "metadata": {},
   "outputs": [
    {
     "name": "stdout",
     "output_type": "stream",
     "text": [
      "hafiz hassan mustafa\n",
      "HAFIZ HASSAN MUSTAFA\n",
      "Hafiz Hassan Mustafa\n"
     ]
    }
   ],
   "source": [
    "#2-4. Name Cases:\n",
    "\n",
    "print(name.lower())\n",
    "print(name.upper())\n",
    "print(name.title())"
   ]
  },
  {
   "cell_type": "code",
   "execution_count": 43,
   "id": "d1f0c4f0",
   "metadata": {},
   "outputs": [
    {
     "name": "stdout",
     "output_type": "stream",
     "text": [
      "Steve Jobs once said, \"The only way to do great work is to love what you do.\"\n"
     ]
    }
   ],
   "source": [
    "#2-5. Famous Quote:\n",
    "\n",
    "print('Steve Jobs once said, \"The only way to do great work is to love what you do.\"')"
   ]
  },
  {
   "cell_type": "code",
   "execution_count": 44,
   "id": "a1ee57cb",
   "metadata": {},
   "outputs": [
    {
     "name": "stdout",
     "output_type": "stream",
     "text": [
      "Peter Drucker once said, \"The best way to predict the future is to create it.\"\n"
     ]
    }
   ],
   "source": [
    "#2-6. Famous Quote 2:\n",
    "\n",
    "famous_person = \"Peter Drucker\"\n",
    "message = \"The best way to predict the future is to create it.\"\n",
    "print(famous_person, 'once said, \"'+message+'\"')"
   ]
  },
  {
   "cell_type": "code",
   "execution_count": 55,
   "id": "deae90fc",
   "metadata": {},
   "outputs": [
    {
     "name": "stdout",
     "output_type": "stream",
     "text": [
      "\tHafiz Hassan Mustafa\n",
      "\n",
      "Hafiz Hassan Mustafa\n",
      "\n",
      "\tHafiz Hassan Mustafa\n",
      "Hafiz Hassan Mustafa\n"
     ]
    }
   ],
   "source": [
    "#2-7. Stripping Names:\n",
    "\n",
    "person_name = \"\\tHafiz Hassan Mustafa\\n\"\n",
    "print(person_name)\n",
    "print(person_name.lstrip())\n",
    "print(person_name.rstrip())\n",
    "print(person_name.strip())"
   ]
  },
  {
   "cell_type": "markdown",
   "id": "9614c4c6",
   "metadata": {},
   "source": [
    "# Variables\n",
    "In Python, variables are created by assigning a value to a name using the equals sign (=). Variable names must follow certain rules, such as starting with a letter or underscore and not using reserved keywords."
   ]
  },
  {
   "cell_type": "code",
   "execution_count": 12,
   "id": "4d29c8a0",
   "metadata": {},
   "outputs": [
    {
     "name": "stdout",
     "output_type": "stream",
     "text": [
      "Hafiz Hassan Mustafa\n",
      "100.5\n",
      "45\n"
     ]
    }
   ],
   "source": [
    "a = \"Hafiz Hassan Mustafa\"\n",
    "b = 100.5\n",
    "c = 45\n",
    "print(a)\n",
    "print(b)\n",
    "print(c)"
   ]
  },
  {
   "cell_type": "markdown",
   "id": "e149a981",
   "metadata": {},
   "source": [
    "# Exercise"
   ]
  },
  {
   "cell_type": "code",
   "execution_count": 56,
   "id": "d62b6ce1",
   "metadata": {},
   "outputs": [
    {
     "name": "stdout",
     "output_type": "stream",
     "text": [
      "The best way to predict the future is to create it.\n"
     ]
    }
   ],
   "source": [
    "#2-1. Simple Message:\n",
    "\n",
    "message = \"The best way to predict the future is to create it.\"\n",
    "print(message)"
   ]
  },
  {
   "cell_type": "code",
   "execution_count": 58,
   "id": "2131d987",
   "metadata": {},
   "outputs": [
    {
     "name": "stdout",
     "output_type": "stream",
     "text": [
      "Hello, Hafiz Hassan Mustafa!\n",
      "How do you do?\n"
     ]
    }
   ],
   "source": [
    "#2-2. Simple Messages:\n",
    "\n",
    "message = \"Hello, Hafiz Hassan Mustafa!\"\n",
    "print(message)\n",
    "\n",
    "message = \"How do you do?\"\n",
    "print(message)"
   ]
  },
  {
   "cell_type": "markdown",
   "id": "b65aee41",
   "metadata": {},
   "source": [
    "# Datatypes\n",
    "Python has several built-in datatypes, including:\n",
    "1) Integers\n",
    "2) Floating-point numbers\n",
    "3) Strings\n",
    "4) Lists\n",
    "5) Tuples\n",
    "6) Sets\n",
    "7) Dictionaries\n",
    "8) Booleans"
   ]
  },
  {
   "cell_type": "code",
   "execution_count": 30,
   "id": "f6bcde14",
   "metadata": {},
   "outputs": [],
   "source": [
    "a = \"Hafiz Hassan Mustafa\"\n",
    "b = 100.5\n",
    "c = 45\n",
    "d = [1,2,3]\n",
    "e = (1,2,3)\n",
    "f = {1,2,3}\n",
    "g = {\"Name\" : \"Hafiz Hassan Mustafa\", \"Age\":23}\n",
    "h = True"
   ]
  },
  {
   "cell_type": "code",
   "execution_count": 31,
   "id": "528d84f1",
   "metadata": {},
   "outputs": [
    {
     "name": "stdout",
     "output_type": "stream",
     "text": [
      "<class 'str'>\n",
      "<class 'float'>\n",
      "<class 'int'>\n",
      "<class 'list'>\n",
      "<class 'tuple'>\n",
      "<class 'set'>\n",
      "<class 'dict'>\n",
      "<class 'bool'>\n"
     ]
    }
   ],
   "source": [
    "print(type(a))\n",
    "print(type(b))\n",
    "print(type(c))\n",
    "print(type(d))\n",
    "print(type(e))\n",
    "print(type(f))\n",
    "print(type(g))\n",
    "print(type(h))"
   ]
  },
  {
   "cell_type": "markdown",
   "id": "0a39a363",
   "metadata": {},
   "source": [
    "# Code Execution\n",
    "When you run a Python program or script, the code is executed by the Python interpreter. The interpreter reads the code line by line and executes each line as it goes. Here's a basic overview of the steps involved in executing Python code:\n",
    "\n",
    "**1) Lexical analysis:** The interpreter first breaks down the code into smaller units called tokens. These tokens can be keywords, operators, identifiers, or literals.\n",
    "\n",
    "**2) Syntax analysis:** The interpreter then checks the code for syntax errors. It ensures that the code follows the rules of the Python programming language.\n",
    "\n",
    "**3) Compilation:** The interpreter then compiles the code into byte code, which is a lower-level representation of the code that can be executed more quickly than the original source code.\n",
    "\n",
    "**4) Execution:** The interpreter then executes the byte code. As it runs, it reads input from the user and generates output, such as text on the screen or data saved to a file.\n",
    "\n",
    "**5) Termination:** Finally, the program terminates when it reaches the end of the code or encounters an error.\n",
    "\n",
    "Python also allows for the use of modules and packages, which are pre-written code that can be imported and used within your program. These modules and packages can be written in Python or other languages, and they allow for the reuse of code across multiple programs."
   ]
  },
  {
   "cell_type": "code",
   "execution_count": null,
   "id": "d79eab14",
   "metadata": {},
   "outputs": [],
   "source": []
  }
 ],
 "metadata": {
  "kernelspec": {
   "display_name": "Python 3 (ipykernel)",
   "language": "python",
   "name": "python3"
  },
  "language_info": {
   "codemirror_mode": {
    "name": "ipython",
    "version": 3
   },
   "file_extension": ".py",
   "mimetype": "text/x-python",
   "name": "python",
   "nbconvert_exporter": "python",
   "pygments_lexer": "ipython3",
   "version": "3.8.16"
  }
 },
 "nbformat": 4,
 "nbformat_minor": 5
}
