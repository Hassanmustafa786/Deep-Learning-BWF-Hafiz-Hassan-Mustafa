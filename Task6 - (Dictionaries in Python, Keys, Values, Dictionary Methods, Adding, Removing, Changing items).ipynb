{
 "cells": [
  {
   "cell_type": "markdown",
   "id": "37cf6dfb",
   "metadata": {},
   "source": [
    "# Dictionary in Python\n",
    "A dictionary in Python is a collection of key-value pairs. Each key in the dictionary maps to a value, and you can use the key to access the corresponding value. In Python, a dictionary is a data structure that stores key-value pairs. Keys are unique identifiers that are used to look up corresponding values. Dictionaries are created using curly **braces {}** and key-value pairs are separated by commas."
   ]
  },
  {
   "cell_type": "code",
   "execution_count": 1,
   "id": "e406db89",
   "metadata": {},
   "outputs": [
    {
     "name": "stdout",
     "output_type": "stream",
     "text": [
      "{'apple': 1, 'banana': 2, 'orange': 3}\n"
     ]
    }
   ],
   "source": [
    "my_dict = {'apple': 1, 'banana': 2, 'orange': 3}\n",
    "print(my_dict)"
   ]
  },
  {
   "cell_type": "code",
   "execution_count": 2,
   "id": "0aef7809",
   "metadata": {},
   "outputs": [
    {
     "name": "stdout",
     "output_type": "stream",
     "text": [
      "This is on 2 position!\n"
     ]
    }
   ],
   "source": [
    "position = my_dict['banana']\n",
    "print(\"This is on \" + str(position) + \" position!\")"
   ]
  },
  {
   "cell_type": "markdown",
   "id": "c3a520d5",
   "metadata": {},
   "source": [
    "# Keys & Values\n",
    "In Python dictionaries, keys and values are the two main components that make up each entry in the dictionary.\n",
    "\n",
    "A key is a unique identifier that is used to access the corresponding value in the dictionary. Keys must be immutable objects (e.g., strings, numbers, or tuples) because they are used as hash values for fast access to the values in the dictionary.\n",
    "\n",
    "You can also use the **keys()** method to get a list of all the keys in the dictionary, and the **values()** method to get a list of all the values:"
   ]
  },
  {
   "cell_type": "code",
   "execution_count": 3,
   "id": "263326b2",
   "metadata": {},
   "outputs": [
    {
     "name": "stdout",
     "output_type": "stream",
     "text": [
      "dict_keys(['apple', 'banana', 'orange'])\n",
      "dict_values([1, 2, 3])\n"
     ]
    }
   ],
   "source": [
    "print(my_dict.keys())\n",
    "print(my_dict.values())"
   ]
  },
  {
   "cell_type": "markdown",
   "id": "8a014232",
   "metadata": {},
   "source": [
    "You can check if a key is present in a dictionary using the **in** keyword, like this:"
   ]
  },
  {
   "cell_type": "code",
   "execution_count": 4,
   "id": "a9e66767",
   "metadata": {},
   "outputs": [
    {
     "name": "stdout",
     "output_type": "stream",
     "text": [
      "No\n"
     ]
    }
   ],
   "source": [
    "if 'grape' in my_dict:\n",
    "    print('Yes')\n",
    "else:\n",
    "    print('No')"
   ]
  },
  {
   "cell_type": "markdown",
   "id": "76419a79",
   "metadata": {},
   "source": [
    "# Changing an item\n",
    "In Python, you can change the value of an item in a dictionary by accessing the key and assigning a new value to it."
   ]
  },
  {
   "cell_type": "code",
   "execution_count": 5,
   "id": "2743f220",
   "metadata": {},
   "outputs": [
    {
     "name": "stdout",
     "output_type": "stream",
     "text": [
      "{'apple': 1, 'banana': 5, 'orange': 3}\n"
     ]
    }
   ],
   "source": [
    "my_dict['banana'] = 5\n",
    "print(my_dict)"
   ]
  },
  {
   "cell_type": "markdown",
   "id": "192b44f0",
   "metadata": {},
   "source": [
    "# Adding\n",
    "To add a new key-value pair to a dictionary, you can simply assign a value to a new key, like this:"
   ]
  },
  {
   "cell_type": "code",
   "execution_count": 6,
   "id": "9eeba361",
   "metadata": {},
   "outputs": [
    {
     "name": "stdout",
     "output_type": "stream",
     "text": [
      "{'apple': 1, 'banana': 5, 'orange': 3, 'grape': 4}\n"
     ]
    }
   ],
   "source": [
    "my_dict['grape'] = 4\n",
    "print(my_dict)"
   ]
  },
  {
   "cell_type": "markdown",
   "id": "e8647b8a",
   "metadata": {},
   "source": [
    "If the key already exists in the dictionary, assigning a new value to the key will overwrite the previous value."
   ]
  },
  {
   "cell_type": "code",
   "execution_count": 7,
   "id": "c88d06bc",
   "metadata": {},
   "outputs": [
    {
     "name": "stdout",
     "output_type": "stream",
     "text": [
      "{'apple': 1, 'banana': 2, 'orange': 3, 'grape': 4}\n"
     ]
    }
   ],
   "source": [
    "my_dict['banana'] = 2\n",
    "print(my_dict)"
   ]
  },
  {
   "cell_type": "markdown",
   "id": "a7e80b4b",
   "metadata": {},
   "source": [
    "You can also use the **update()** method to add new key-value pairs to a dictionary. The **update()** method takes a dictionary as an argument, and adds all the key-value pairs from the argument dictionary to the original dictionary. If a key already exists in the original dictionary, the value will be updated with the new value."
   ]
  },
  {
   "cell_type": "code",
   "execution_count": 8,
   "id": "e1241d82",
   "metadata": {},
   "outputs": [
    {
     "name": "stdout",
     "output_type": "stream",
     "text": [
      "{'apple': 1, 'banana': 2, 'orange': 3, 'grape': 4, 'pear': 5}\n"
     ]
    }
   ],
   "source": [
    "new_dict = {'pear': 5}\n",
    "\n",
    "my_dict.update(new_dict)\n",
    "print(my_dict)"
   ]
  },
  {
   "cell_type": "markdown",
   "id": "ab33960d",
   "metadata": {},
   "source": [
    "# Removing\n",
    "You can remove a key-value pair from a Python dictionary using the **del** statement or the **pop()** method."
   ]
  },
  {
   "cell_type": "code",
   "execution_count": 9,
   "id": "21c3cf8e",
   "metadata": {},
   "outputs": [
    {
     "name": "stdout",
     "output_type": "stream",
     "text": [
      "{'banana': 2, 'orange': 3, 'grape': 4, 'pear': 5}\n"
     ]
    }
   ],
   "source": [
    "del my_dict['apple']\n",
    "print(my_dict)"
   ]
  },
  {
   "cell_type": "code",
   "execution_count": 10,
   "id": "51254186",
   "metadata": {},
   "outputs": [
    {
     "name": "stdout",
     "output_type": "stream",
     "text": [
      "{'orange': 3, 'grape': 4, 'pear': 5}\n"
     ]
    }
   ],
   "source": [
    "my_dict.pop('banana')\n",
    "print(my_dict)"
   ]
  },
  {
   "cell_type": "markdown",
   "id": "cb946218",
   "metadata": {},
   "source": [
    "# Dictionary Methods\n",
    "Python has a set of built-in methods that you can use on dictionaries.\n",
    "\n",
    "**Methods & their Descriptions**\n",
    "\n",
    "**clear()**\t     Removes all the elements from the dictionary.\n",
    "\n",
    "**copy()**\t     Returns a copy of the dictionary.\n",
    "\n",
    "**fromkeys()**\t Returns a dictionary with the specified keys and value.\n",
    "\n",
    "**get()**\t     Returns the value of the specified key.\n",
    "\n",
    "**items()**\t     Returns a list containing a tuple for each key value pair.\n",
    "\n",
    "**keys()**\t     Returns a list containing the dictionary's keys.\n",
    "\n",
    "**pop()**\t     Removes the element with the specified key/.\n",
    "\n",
    "**popitem()**\t Removes the last inserted key-value pair.\n",
    "\n",
    "**setdefault()** Returns the value of the specified key. If the key does not exist: insert the key, with the specified value.\n",
    "\n",
    "**update()**\t Updates the dictionary with the specified key-value pairs.\n",
    "\n",
    "**values()**\t Returns a list of all the values in the dictionary.\n",
    "\n",
    "We have already used some methods above and now we will use the remaining ones."
   ]
  },
  {
   "cell_type": "code",
   "execution_count": 11,
   "id": "1afc8045",
   "metadata": {},
   "outputs": [
    {
     "name": "stdout",
     "output_type": "stream",
     "text": [
      "{'orange': 3, 'grape': 4, 'pear': 5}\n"
     ]
    }
   ],
   "source": [
    "print(my_dict)"
   ]
  },
  {
   "cell_type": "code",
   "execution_count": 12,
   "id": "887a4d0d",
   "metadata": {},
   "outputs": [
    {
     "name": "stdout",
     "output_type": "stream",
     "text": [
      "{}\n"
     ]
    }
   ],
   "source": [
    "my_dict.clear()\n",
    "print(my_dict)"
   ]
  },
  {
   "cell_type": "code",
   "execution_count": 13,
   "id": "3e213375",
   "metadata": {},
   "outputs": [
    {
     "name": "stdout",
     "output_type": "stream",
     "text": [
      "{'apple': 1, 'banana': 2, 'orange': 3, 'grape': 4, 'pear': 5}\n"
     ]
    }
   ],
   "source": [
    "my_dict = {'apple': 1, 'banana': 2, 'orange': 3, 'grape': 4, 'pear': 5}\n",
    "\n",
    "copy_dict = my_dict.copy()\n",
    "print(copy_dict)"
   ]
  },
  {
   "cell_type": "code",
   "execution_count": 14,
   "id": "939b15a4",
   "metadata": {},
   "outputs": [
    {
     "name": "stdout",
     "output_type": "stream",
     "text": [
      "<class 'dict'>\n",
      "{'Monday': 5, 'Tuesday': 5, 'Wednesday': 5}\n"
     ]
    }
   ],
   "source": [
    "keys = ('Monday','Tuesday', 'Wednesday')\n",
    "values = 5\n",
    "\n",
    "new_dict = dict.fromkeys(keys,values)\n",
    "\n",
    "print(type(new_dict))\n",
    "print(new_dict)"
   ]
  },
  {
   "cell_type": "code",
   "execution_count": 15,
   "id": "139512a9",
   "metadata": {},
   "outputs": [
    {
     "data": {
      "text/plain": [
       "4"
      ]
     },
     "execution_count": 15,
     "metadata": {},
     "output_type": "execute_result"
    }
   ],
   "source": [
    "my_dict.get('grape')"
   ]
  },
  {
   "cell_type": "code",
   "execution_count": 16,
   "id": "b2f9d813",
   "metadata": {},
   "outputs": [
    {
     "data": {
      "text/plain": [
       "dict_items([('apple', 1), ('banana', 2), ('orange', 3), ('grape', 4), ('pear', 5)])"
      ]
     },
     "execution_count": 16,
     "metadata": {},
     "output_type": "execute_result"
    }
   ],
   "source": [
    "my_dict.items()"
   ]
  },
  {
   "cell_type": "code",
   "execution_count": 17,
   "id": "4fd72340",
   "metadata": {},
   "outputs": [
    {
     "data": {
      "text/plain": [
       "dict_keys(['apple', 'banana', 'orange', 'grape', 'pear'])"
      ]
     },
     "execution_count": 17,
     "metadata": {},
     "output_type": "execute_result"
    }
   ],
   "source": [
    "my_dict.keys()"
   ]
  },
  {
   "cell_type": "code",
   "execution_count": 18,
   "id": "897431f1",
   "metadata": {},
   "outputs": [
    {
     "data": {
      "text/plain": [
       "{'banana': 2, 'orange': 3, 'grape': 4, 'pear': 5}"
      ]
     },
     "execution_count": 18,
     "metadata": {},
     "output_type": "execute_result"
    }
   ],
   "source": [
    "my_dict.pop('apple')\n",
    "my_dict"
   ]
  },
  {
   "cell_type": "code",
   "execution_count": 19,
   "id": "8dd11e63",
   "metadata": {},
   "outputs": [
    {
     "data": {
      "text/plain": [
       "{'banana': 2, 'orange': 3, 'grape': 4}"
      ]
     },
     "execution_count": 19,
     "metadata": {},
     "output_type": "execute_result"
    }
   ],
   "source": [
    "my_dict.popitem()\n",
    "my_dict"
   ]
  },
  {
   "cell_type": "code",
   "execution_count": 20,
   "id": "13b6d71f",
   "metadata": {},
   "outputs": [
    {
     "data": {
      "text/plain": [
       "{'banana': 2, 'orange': 3, 'grape': 4}"
      ]
     },
     "execution_count": 20,
     "metadata": {},
     "output_type": "execute_result"
    }
   ],
   "source": [
    "my_dict.setdefault('banana',3)\n",
    "my_dict"
   ]
  },
  {
   "cell_type": "code",
   "execution_count": 21,
   "id": "4ee61eee",
   "metadata": {},
   "outputs": [
    {
     "data": {
      "text/plain": [
       "{'banana': 2, 'orange': 3, 'grape': 4, 'apple': 1, 'pear': 5}"
      ]
     },
     "execution_count": 21,
     "metadata": {},
     "output_type": "execute_result"
    }
   ],
   "source": [
    "updated = {'apple':1, 'pear':5}\n",
    "\n",
    "my_dict.update(updated)\n",
    "my_dict"
   ]
  },
  {
   "cell_type": "code",
   "execution_count": 22,
   "id": "f7907962",
   "metadata": {},
   "outputs": [
    {
     "data": {
      "text/plain": [
       "dict_values([2, 3, 4, 1, 5])"
      ]
     },
     "execution_count": 22,
     "metadata": {},
     "output_type": "execute_result"
    }
   ],
   "source": [
    "my_dict.values()"
   ]
  },
  {
   "cell_type": "code",
   "execution_count": 24,
   "id": "77bc2b00",
   "metadata": {},
   "outputs": [
    {
     "data": {
      "text/plain": [
       "{'apple': 1, 'banana': 2, 'orange': 3, 'grape': 4, 'pear': 5}"
      ]
     },
     "execution_count": 24,
     "metadata": {},
     "output_type": "execute_result"
    }
   ],
   "source": [
    "sorted_dict = dict(sorted(my_dict.items(), key= lambda x: x[1]))\n",
    "sorted_dict"
   ]
  },
  {
   "cell_type": "code",
   "execution_count": null,
   "id": "817f2cc3",
   "metadata": {},
   "outputs": [],
   "source": []
  }
 ],
 "metadata": {
  "kernelspec": {
   "display_name": "Python 3 (ipykernel)",
   "language": "python",
   "name": "python3"
  },
  "language_info": {
   "codemirror_mode": {
    "name": "ipython",
    "version": 3
   },
   "file_extension": ".py",
   "mimetype": "text/x-python",
   "name": "python",
   "nbconvert_exporter": "python",
   "pygments_lexer": "ipython3",
   "version": "3.8.0"
  }
 },
 "nbformat": 4,
 "nbformat_minor": 5
}
