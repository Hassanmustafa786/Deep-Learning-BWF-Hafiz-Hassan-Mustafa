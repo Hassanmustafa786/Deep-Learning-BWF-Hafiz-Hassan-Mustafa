{
  "nbformat": 4,
  "nbformat_minor": 0,
  "metadata": {
    "colab": {
      "provenance": [],
      "gpuType": "T4"
    },
    "kernelspec": {
      "name": "python3",
      "display_name": "Python 3"
    },
    "language_info": {
      "name": "python"
    }
  },
  "cells": [
    {
      "cell_type": "markdown",
      "source": [
        "# One-Hot Encoding:\n",
        "\n",
        "One-Hot Encoding is a technique used to represent categorical variables as binary vectors.\n",
        "\n",
        "Each category is assigned a unique index, and a binary vector of length equal to the total number of categories is created.\n",
        "\n",
        "In the one-hot vector, only the element corresponding to the category is set to 1, while all other elements are set to 0.\n",
        "\n",
        "One-Hot Encoding is useful when there is no inherent ordinal relationship between categories, and each category should be treated independently.\n",
        "\n",
        "For example, if you have a categorical feature \"color\" with categories [\"red\", \"blue\", \"green\"], one-hot encoding would represent \"red\" as [1, 0, 0], \"blue\" as [0, 1, 0], and \"green\" as [0, 0, 1]."
      ],
      "metadata": {
        "id": "aFtVZ8QDLAUa"
      }
    },
    {
      "cell_type": "code",
      "execution_count": 3,
      "metadata": {
        "id": "aMc76kYzK_Ye"
      },
      "outputs": [],
      "source": [
        "# Word-level one-hot encoding (toy example)\n",
        "import numpy as np\n",
        "\n",
        "samples = ['The cat sat on the mat.', 'The dog ate my homework.']\n",
        "token_index = {}\n",
        "\n",
        "for sample in samples:\n",
        "  for word in sample.split():\n",
        "    if word not in token_index:\n",
        "      token_index[word] = len(token_index) + 1\n",
        "\n",
        "max_length = 10\n",
        "results = np.zeros(shape=(len(samples),\n",
        "                          max_length,\n",
        "                          max(token_index.values()) + 1))\n",
        "\n",
        "for i, sample in enumerate(samples):\n",
        "  for j, word in list(enumerate(sample.split()))[:max_length]:\n",
        "    index = token_index.get(word)\n",
        "    results[i, j, index] = 1."
      ]
    },
    {
      "cell_type": "code",
      "source": [
        "print(token_index)"
      ],
      "metadata": {
        "colab": {
          "base_uri": "https://localhost:8080/"
        },
        "id": "TTMg948-Nl8A",
        "outputId": "a111d3c0-581f-4efa-8f73-126f4980e5d5"
      },
      "execution_count": 4,
      "outputs": [
        {
          "output_type": "stream",
          "name": "stdout",
          "text": [
            "{'The': 1, 'cat': 2, 'sat': 3, 'on': 4, 'the': 5, 'mat.': 6, 'dog': 7, 'ate': 8, 'my': 9, 'homework.': 10}\n"
          ]
        }
      ]
    },
    {
      "cell_type": "code",
      "source": [
        "print(results)"
      ],
      "metadata": {
        "colab": {
          "base_uri": "https://localhost:8080/"
        },
        "id": "GksQN9ZmXNXV",
        "outputId": "de02f25f-42e0-41be-fecb-f6bfef068375"
      },
      "execution_count": 5,
      "outputs": [
        {
          "output_type": "stream",
          "name": "stdout",
          "text": [
            "[[[0. 1. 0. 0. 0. 0. 0. 0. 0. 0. 0.]\n",
            "  [0. 0. 1. 0. 0. 0. 0. 0. 0. 0. 0.]\n",
            "  [0. 0. 0. 1. 0. 0. 0. 0. 0. 0. 0.]\n",
            "  [0. 0. 0. 0. 1. 0. 0. 0. 0. 0. 0.]\n",
            "  [0. 0. 0. 0. 0. 1. 0. 0. 0. 0. 0.]\n",
            "  [0. 0. 0. 0. 0. 0. 1. 0. 0. 0. 0.]\n",
            "  [0. 0. 0. 0. 0. 0. 0. 0. 0. 0. 0.]\n",
            "  [0. 0. 0. 0. 0. 0. 0. 0. 0. 0. 0.]\n",
            "  [0. 0. 0. 0. 0. 0. 0. 0. 0. 0. 0.]\n",
            "  [0. 0. 0. 0. 0. 0. 0. 0. 0. 0. 0.]]\n",
            "\n",
            " [[0. 1. 0. 0. 0. 0. 0. 0. 0. 0. 0.]\n",
            "  [0. 0. 0. 0. 0. 0. 0. 1. 0. 0. 0.]\n",
            "  [0. 0. 0. 0. 0. 0. 0. 0. 1. 0. 0.]\n",
            "  [0. 0. 0. 0. 0. 0. 0. 0. 0. 1. 0.]\n",
            "  [0. 0. 0. 0. 0. 0. 0. 0. 0. 0. 1.]\n",
            "  [0. 0. 0. 0. 0. 0. 0. 0. 0. 0. 0.]\n",
            "  [0. 0. 0. 0. 0. 0. 0. 0. 0. 0. 0.]\n",
            "  [0. 0. 0. 0. 0. 0. 0. 0. 0. 0. 0.]\n",
            "  [0. 0. 0. 0. 0. 0. 0. 0. 0. 0. 0.]\n",
            "  [0. 0. 0. 0. 0. 0. 0. 0. 0. 0. 0.]]]\n"
          ]
        }
      ]
    },
    {
      "cell_type": "code",
      "source": [
        "#Character-level one-hot encoding (toy example)\n",
        "import string\n",
        "\n",
        "samples = ['The cat sat on the mat.', 'The dog ate my homework.']\n",
        "characters = string.printable\n",
        "token_index = dict(zip(range(1, len(characters) + 1), characters))\n",
        "\n",
        "max_length = 50\n",
        "results = np.zeros((len(samples), max_length, max(token_index.keys()) + 1))\n",
        "for i, sample in enumerate(samples):\n",
        "  for j, character in enumerate(sample):\n",
        "    index = token_index.get(character)\n",
        "    results[i, j, index] = 1."
      ],
      "metadata": {
        "id": "yM24uJkkOtRv"
      },
      "execution_count": 6,
      "outputs": []
    },
    {
      "cell_type": "code",
      "source": [
        "print(token_index)"
      ],
      "metadata": {
        "colab": {
          "base_uri": "https://localhost:8080/"
        },
        "id": "TAk9xO0nO-Wj",
        "outputId": "f7d11954-e982-405f-c60d-ec36d7f0ac2e"
      },
      "execution_count": 7,
      "outputs": [
        {
          "output_type": "stream",
          "name": "stdout",
          "text": [
            "{1: '0', 2: '1', 3: '2', 4: '3', 5: '4', 6: '5', 7: '6', 8: '7', 9: '8', 10: '9', 11: 'a', 12: 'b', 13: 'c', 14: 'd', 15: 'e', 16: 'f', 17: 'g', 18: 'h', 19: 'i', 20: 'j', 21: 'k', 22: 'l', 23: 'm', 24: 'n', 25: 'o', 26: 'p', 27: 'q', 28: 'r', 29: 's', 30: 't', 31: 'u', 32: 'v', 33: 'w', 34: 'x', 35: 'y', 36: 'z', 37: 'A', 38: 'B', 39: 'C', 40: 'D', 41: 'E', 42: 'F', 43: 'G', 44: 'H', 45: 'I', 46: 'J', 47: 'K', 48: 'L', 49: 'M', 50: 'N', 51: 'O', 52: 'P', 53: 'Q', 54: 'R', 55: 'S', 56: 'T', 57: 'U', 58: 'V', 59: 'W', 60: 'X', 61: 'Y', 62: 'Z', 63: '!', 64: '\"', 65: '#', 66: '$', 67: '%', 68: '&', 69: \"'\", 70: '(', 71: ')', 72: '*', 73: '+', 74: ',', 75: '-', 76: '.', 77: '/', 78: ':', 79: ';', 80: '<', 81: '=', 82: '>', 83: '?', 84: '@', 85: '[', 86: '\\\\', 87: ']', 88: '^', 89: '_', 90: '`', 91: '{', 92: '|', 93: '}', 94: '~', 95: ' ', 96: '\\t', 97: '\\n', 98: '\\r', 99: '\\x0b', 100: '\\x0c'}\n"
          ]
        }
      ]
    },
    {
      "cell_type": "code",
      "source": [
        "results.shape"
      ],
      "metadata": {
        "colab": {
          "base_uri": "https://localhost:8080/"
        },
        "id": "GWO7smarXI5i",
        "outputId": "b62fb5c6-66ba-49ea-aff3-6d9580968160"
      },
      "execution_count": 8,
      "outputs": [
        {
          "output_type": "execute_result",
          "data": {
            "text/plain": [
              "(2, 50, 101)"
            ]
          },
          "metadata": {},
          "execution_count": 8
        }
      ]
    },
    {
      "cell_type": "code",
      "source": [
        "#Using Keras for word-level one-hot encoding\n",
        "from keras.preprocessing.text import Tokenizer\n",
        "\n",
        "samples = ['The cat sat on the mat.', 'The dog ate my homework.']\n",
        "tokenizer = Tokenizer(num_words=1000)\n",
        "tokenizer.fit_on_texts(samples)\n",
        "\n",
        "sequences = tokenizer.texts_to_sequences(samples)\n",
        "one_hot_results = tokenizer.texts_to_matrix(samples, mode='binary')\n",
        "\n",
        "word_index = tokenizer.word_index\n",
        "print('Found %s unique tokens.' % len(word_index))"
      ],
      "metadata": {
        "colab": {
          "base_uri": "https://localhost:8080/"
        },
        "id": "qLJhl8KgQYQE",
        "outputId": "1e4eb379-3e77-4c1f-d253-6093d0adc75f"
      },
      "execution_count": 9,
      "outputs": [
        {
          "output_type": "stream",
          "name": "stdout",
          "text": [
            "Found 9 unique tokens.\n"
          ]
        }
      ]
    },
    {
      "cell_type": "code",
      "source": [
        "print(sequences)"
      ],
      "metadata": {
        "colab": {
          "base_uri": "https://localhost:8080/"
        },
        "id": "aBVq1xBrQrrj",
        "outputId": "6898e0ff-a868-4cd6-b39b-4f8b10404f11"
      },
      "execution_count": 10,
      "outputs": [
        {
          "output_type": "stream",
          "name": "stdout",
          "text": [
            "[[1, 2, 3, 4, 1, 5], [1, 6, 7, 8, 9]]\n"
          ]
        }
      ]
    },
    {
      "cell_type": "code",
      "source": [
        "print(word_index)"
      ],
      "metadata": {
        "colab": {
          "base_uri": "https://localhost:8080/"
        },
        "id": "lC4RuTJNW2z3",
        "outputId": "bf81b2cd-5183-435c-cf85-fcc087d29abc"
      },
      "execution_count": 12,
      "outputs": [
        {
          "output_type": "stream",
          "name": "stdout",
          "text": [
            "{'the': 1, 'cat': 2, 'sat': 3, 'on': 4, 'mat': 5, 'dog': 6, 'ate': 7, 'my': 8, 'homework': 9}\n"
          ]
        }
      ]
    },
    {
      "cell_type": "code",
      "source": [
        "#Word-level one-hot encoding with hashing trick (toy example)\n",
        "samples = ['The cat sat on the mat.', 'The dog ate my homework.']\n",
        "\n",
        "dimensionality = 1000\n",
        "max_length = 10\n",
        "\n",
        "results = np.zeros((len(samples), max_length, dimensionality))\n",
        "\n",
        "for i, sample in enumerate(samples):\n",
        "  for j, word in list(enumerate(sample.split()))[:max_length]:\n",
        "    index = abs(hash(word)) % dimensionality\n",
        "    results[i, j, index] = 1."
      ],
      "metadata": {
        "id": "p6wCyvpBRG8t"
      },
      "execution_count": 11,
      "outputs": []
    },
    {
      "cell_type": "code",
      "source": [
        "results.shape"
      ],
      "metadata": {
        "colab": {
          "base_uri": "https://localhost:8080/"
        },
        "id": "7HtDPIt4RZLf",
        "outputId": "19793afa-bc41-46dd-fe04-8d70ea17bb49"
      },
      "execution_count": 13,
      "outputs": [
        {
          "output_type": "execute_result",
          "data": {
            "text/plain": [
              "(2, 10, 1000)"
            ]
          },
          "metadata": {},
          "execution_count": 13
        }
      ]
    },
    {
      "cell_type": "code",
      "source": [
        "np.where(results > 0)"
      ],
      "metadata": {
        "colab": {
          "base_uri": "https://localhost:8080/"
        },
        "id": "FyNAvUdCWjxW",
        "outputId": "d41323f3-53d0-4364-90f2-b48dca7a1986"
      },
      "execution_count": 14,
      "outputs": [
        {
          "output_type": "execute_result",
          "data": {
            "text/plain": [
              "(array([0, 0, 0, 0, 0, 0, 1, 1, 1, 1, 1]),\n",
              " array([0, 1, 2, 3, 4, 5, 0, 1, 2, 3, 4]),\n",
              " array([626, 296, 452, 569, 998, 856, 626, 475, 737, 893,  97]))"
            ]
          },
          "metadata": {},
          "execution_count": 14
        }
      ]
    },
    {
      "cell_type": "markdown",
      "source": [
        "# Word Embeddings:\n",
        "\n",
        "Word Embeddings are dense vector representations of words or phrases that capture semantic relationships and contextual information.\n",
        "\n",
        "Word embeddings are learned through unsupervised techniques like Word2Vec, GloVe, or FastText, using large corpora of text.\n",
        "\n",
        "Each word is represented by a fixed-length vector, where similar words have vectors that are closer together in a high-dimensional space.\n",
        "\n",
        "Word embeddings can be used to capture syntactic and semantic relationships between words, as well as analogies and contextual information.\n",
        "\n",
        "Word embeddings are commonly used in natural language processing (NLP) tasks like text classification, sentiment analysis, and machine translation."
      ],
      "metadata": {
        "id": "ZbCkkRZ9LDrk"
      }
    },
    {
      "cell_type": "code",
      "source": [
        "#Instantiating an Embedding layer\n",
        "from keras.layers import Embedding\n",
        "embedding_layer = Embedding(1000, 64)\n",
        "\n",
        "#Word index >>> Embedding layer >>> Corresponding word vector\n",
        "\n",
        "#Loading the IMDB data for use with an Embedding layer\n",
        "\n",
        "from keras.datasets import imdb\n",
        "from keras import preprocessing\n",
        "from tensorflow.keras.preprocessing.sequence import pad_sequences\n",
        "\n",
        "#Number of words to consider as features\n",
        "max_features = 10000\n",
        "#Cuts off the text after this number of words (among the max_features most common words)\n",
        "maxlen = 20\n",
        "\n",
        "(x_train, y_train), (x_test, y_test) = imdb.load_data(num_words=max_features)\n",
        "#Turns the lists of integers into a 2D integer tensor of shape (samples, maxlen)\n",
        "x_train = pad_sequences(x_train, maxlen=maxlen)\n",
        "x_test = pad_sequences(x_test, maxlen=maxlen)"
      ],
      "metadata": {
        "colab": {
          "base_uri": "https://localhost:8080/"
        },
        "id": "kO5AJ373LGdn",
        "outputId": "a782d632-ea93-4688-e884-335f5d58be2b"
      },
      "execution_count": 15,
      "outputs": [
        {
          "output_type": "stream",
          "name": "stdout",
          "text": [
            "Downloading data from https://storage.googleapis.com/tensorflow/tf-keras-datasets/imdb.npz\n",
            "17464789/17464789 [==============================] - 0s 0us/step\n"
          ]
        }
      ]
    },
    {
      "cell_type": "code",
      "source": [
        "print(x_train)\n",
        "print(x_test)"
      ],
      "metadata": {
        "colab": {
          "base_uri": "https://localhost:8080/"
        },
        "id": "bZ0X8o5OZuyK",
        "outputId": "0657044c-2882-48d9-e549-bbfeafa80e5f"
      },
      "execution_count": 16,
      "outputs": [
        {
          "output_type": "stream",
          "name": "stdout",
          "text": [
            "[[  65   16   38 ...   19  178   32]\n",
            " [  23    4 1690 ...   16  145   95]\n",
            " [1352   13  191 ...    7  129  113]\n",
            " ...\n",
            " [  11 1818 7561 ...    4 3586    2]\n",
            " [  92  401  728 ...   12    9   23]\n",
            " [ 764   40    4 ...  204  131    9]]\n",
            "[[ 286  170    8 ...   14    6  717]\n",
            " [  10   10  472 ...  125    4 3077]\n",
            " [  34    2   45 ...    9   57  975]\n",
            " ...\n",
            " [ 226   20  272 ...   21  846 5518]\n",
            " [  55  117  212 ... 2302    7  470]\n",
            " [  19   14   20 ...   34 2005 2643]]\n"
          ]
        }
      ]
    },
    {
      "cell_type": "code",
      "source": [
        "from keras.models import Sequential\n",
        "from keras.layers import Flatten, Dense\n",
        "\n",
        "model = Sequential()\n",
        "model.add(Embedding(10000, 8, input_length=maxlen))\n",
        "model.add(Flatten())\n",
        "model.add(Dense(1, activation='sigmoid'))\n",
        "\n",
        "model.compile(optimizer='rmsprop', loss='binary_crossentropy', metrics=['acc'])\n",
        "\n",
        "model.summary()"
      ],
      "metadata": {
        "colab": {
          "base_uri": "https://localhost:8080/"
        },
        "id": "aWxqVtxPZ2Ty",
        "outputId": "b3160b15-4270-4fa3-ec8c-983b57da8e9d"
      },
      "execution_count": 17,
      "outputs": [
        {
          "output_type": "stream",
          "name": "stdout",
          "text": [
            "Model: \"sequential\"\n",
            "_________________________________________________________________\n",
            " Layer (type)                Output Shape              Param #   \n",
            "=================================================================\n",
            " embedding_1 (Embedding)     (None, 20, 8)             80000     \n",
            "                                                                 \n",
            " flatten (Flatten)           (None, 160)               0         \n",
            "                                                                 \n",
            " dense (Dense)               (None, 1)                 161       \n",
            "                                                                 \n",
            "=================================================================\n",
            "Total params: 80,161\n",
            "Trainable params: 80,161\n",
            "Non-trainable params: 0\n",
            "_________________________________________________________________\n"
          ]
        }
      ]
    },
    {
      "cell_type": "code",
      "source": [
        "history = model.fit(x_train, y_train,\n",
        "                    epochs=10,\n",
        "                    batch_size=32,\n",
        "                    validation_split=0.2)"
      ],
      "metadata": {
        "colab": {
          "base_uri": "https://localhost:8080/"
        },
        "id": "eYjF5cNpaCXH",
        "outputId": "d0bf3e01-d53b-4f25-c871-669bd592f438"
      },
      "execution_count": 18,
      "outputs": [
        {
          "output_type": "stream",
          "name": "stdout",
          "text": [
            "Epoch 1/10\n",
            "625/625 [==============================] - 5s 6ms/step - loss: 0.6739 - acc: 0.6136 - val_loss: 0.6290 - val_acc: 0.6936\n",
            "Epoch 2/10\n",
            "625/625 [==============================] - 2s 3ms/step - loss: 0.5526 - acc: 0.7454 - val_loss: 0.5316 - val_acc: 0.7248\n",
            "Epoch 3/10\n",
            "625/625 [==============================] - 2s 3ms/step - loss: 0.4672 - acc: 0.7863 - val_loss: 0.5012 - val_acc: 0.7404\n",
            "Epoch 4/10\n",
            "625/625 [==============================] - 2s 4ms/step - loss: 0.4250 - acc: 0.8106 - val_loss: 0.4949 - val_acc: 0.7486\n",
            "Epoch 5/10\n",
            "625/625 [==============================] - 2s 3ms/step - loss: 0.3970 - acc: 0.8243 - val_loss: 0.4953 - val_acc: 0.7484\n",
            "Epoch 6/10\n",
            "625/625 [==============================] - 2s 3ms/step - loss: 0.3737 - acc: 0.8383 - val_loss: 0.4981 - val_acc: 0.7494\n",
            "Epoch 7/10\n",
            "625/625 [==============================] - 2s 2ms/step - loss: 0.3527 - acc: 0.8481 - val_loss: 0.5041 - val_acc: 0.7480\n",
            "Epoch 8/10\n",
            "625/625 [==============================] - 2s 3ms/step - loss: 0.3329 - acc: 0.8586 - val_loss: 0.5115 - val_acc: 0.7454\n",
            "Epoch 9/10\n",
            "625/625 [==============================] - 1s 2ms/step - loss: 0.3144 - acc: 0.8699 - val_loss: 0.5188 - val_acc: 0.7410\n",
            "Epoch 10/10\n",
            "625/625 [==============================] - 2s 3ms/step - loss: 0.2962 - acc: 0.8786 - val_loss: 0.5288 - val_acc: 0.7390\n"
          ]
        }
      ]
    },
    {
      "cell_type": "code",
      "source": [
        "train_loss = history.history['loss']\n",
        "val_loss = history.history['val_loss']\n",
        "\n",
        "train_accuracy = history.history['acc']\n",
        "val_accuracy = history.history['val_acc']"
      ],
      "metadata": {
        "id": "0VD4hvKyaLGD"
      },
      "execution_count": 19,
      "outputs": []
    },
    {
      "cell_type": "code",
      "source": [
        "import matplotlib.pyplot as plt\n",
        "\n",
        "epochs = range(1, len(train_loss) + 1)\n",
        "\n",
        "plt.plot(epochs, train_loss, 'bo', label='Training loss')\n",
        "plt.plot(epochs, val_loss, 'b', label='Validation loss')\n",
        "plt.title('Training and Validation Loss')\n",
        "plt.xlabel('Epochs')\n",
        "plt.ylabel('Loss')\n",
        "plt.legend()\n",
        "plt.show()"
      ],
      "metadata": {
        "colab": {
          "base_uri": "https://localhost:8080/",
          "height": 472
        },
        "id": "7Y1_k09hiuqb",
        "outputId": "1d9bf70b-99b4-4658-c232-411d4afbb6cb"
      },
      "execution_count": 20,
      "outputs": [
        {
          "output_type": "display_data",
          "data": {
            "text/plain": [
              "<Figure size 640x480 with 1 Axes>"
            ],
            "image/png": "[encoded data removed]"
          },
          "metadata": {}
        }
      ]
    },
    {
      "cell_type": "code",
      "source": [
        "plt.plot(epochs, train_accuracy, 'bo', label='Training accuracy')\n",
        "plt.plot(epochs, val_accuracy, 'b', label='Validation accuracy')\n",
        "plt.title('Training and Validation Accuracy')\n",
        "plt.xlabel('Epochs')\n",
        "plt.ylabel('Accuracy')\n",
        "plt.legend()\n",
        "plt.show()"
      ],
      "metadata": {
        "colab": {
          "base_uri": "https://localhost:8080/",
          "height": 472
        },
        "id": "SwN90f6Aizo_",
        "outputId": "857d4e95-9593-4dea-e43d-f989be07cf1c"
      },
      "execution_count": 21,
      "outputs": [
        {
          "output_type": "display_data",
          "data": {
            "text/plain": [
              "<Figure size 640x480 with 1 Axes>"
            ],
            "image/png": "[encoded data removed]"
          },
          "metadata": {}
        }
      ]
    },
    {
      "cell_type": "code",
      "source": [
        "from google.colab import drive\n",
        "#Mount Google Drive\n",
        "drive.mount('/content/drive')"
      ],
      "metadata": {
        "colab": {
          "base_uri": "https://localhost:8080/"
        },
        "id": "g7vm39Cuk6MF",
        "outputId": "cabc94a2-7f97-473d-d17c-fcb002053437"
      },
      "execution_count": 22,
      "outputs": [
        {
          "output_type": "stream",
          "name": "stdout",
          "text": [
            "Mounted at /content/drive\n"
          ]
        }
      ]
    },
    {
      "cell_type": "markdown",
      "source": [
        "Raw IMDB Dataset"
      ],
      "metadata": {
        "id": "B2FWAs03UnmF"
      }
    },
    {
      "cell_type": "code",
      "source": [
        "import zipfile\n",
        "\n",
        "# Set the path to your dataset ZIP file in Google Drive\n",
        "zip_path = '/content/drive/MyDrive/aclImdb.zip'\n",
        "\n",
        "# Extract the dataset ZIP file\n",
        "with zipfile.ZipFile(zip_path, 'r') as zip_ref:\n",
        "    zip_ref.extractall('/content/aclImdb')"
      ],
      "metadata": {
        "id": "epAZkchDk_8g"
      },
      "execution_count": 23,
      "outputs": []
    },
    {
      "cell_type": "code",
      "source": [
        "train_zip_path = '/content/aclImdb/aclImdb/train'"
      ],
      "metadata": {
        "id": "uwqVZZROlohE"
      },
      "execution_count": 24,
      "outputs": []
    },
    {
      "cell_type": "code",
      "source": [
        "test_zip_path = '/content/aclImdb/aclImdb/test'"
      ],
      "metadata": {
        "id": "LbRFfNcxlqqI"
      },
      "execution_count": 25,
      "outputs": []
    },
    {
      "cell_type": "code",
      "source": [
        "import os\n",
        "# Set the path to the extracted dataset folder\n",
        "base_dir = '/content/aclImdb/aclImdb'\n",
        "train_data_dir = os.path.join(base_dir, 'train')\n",
        "test_data_dir = os.path.join(base_dir, 'test')"
      ],
      "metadata": {
        "id": "z2RVj_QelrWo"
      },
      "execution_count": 26,
      "outputs": []
    },
    {
      "cell_type": "code",
      "source": [
        "labels = []\n",
        "texts = []\n",
        "\n",
        "for label_type in ['neg', 'pos']:\n",
        "  dir_name = os.path.join(train_data_dir, label_type)\n",
        "  for fname in os.listdir(dir_name):\n",
        "    if fname[-4:] == '.txt':\n",
        "      f = open(os.path.join(dir_name, fname))\n",
        "      texts.append(f.read())\n",
        "      f.close()\n",
        "      if label_type == 'neg':\n",
        "        labels.append(0)\n",
        "      else:\n",
        "        labels.append(1)"
      ],
      "metadata": {
        "id": "lovwaODomsl9"
      },
      "execution_count": 27,
      "outputs": []
    },
    {
      "cell_type": "code",
      "source": [
        "#Tokenizing the text of the raw IMDB data\n",
        "from keras.preprocessing.text import Tokenizer\n",
        "from tensorflow.keras.preprocessing.sequence import pad_sequences\n",
        "import numpy as np\n",
        "\n",
        "maxlen = 100                #Cuts off reviews after 100 words\n",
        "training_samples = 200      #Trains on 200 samples\n",
        "validation_samples = 10000  #Validates on 10,000 samples\n",
        "max_words = 10000           #Considers only the top 10,000 words in the dataset\n",
        "\n",
        "tokenizer = Tokenizer(num_words=max_words)\n",
        "tokenizer.fit_on_texts(texts)\n",
        "sequences = tokenizer.texts_to_sequences(texts)\n",
        "word_index = tokenizer.word_index\n",
        "print('Found %s unique tokens.' % len(word_index))"
      ],
      "metadata": {
        "id": "MYIZrO52riv2",
        "outputId": "032d63d6-0bdb-45ac-aa81-17e8809cc54a",
        "colab": {
          "base_uri": "https://localhost:8080/"
        }
      },
      "execution_count": 28,
      "outputs": [
        {
          "output_type": "stream",
          "name": "stdout",
          "text": [
            "Found 88582 unique tokens.\n"
          ]
        }
      ]
    },
    {
      "cell_type": "code",
      "source": [
        "data = pad_sequences(sequences, maxlen=maxlen)\n",
        "\n",
        "labels = np.asarray(labels)\n",
        "print('Shape of data tensor:', data.shape)\n",
        "print('Shape of label tensor:', labels.shape)"
      ],
      "metadata": {
        "id": "7DnmwXS3spmr",
        "outputId": "d54053c1-602f-4d74-ecfa-5afa08a5d295",
        "colab": {
          "base_uri": "https://localhost:8080/"
        }
      },
      "execution_count": 29,
      "outputs": [
        {
          "output_type": "stream",
          "name": "stdout",
          "text": [
            "Shape of data tensor: (25000, 100)\n",
            "Shape of label tensor: (25000,)\n"
          ]
        }
      ]
    },
    {
      "cell_type": "code",
      "source": [
        "#Splits the data into a training set and a validation set, but first shuffles the data,\n",
        "#because you’re starting with data in which samples are ordered (all negative first, then all positive)\n",
        "\n",
        "indices = np.arange(data.shape[0])\n",
        "np.random.shuffle(indices)\n",
        "data = data[indices]\n",
        "labels = labels[indices]"
      ],
      "metadata": {
        "id": "sc6uqNVNsvXc"
      },
      "execution_count": 30,
      "outputs": []
    },
    {
      "cell_type": "code",
      "source": [
        "x_train = data[:training_samples]\n",
        "y_train = labels[:training_samples]\n",
        "x_val = data[training_samples: training_samples + validation_samples]\n",
        "y_val = labels[training_samples: training_samples + validation_samples]"
      ],
      "metadata": {
        "id": "cofApF1rs-bw"
      },
      "execution_count": 31,
      "outputs": []
    },
    {
      "cell_type": "code",
      "source": [
        "# Set the path to your dataset ZIP file in Google Drive\n",
        "zip_path = '/content/drive/MyDrive/archive.zip'\n",
        "\n",
        "# Extract the dataset ZIP file\n",
        "with zipfile.ZipFile(zip_path, 'r') as zip_ref:\n",
        "    zip_ref.extractall('/content/archive')"
      ],
      "metadata": {
        "id": "OmhLGT8ISK7R"
      },
      "execution_count": 32,
      "outputs": []
    },
    {
      "cell_type": "code",
      "source": [
        "glove_dir = '/content/archive'\n",
        "\n",
        "embeddings_index = {}\n",
        "f = open(os.path.join(glove_dir, 'glove.6B.100d.txt'))\n",
        "for line in f:\n",
        "  values = line.split()\n",
        "  word = values[0]\n",
        "  coefs = np.asarray(values[1:], dtype='float32')\n",
        "  embeddings_index[word] = coefs\n",
        "\n",
        "f.close()\n",
        "print('Found %s word vectors.' % len(embeddings_index))"
      ],
      "metadata": {
        "id": "dg9w5u9W0ORM",
        "outputId": "9d7f598a-4663-44c6-d0e6-b6fe84be8329",
        "colab": {
          "base_uri": "https://localhost:8080/"
        }
      },
      "execution_count": 33,
      "outputs": [
        {
          "output_type": "stream",
          "name": "stdout",
          "text": [
            "Found 400000 word vectors.\n"
          ]
        }
      ]
    },
    {
      "cell_type": "code",
      "source": [
        "#Preparing the GloVe word-embeddings matrix\n",
        "embedding_dim = 100\n",
        "\n",
        "embedding_matrix = np.zeros((max_words, embedding_dim))\n",
        "for word, i in word_index.items():\n",
        "  if i < max_words:\n",
        "    embedding_vector = embeddings_index.get(word)\n",
        "    if embedding_vector is not None:\n",
        "      embedding_matrix[i] = embedding_vector           #Words not found in the embedding index will be all zeros."
      ],
      "metadata": {
        "id": "cPYTxjOT0Oi8"
      },
      "execution_count": 34,
      "outputs": []
    },
    {
      "cell_type": "code",
      "source": [
        "#Model definition\n",
        "from keras.models import Sequential\n",
        "from keras.layers import Embedding, Flatten, Dense\n",
        "model = Sequential()\n",
        "model.add(Embedding(max_words, embedding_dim, input_length=maxlen))\n",
        "model.add(Flatten())\n",
        "model.add(Dense(32, activation='relu'))\n",
        "model.add(Dense(1, activation='sigmoid'))\n",
        "model.summary()"
      ],
      "metadata": {
        "id": "Hp0XayxA0Olw",
        "outputId": "9bf130e1-63b7-4c6c-91c5-197748835fc9",
        "colab": {
          "base_uri": "https://localhost:8080/"
        }
      },
      "execution_count": 36,
      "outputs": [
        {
          "output_type": "stream",
          "name": "stdout",
          "text": [
            "Model: \"sequential_2\"\n",
            "_________________________________________________________________\n",
            " Layer (type)                Output Shape              Param #   \n",
            "=================================================================\n",
            " embedding_3 (Embedding)     (None, 100, 100)          1000000   \n",
            "                                                                 \n",
            " flatten_2 (Flatten)         (None, 10000)             0         \n",
            "                                                                 \n",
            " dense_3 (Dense)             (None, 32)                320032    \n",
            "                                                                 \n",
            " dense_4 (Dense)             (None, 1)                 33        \n",
            "                                                                 \n",
            "=================================================================\n",
            "Total params: 1,320,065\n",
            "Trainable params: 1,320,065\n",
            "Non-trainable params: 0\n",
            "_________________________________________________________________\n"
          ]
        }
      ]
    },
    {
      "cell_type": "code",
      "source": [
        "#Loading pretrained word embeddings into the Embedding layer\n",
        "model.layers[0].set_weights([embedding_matrix])\n",
        "model.layers[0].trainable = False"
      ],
      "metadata": {
        "id": "wF5XHs_R0OoH"
      },
      "execution_count": 37,
      "outputs": []
    },
    {
      "cell_type": "code",
      "source": [
        "#Training and evaluation\n",
        "model.compile(optimizer='rmsprop',loss='binary_crossentropy',metrics=['acc'])\n",
        "\n",
        "history = model.fit(x_train, y_train, epochs=10, batch_size=32, validation_data=(x_val, y_val))"
      ],
      "metadata": {
        "id": "w3t5jHiV0Oqg",
        "outputId": "d2e4333a-c161-49f0-de59-bd0793e037cc",
        "colab": {
          "base_uri": "https://localhost:8080/"
        }
      },
      "execution_count": 38,
      "outputs": [
        {
          "output_type": "stream",
          "name": "stdout",
          "text": [
            "Epoch 1/10\n",
            "7/7 [==============================] - 2s 257ms/step - loss: 1.3443 - acc: 0.4750 - val_loss: 0.6928 - val_acc: 0.4983\n",
            "Epoch 2/10\n",
            "7/7 [==============================] - 3s 444ms/step - loss: 0.6451 - acc: 0.6000 - val_loss: 0.8399 - val_acc: 0.4983\n",
            "Epoch 3/10\n",
            "7/7 [==============================] - 1s 121ms/step - loss: 0.5922 - acc: 0.6550 - val_loss: 0.6929 - val_acc: 0.4996\n",
            "Epoch 4/10\n",
            "7/7 [==============================] - 1s 221ms/step - loss: 0.5487 - acc: 0.6650 - val_loss: 1.3227 - val_acc: 0.4983\n",
            "Epoch 5/10\n",
            "7/7 [==============================] - 1s 222ms/step - loss: 0.5234 - acc: 0.6950 - val_loss: 0.6999 - val_acc: 0.4983\n",
            "Epoch 6/10\n",
            "7/7 [==============================] - 1s 223ms/step - loss: 0.4786 - acc: 0.6700 - val_loss: 0.8314 - val_acc: 0.4983\n",
            "Epoch 7/10\n",
            "7/7 [==============================] - 1s 223ms/step - loss: 0.4325 - acc: 0.8000 - val_loss: 0.8484 - val_acc: 0.4994\n",
            "Epoch 8/10\n",
            "7/7 [==============================] - 1s 221ms/step - loss: 0.3610 - acc: 0.8500 - val_loss: 0.8734 - val_acc: 0.5002\n",
            "Epoch 9/10\n",
            "7/7 [==============================] - 1s 221ms/step - loss: 0.3556 - acc: 0.8550 - val_loss: 1.1582 - val_acc: 0.4983\n",
            "Epoch 10/10\n",
            "7/7 [==============================] - 1s 221ms/step - loss: 0.4388 - acc: 0.7550 - val_loss: 0.6987 - val_acc: 0.5494\n"
          ]
        }
      ]
    },
    {
      "cell_type": "code",
      "source": [
        "model.save_weights('pre_trained_glove_model.h5')"
      ],
      "metadata": {
        "id": "ZgHIKJJ9WAiG"
      },
      "execution_count": 39,
      "outputs": []
    },
    {
      "cell_type": "code",
      "source": [
        "#Plotting the results\n",
        "import matplotlib.pyplot as plt\n",
        "acc = history.history['acc']\n",
        "val_acc = history.history['val_acc']\n",
        "loss = history.history['loss']\n",
        "val_loss = history.history['val_loss']\n",
        "\n",
        "epochs = range(1, len(acc) + 1)\n",
        "\n",
        "plt.plot(epochs, acc, 'bo', label='Training acc')\n",
        "plt.plot(epochs, val_acc, 'b', label='Validation acc')\n",
        "plt.title('Training and validation accuracy')\n",
        "plt.legend()\n",
        "\n",
        "plt.figure()\n",
        "\n",
        "plt.plot(epochs, loss, 'bo', label='Training loss')\n",
        "plt.plot(epochs, val_loss, 'b', label='Validation loss')\n",
        "plt.title('Training and validation loss')\n",
        "plt.legend()\n",
        "\n",
        "plt.show()"
      ],
      "metadata": {
        "id": "5ZOcQ3pFWAk5",
        "outputId": "6a8d89f9-a644-430c-93cf-8e66d41ddb4f",
        "colab": {
          "base_uri": "https://localhost:8080/",
          "height": 887
        }
      },
      "execution_count": 40,
      "outputs": [
        {
          "output_type": "display_data",
          "data": {
            "text/plain": [
              "<Figure size 640x480 with 1 Axes>"
            ],
            "image/png": "[encoded data removed]"
          },
          "metadata": {}
        },
        {
          "output_type": "display_data",
          "data": {
            "text/plain": [
              "<Figure size 640x480 with 1 Axes>"
            ],
            "image/png": "[encoded data removed]"
          },
          "metadata": {}
        }
      ]
    },
    {
      "cell_type": "markdown",
      "source": [
        " Training the same model without pretrained word embeddings"
      ],
      "metadata": {
        "id": "SbhZrc_uX9y7"
      }
    },
    {
      "cell_type": "code",
      "source": [
        "# Training the same model without pretrained word embeddings\n",
        "from keras.models import Sequential\n",
        "from keras.layers import Embedding, Flatten, Dense\n",
        "model = Sequential()\n",
        "model.add(Embedding(max_words, embedding_dim, input_length=maxlen))\n",
        "model.add(Flatten())\n",
        "model.add(Dense(32, activation='relu'))\n",
        "model.add(Dense(1, activation='sigmoid'))\n",
        "model.summary()"
      ],
      "metadata": {
        "id": "rpIMK6qluP55",
        "outputId": "6cee061f-9e88-4cd9-de55-71bafb5d8d9a",
        "colab": {
          "base_uri": "https://localhost:8080/"
        }
      },
      "execution_count": 41,
      "outputs": [
        {
          "output_type": "stream",
          "name": "stdout",
          "text": [
            "Model: \"sequential_3\"\n",
            "_________________________________________________________________\n",
            " Layer (type)                Output Shape              Param #   \n",
            "=================================================================\n",
            " embedding_4 (Embedding)     (None, 100, 100)          1000000   \n",
            "                                                                 \n",
            " flatten_3 (Flatten)         (None, 10000)             0         \n",
            "                                                                 \n",
            " dense_5 (Dense)             (None, 32)                320032    \n",
            "                                                                 \n",
            " dense_6 (Dense)             (None, 1)                 33        \n",
            "                                                                 \n",
            "=================================================================\n",
            "Total params: 1,320,065\n",
            "Trainable params: 1,320,065\n",
            "Non-trainable params: 0\n",
            "_________________________________________________________________\n"
          ]
        }
      ]
    },
    {
      "cell_type": "code",
      "source": [
        "model.compile(optimizer='rmsprop', loss='binary_crossentropy', metrics=['acc'])\n",
        "history = model.fit(x_train, y_train, epochs=10, batch_size=32, validation_data=(x_val, y_val))"
      ],
      "metadata": {
        "id": "6yXp1Mfqur4O",
        "outputId": "70771490-ed9a-4027-b328-eeb2c15837d1",
        "colab": {
          "base_uri": "https://localhost:8080/"
        }
      },
      "execution_count": 42,
      "outputs": [
        {
          "output_type": "stream",
          "name": "stdout",
          "text": [
            "Epoch 1/10\n",
            "7/7 [==============================] - 2s 262ms/step - loss: 0.6940 - acc: 0.4900 - val_loss: 0.6969 - val_acc: 0.5010\n",
            "Epoch 2/10\n",
            "7/7 [==============================] - 1s 228ms/step - loss: 0.5822 - acc: 0.9650 - val_loss: 0.7038 - val_acc: 0.5047\n",
            "Epoch 3/10\n",
            "7/7 [==============================] - 1s 225ms/step - loss: 0.4422 - acc: 0.9750 - val_loss: 0.7027 - val_acc: 0.5070\n",
            "Epoch 4/10\n",
            "7/7 [==============================] - 1s 231ms/step - loss: 0.2785 - acc: 0.9900 - val_loss: 0.7124 - val_acc: 0.5058\n",
            "Epoch 5/10\n",
            "7/7 [==============================] - 1s 228ms/step - loss: 0.1623 - acc: 0.9950 - val_loss: 0.7223 - val_acc: 0.5101\n",
            "Epoch 6/10\n",
            "7/7 [==============================] - 1s 236ms/step - loss: 0.0940 - acc: 1.0000 - val_loss: 0.7349 - val_acc: 0.5108\n",
            "Epoch 7/10\n",
            "7/7 [==============================] - 1s 236ms/step - loss: 0.0569 - acc: 1.0000 - val_loss: 0.7327 - val_acc: 0.5096\n",
            "Epoch 8/10\n",
            "7/7 [==============================] - 1s 233ms/step - loss: 0.0361 - acc: 1.0000 - val_loss: 0.7497 - val_acc: 0.5097\n",
            "Epoch 9/10\n",
            "7/7 [==============================] - 1s 129ms/step - loss: 0.0241 - acc: 1.0000 - val_loss: 0.7498 - val_acc: 0.5089\n",
            "Epoch 10/10\n",
            "7/7 [==============================] - 1s 228ms/step - loss: 0.0166 - acc: 1.0000 - val_loss: 0.7662 - val_acc: 0.5100\n"
          ]
        }
      ]
    },
    {
      "cell_type": "code",
      "source": [
        "#Plotting the results\n",
        "import matplotlib.pyplot as plt\n",
        "acc = history.history['acc']\n",
        "val_acc = history.history['val_acc']\n",
        "loss = history.history['loss']\n",
        "val_loss = history.history['val_loss']\n",
        "\n",
        "epochs = range(1, len(acc) + 1)\n",
        "\n",
        "plt.plot(epochs, acc, 'bo', label='Training acc')\n",
        "plt.plot(epochs, val_acc, 'b', label='Validation acc')\n",
        "plt.title('Training and validation accuracy')\n",
        "plt.legend()\n",
        "\n",
        "plt.figure()\n",
        "\n",
        "plt.plot(epochs, loss, 'bo', label='Training loss')\n",
        "plt.plot(epochs, val_loss, 'b', label='Validation loss')\n",
        "plt.title('Training and validation loss')\n",
        "plt.legend()\n",
        "\n",
        "plt.show()"
      ],
      "metadata": {
        "id": "gGvu-FkBXOiK",
        "outputId": "d5284054-3f97-4513-ae4a-7e819b90168d",
        "colab": {
          "base_uri": "https://localhost:8080/",
          "height": 887
        }
      },
      "execution_count": 44,
      "outputs": [
        {
          "output_type": "display_data",
          "data": {
            "text/plain": [
              "<Figure size 640x480 with 1 Axes>"
            ],
            "image/png": "[encoded data removed]"
          },
          "metadata": {}
        },
        {
          "output_type": "display_data",
          "data": {
            "text/plain": [
              "<Figure size 640x480 with 1 Axes>"
            ],
            "image/png": "[encoded data removed]"
          },
          "metadata": {}
        }
      ]
    },
    {
      "cell_type": "code",
      "source": [
        "# Evaluate the model\n",
        "loss, acc = model.evaluate(x_val, y_val)\n",
        "print('Validation loss:', loss)\n",
        "print('Validation accuracy:', acc)"
      ],
      "metadata": {
        "id": "0qcMdvnZuaMs",
        "outputId": "e20f09e9-4ce0-4412-a36b-4b094ff33acd",
        "colab": {
          "base_uri": "https://localhost:8080/"
        }
      },
      "execution_count": 43,
      "outputs": [
        {
          "output_type": "stream",
          "name": "stdout",
          "text": [
            "313/313 [==============================] - 2s 6ms/step - loss: 0.7662 - acc: 0.5100\n",
            "Validation loss: 0.7662466764450073\n",
            "Validation accuracy: 0.5099999904632568\n"
          ]
        }
      ]
    },
    {
      "cell_type": "markdown",
      "source": [
        " Finally, let’s evaluate the model on the test data. First, you need to tokenize the test data."
      ],
      "metadata": {
        "id": "4xPDjcJ_YQ6I"
      }
    },
    {
      "cell_type": "code",
      "source": [
        "#Tokenizing the data of the test set\n",
        "labels = []\n",
        "texts = []\n",
        "for label_type in ['neg', 'pos']:\n",
        "  dir_name = os.path.join(test_data_dir, label_type)\n",
        "  for fname in sorted(os.listdir(dir_name)):\n",
        "    if fname[-4:] == '.txt':\n",
        "      f = open(os.path.join(dir_name, fname))\n",
        "      texts.append(f.read())\n",
        "\n",
        "      f.close()\n",
        "      if label_type == 'neg':\n",
        "        labels.append(0)\n",
        "      else:\n",
        "        labels.append(1)"
      ],
      "metadata": {
        "id": "_e9PpW1CXXbt"
      },
      "execution_count": 46,
      "outputs": []
    },
    {
      "cell_type": "code",
      "source": [
        "sequences = tokenizer.texts_to_sequences(texts)\n",
        "x_test = pad_sequences(sequences, maxlen=maxlen)\n",
        "y_test = np.asarray(labels)"
      ],
      "metadata": {
        "id": "NUISuO1BYYYr"
      },
      "execution_count": 47,
      "outputs": []
    },
    {
      "cell_type": "code",
      "source": [
        "#Evaluating the model on the test set\n",
        "model.load_weights('pre_trained_glove_model.h5')\n",
        "model.evaluate(x_test, y_test)"
      ],
      "metadata": {
        "id": "9Ek8AZDQZUg0",
        "outputId": "df83b790-0192-482e-a519-97cdcf42fe58",
        "colab": {
          "base_uri": "https://localhost:8080/"
        }
      },
      "execution_count": 48,
      "outputs": [
        {
          "output_type": "stream",
          "name": "stdout",
          "text": [
            "782/782 [==============================] - 3s 3ms/step - loss: 0.7010 - acc: 0.5403\n"
          ]
        },
        {
          "output_type": "execute_result",
          "data": {
            "text/plain": [
              "[0.7010204195976257, 0.5402799844741821]"
            ]
          },
          "metadata": {},
          "execution_count": 48
        }
      ]
    },
    {
      "cell_type": "markdown",
      "source": [
        "You get an appalling test accuracy of 54%. Working with just a handful of training samples is difficult!"
      ],
      "metadata": {
        "id": "9dZS3hZyZeDw"
      }
    }
  ]
}