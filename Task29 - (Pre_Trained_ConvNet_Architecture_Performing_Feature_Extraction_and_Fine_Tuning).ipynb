{
  "nbformat": 4,
  "nbformat_minor": 0,
  "metadata": {
    "colab": {
      "provenance": [],
      "private_outputs": true,
      "gpuType": "T4"
    },
    "kernelspec": {
      "name": "python3",
      "display_name": "Python 3"
    },
    "language_info": {
      "name": "python"
    },
    "accelerator": "GPU"
  },
  "cells": [
    {
      "cell_type": "markdown",
      "source": [
        "# Feature Extraction & Fine-Tuning\n",
        "Performing feature extraction and fine-tuning on a pre-trained Convolutional Neural Network (ConvNet) is a common technique in transfer learning. It allows you to leverage the knowledge and learned representations of a pre-trained model on a large dataset and adapt it to a new task or a smaller dataset.\n",
        "\n",
        "Fine-tuning enables the model to update the weights of the earlier layers to better adapt to the new task. However, it should be done cautiously with a smaller learning rate to avoid catastrophic forgetting or overfitting.\n",
        "\n",
        "Freeze the weights of the convolutional base to prevent them from being updated during training. This freezing step ensures that the pre-trained weights are not altered, and you only perform feature extraction using the existing representations. This way, the model acts as a fixed feature extractor."
      ],
      "metadata": {
        "id": "G35mtD5_dLMI"
      }
    },
    {
      "cell_type": "code",
      "execution_count": null,
      "metadata": {
        "id": "FxgQF6FWGQLm"
      },
      "outputs": [],
      "source": [
        "import os\n",
        "from google.colab import files\n",
        "from google.colab import drive\n",
        "\n",
        "from keras.applications import VGG16\n",
        "from keras.models import Sequential\n",
        "from keras.layers import Dense, Flatten\n",
        "from keras.preprocessing.image import ImageDataGenerator\n",
        "\n",
        "# Step 1: Load the pre-trained VGG16 model without the classification layers\n",
        "base_model = VGG16(weights='imagenet', include_top=False, input_shape=(224, 224, 3))\n",
        "\n",
        "# Step 2: Freeze the weights of the convolutional base\n",
        "base_model.trainable = False\n",
        "\n",
        "# Step 3: Create a new model and add the pre-trained convolutional base\n",
        "model = Sequential()\n",
        "model.add(base_model)\n",
        "\n",
        "# Step 4: Add new classification layers on top\n",
        "model.add(Flatten())\n",
        "model.add(Dense(256, activation='relu'))\n",
        "model.add(Dense(1, activation='sigmoid')) # Update to 1 class\n",
        "\n",
        "# Step 5: Compile the model\n",
        "model.compile(optimizer='adam', loss='binary_crossentropy', metrics=['accuracy'])"
      ]
    },
    {
      "cell_type": "code",
      "source": [
        "#Mount Google Drive\n",
        "drive.mount('/content/drive')"
      ],
      "metadata": {
        "id": "5VzfD1ndK4JG"
      },
      "execution_count": null,
      "outputs": []
    },
    {
      "cell_type": "code",
      "source": [
        "import zipfile\n",
        "\n",
        "# Step 6: Set the path to your dataset ZIP file in Google Drive\n",
        "zip_path = '/content/drive/MyDrive/dogs-vs-cats.zip'\n",
        "\n",
        "# Step 7: Extract the dataset ZIP file\n",
        "with zipfile.ZipFile(zip_path, 'r') as zip_ref:\n",
        "    zip_ref.extractall('/content/dogs-vs-cats')"
      ],
      "metadata": {
        "id": "n0JFFX1eLea5"
      },
      "execution_count": null,
      "outputs": []
    },
    {
      "cell_type": "code",
      "source": [
        "train_zip_path = '/content/dogs-vs-cats/train.zip'\n",
        "\n",
        "with zipfile.ZipFile(train_zip_path, 'r') as train_zip_ref:\n",
        "    train_zip_ref.extractall('/content/dogs-vs-cats/train')"
      ],
      "metadata": {
        "id": "JAOx63exL2z1"
      },
      "execution_count": null,
      "outputs": []
    },
    {
      "cell_type": "code",
      "source": [
        "test_zip_path = '/content/dogs-vs-cats/test1.zip'\n",
        "\n",
        "with zipfile.ZipFile(test_zip_path, 'r') as test_zip_ref:\n",
        "    test_zip_ref.extractall('/content/dogs-vs-cats/test1')"
      ],
      "metadata": {
        "id": "D4gssedSMJbu"
      },
      "execution_count": null,
      "outputs": []
    },
    {
      "cell_type": "code",
      "source": [
        "# Step 8: Set the path to the extracted dataset folder\n",
        "base_dir = '/content/dogs-vs-cats'\n",
        "train_data_dir = os.path.join(base_dir, 'train')\n",
        "test_data_dir = os.path.join(base_dir, 'test1')"
      ],
      "metadata": {
        "id": "2b8x2aUOGjHd"
      },
      "execution_count": null,
      "outputs": []
    },
    {
      "cell_type": "code",
      "source": [
        "# Step 9: Preprocess your data and create data generators\n",
        "datagen = ImageDataGenerator(rescale=1./255)\n",
        "train_generator = datagen.flow_from_directory(\n",
        "    train_data_dir,\n",
        "    target_size=(224, 224),\n",
        "    batch_size=32,\n",
        "    class_mode='binary') # Update to binary class mode\n",
        "\n",
        "# Test data generator\n",
        "test_generator = datagen.flow_from_directory(\n",
        "    test_data_dir,\n",
        "    target_size=(224, 224),\n",
        "    batch_size=32,\n",
        "    class_mode='binary')"
      ],
      "metadata": {
        "id": "yc2fDQOYGjen"
      },
      "execution_count": null,
      "outputs": []
    },
    {
      "cell_type": "code",
      "source": [
        "# Step 10: Train the model (feature extraction)\n",
        "model.fit_generator(\n",
        "    train_generator,\n",
        "    steps_per_epoch=train_generator.samples // train_generator.batch_size,\n",
        "    epochs=10)"
      ],
      "metadata": {
        "id": "sNTK_Q30GjhV"
      },
      "execution_count": null,
      "outputs": []
    },
    {
      "cell_type": "code",
      "source": [
        "# Step 11: Perform fine-tuning (optional)\n",
        "base_model.trainable = True"
      ],
      "metadata": {
        "id": "WX_4ZR_7Gjjx"
      },
      "execution_count": null,
      "outputs": []
    },
    {
      "cell_type": "code",
      "source": [
        "model.compile(optimizer='adam', loss='binary_crossentropy', metrics=['accuracy'])"
      ],
      "metadata": {
        "id": "ADLpiWhtPBhv"
      },
      "execution_count": null,
      "outputs": []
    },
    {
      "cell_type": "code",
      "source": [
        "model.fit_generator(\n",
        "    train_generator,\n",
        "    steps_per_epoch=train_generator.samples // train_generator.batch_size,\n",
        "    epochs=20)"
      ],
      "metadata": {
        "id": "fe4Ln9g_PBkT"
      },
      "execution_count": null,
      "outputs": []
    },
    {
      "cell_type": "code",
      "source": [
        "# Step 12: Evaluate and test the model\n",
        "evaluation = model.evaluate_generator(test_generator, steps=test_generator.samples // test_generator.batch_size)\n",
        "print(\"Test Accuracy: {:.2f}%\".format(evaluation[1] * 100))"
      ],
      "metadata": {
        "id": "pnfnkn8FPBmq"
      },
      "execution_count": null,
      "outputs": []
    },
    {
      "cell_type": "code",
      "source": [
        "import numpy as np\n",
        "import matplotlib.pyplot as plt\n",
        "from sklearn.metrics import confusion_matrix, classification_report\n",
        "\n",
        "# Step 13: Make predictions on the test data\n",
        "num_samples = test_generator.samples\n",
        "batch_size = test_generator.batch_size\n",
        "steps = num_samples // batch_size + 1  # Add +1 to include the remaining samples\n",
        "\n",
        "predictions = model.predict_generator(test_generator, steps=steps)[:num_samples]  # Truncate predictions to match true labels\n",
        "predicted_labels = np.argmax(predictions, axis=1)\n",
        "true_labels = test_generator.classes[:num_samples]"
      ],
      "metadata": {
        "id": "Ntzp6f24UxOW"
      },
      "execution_count": null,
      "outputs": []
    },
    {
      "cell_type": "code",
      "source": [
        "# Step 14: Visualize the confusion matrix\n",
        "cm = confusion_matrix(true_labels, predicted_labels)\n",
        "plt.figure(figsize=(8, 8))\n",
        "plt.imshow(cm, interpolation='nearest', cmap=plt.cm.Blues)\n",
        "plt.title('Confusion Matrix')\n",
        "plt.colorbar()\n",
        "tick_marks = np.arange(len(test_generator.class_indices))\n",
        "class_labels = list(test_generator.class_indices.keys())  # Get the class labels\n",
        "plt.xticks(tick_marks, class_labels, rotation=45)\n",
        "plt.yticks(tick_marks, class_labels)\n",
        "plt.xlabel('Predicted Label')\n",
        "plt.ylabel('True Label')"
      ],
      "metadata": {
        "id": "Y05cmY2EUxXP"
      },
      "execution_count": null,
      "outputs": []
    },
    {
      "cell_type": "code",
      "source": [
        "# Step 15: Print classification report\n",
        "print('Classification Report:')\n",
        "print(classification_report(true_labels, predicted_labels, target_names=class_labels))"
      ],
      "metadata": {
        "id": "BPg5CAfgU86m"
      },
      "execution_count": null,
      "outputs": []
    },
    {
      "cell_type": "code",
      "source": [
        "# Step 16: Display sample images with predicted labels\n",
        "plt.figure(figsize=(12, 12))\n",
        "for i in range(9):\n",
        "    plt.subplot(3, 3, i + 1)\n",
        "    image = test_generator[i][0][0]  # Get the first image of the batch\n",
        "    true_label = class_labels[true_labels[i]]  # Get the true label\n",
        "    predicted_label = class_labels[predicted_labels[i]]  # Get the predicted label\n",
        "    plt.imshow(image)\n",
        "    plt.title(f'True: {true_label}\\nPredicted: {predicted_label}')\n",
        "    plt.axis('off')\n",
        "\n",
        "plt.tight_layout()\n",
        "plt.show()"
      ],
      "metadata": {
        "id": "FGs6GQxiWszi"
      },
      "execution_count": null,
      "outputs": []
    },
    {
      "cell_type": "code",
      "source": [
        "class_indices = test_generator.class_indices\n",
        "print(class_indices)"
      ],
      "metadata": {
        "id": "YwaBMZCrXJS5"
      },
      "execution_count": null,
      "outputs": []
    }
  ]
}