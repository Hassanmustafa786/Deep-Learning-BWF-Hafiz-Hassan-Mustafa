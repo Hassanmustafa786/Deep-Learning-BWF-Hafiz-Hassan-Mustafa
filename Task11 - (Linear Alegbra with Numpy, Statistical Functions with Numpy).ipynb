{
 "cells": [
  {
   "cell_type": "markdown",
   "id": "bd852982",
   "metadata": {},
   "source": [
    "# Importing Numpy Library"
   ]
  },
  {
   "cell_type": "code",
   "execution_count": 1,
   "id": "5e1b5088",
   "metadata": {},
   "outputs": [],
   "source": [
    "import numpy as np"
   ]
  },
  {
   "cell_type": "markdown",
   "id": "dbfe51fd",
   "metadata": {},
   "source": [
    "# Linear Alegbra with Numpy\n",
    "Linear algebra, like matrix multiplication, decompositions, determinants, and other square matrix math, is an important part of any array library. Unlike some languages like MATLAB, multiplying two two-dimensional arrays with * is an element-wise product instead of a matrix dot product. Thus, there is a function dot, both an array method and a function in the numpy namespace, for matrix multiplication:\n",
    "\n",
    "**Creating Arrays:** NumPy provides a function called **array()** that can be used to create arrays. Arrays can be created by passing a list or a tuple of numbers to the **array()** function."
   ]
  },
  {
   "cell_type": "code",
   "execution_count": 11,
   "id": "4b6e10aa",
   "metadata": {},
   "outputs": [
    {
     "name": "stdout",
     "output_type": "stream",
     "text": [
      "[[1. 2. 3.]\n",
      " [4. 5. 6.]]\n",
      "\n",
      " [[ 6. 23.]\n",
      " [-1.  7.]\n",
      " [ 8.  9.]]\n"
     ]
    }
   ],
   "source": [
    "x = np.array([[1., 2., 3.],\n",
    "              [4., 5., 6.]])\n",
    "\n",
    "y = np.array([[6., 23.],\n",
    "              [-1, 7],\n",
    "              [8, 9]])\n",
    "\n",
    "print(x)\n",
    "print(\"\\n\",y)"
   ]
  },
  {
   "cell_type": "markdown",
   "id": "11fb0932",
   "metadata": {},
   "source": [
    "**Matrix Multiplication:** NumPy provides a function called **dot()** that can be used to perform matrix multiplication. The **dot()** function can be used to multiply two matrices or a matrix and a vector."
   ]
  },
  {
   "cell_type": "code",
   "execution_count": 9,
   "id": "b9d3c6b0",
   "metadata": {},
   "outputs": [
    {
     "data": {
      "text/plain": [
       "array([[ 28.,  64.],\n",
       "       [ 67., 181.]])"
      ]
     },
     "execution_count": 9,
     "metadata": {},
     "output_type": "execute_result"
    }
   ],
   "source": [
    "x.dot(y)"
   ]
  },
  {
   "cell_type": "code",
   "execution_count": 10,
   "id": "63b39a53",
   "metadata": {},
   "outputs": [
    {
     "data": {
      "text/plain": [
       "array([[ 28.,  64.],\n",
       "       [ 67., 181.]])"
      ]
     },
     "execution_count": 10,
     "metadata": {},
     "output_type": "execute_result"
    }
   ],
   "source": [
    "#x.dot(y) is equivalent to np.dot(x, y):\n",
    "np.dot(x, y)"
   ]
  },
  {
   "cell_type": "markdown",
   "id": "1021f6a5",
   "metadata": {},
   "source": [
    "A matrix product between a two-dimensional array and a suitably sized one-dimensional array results in a one-dimensional array:"
   ]
  },
  {
   "cell_type": "code",
   "execution_count": 13,
   "id": "e3c84bd5",
   "metadata": {},
   "outputs": [
    {
     "data": {
      "text/plain": [
       "array([ 6., 15.])"
      ]
     },
     "execution_count": 13,
     "metadata": {},
     "output_type": "execute_result"
    }
   ],
   "source": [
    "np.dot(x, np.ones(3))"
   ]
  },
  {
   "cell_type": "markdown",
   "id": "10f418f0",
   "metadata": {},
   "source": [
    "**numpy.linalg** has a standard set of matrix decompositions and things like inverse and determinant. These are implemented under the hood via the same industry-standard linear algebra libraries used in other languages like MATLAB and R, such as BLAS, LAPACK, or possibly (depending on your NumPy build) the proprietary Intel MKL (Math Kernel Library):"
   ]
  },
  {
   "cell_type": "code",
   "execution_count": 14,
   "id": "b6e57aae",
   "metadata": {},
   "outputs": [],
   "source": [
    "from numpy.linalg import inv, qr"
   ]
  },
  {
   "cell_type": "code",
   "execution_count": 19,
   "id": "90ba8fe9",
   "metadata": {},
   "outputs": [
    {
     "data": {
      "text/plain": [
       "array([[ 0.61365981,  1.26088247,  0.56124188,  0.97930718, -0.57120264],\n",
       "       [ 0.83473524, -0.89131741, -1.14226283,  0.64166313, -1.60306647],\n",
       "       [-0.66583446, -0.44737984,  1.60185057, -0.41025029,  1.74172108],\n",
       "       [-0.49842355,  0.54627824,  0.44012237,  0.98487557,  0.20004738],\n",
       "       [ 0.68632202,  1.86185773,  0.90505261,  2.5843496 ,  0.10894697]])"
      ]
     },
     "execution_count": 19,
     "metadata": {},
     "output_type": "execute_result"
    }
   ],
   "source": [
    "X = np.random.randn(5, 5)\n",
    "X"
   ]
  },
  {
   "cell_type": "markdown",
   "id": "89e8abd3",
   "metadata": {},
   "source": [
    "**Transpose of a Matrix:** NumPy provides a function called **transpose(), T** that can be used to calculate the transpose of a matrix."
   ]
  },
  {
   "cell_type": "code",
   "execution_count": 32,
   "id": "b92866d4",
   "metadata": {},
   "outputs": [
    {
     "data": {
      "text/plain": [
       "array([[ 0.61365981,  0.83473524, -0.66583446, -0.49842355,  0.68632202],\n",
       "       [ 1.26088247, -0.89131741, -0.44737984,  0.54627824,  1.86185773],\n",
       "       [ 0.56124188, -1.14226283,  1.60185057,  0.44012237,  0.90505261],\n",
       "       [ 0.97930718,  0.64166313, -0.41025029,  0.98487557,  2.5843496 ],\n",
       "       [-0.57120264, -1.60306647,  1.74172108,  0.20004738,  0.10894697]])"
      ]
     },
     "execution_count": 32,
     "metadata": {},
     "output_type": "execute_result"
    }
   ],
   "source": [
    "# Transpose\n",
    "X.T"
   ]
  },
  {
   "cell_type": "code",
   "execution_count": 33,
   "id": "31babfc3",
   "metadata": {},
   "outputs": [
    {
     "data": {
      "text/plain": [
       "array([[ 0.61365981,  0.83473524, -0.66583446, -0.49842355,  0.68632202],\n",
       "       [ 1.26088247, -0.89131741, -0.44737984,  0.54627824,  1.86185773],\n",
       "       [ 0.56124188, -1.14226283,  1.60185057,  0.44012237,  0.90505261],\n",
       "       [ 0.97930718,  0.64166313, -0.41025029,  0.98487557,  2.5843496 ],\n",
       "       [-0.57120264, -1.60306647,  1.74172108,  0.20004738,  0.10894697]])"
      ]
     },
     "execution_count": 33,
     "metadata": {},
     "output_type": "execute_result"
    }
   ],
   "source": [
    "X.transpose()"
   ]
  },
  {
   "cell_type": "markdown",
   "id": "7c943f18",
   "metadata": {},
   "source": [
    "**Inverse of a Matrix:** NumPy provides a function called **inv()** that can be used to calculate the inverse of a matrix."
   ]
  },
  {
   "cell_type": "code",
   "execution_count": 25,
   "id": "edd6bab7",
   "metadata": {},
   "outputs": [
    {
     "data": {
      "text/plain": [
       "array([[ 2.42566858, -0.02017958, -0.78285474, -0.19646482,  1.69336401],\n",
       "       [-0.02017958,  0.63996055, -0.39299007, -0.31034154,  0.16463909],\n",
       "       [-0.78285474, -0.39299007,  2.25468492, -0.41186112, -2.17715533],\n",
       "       [-0.19646482, -0.31034154, -0.41186112,  0.54008442,  0.39181093],\n",
       "       [ 1.69336401,  0.16463909, -2.17715533,  0.39181093,  2.72665213]])"
      ]
     },
     "execution_count": 25,
     "metadata": {},
     "output_type": "execute_result"
    }
   ],
   "source": [
    "mat = X.T.dot(X)\n",
    "\n",
    "#Inverse\n",
    "inv(mat)"
   ]
  },
  {
   "cell_type": "code",
   "execution_count": 26,
   "id": "e2214dce",
   "metadata": {},
   "outputs": [
    {
     "data": {
      "text/plain": [
       "array([[ 1.00000000e+00, -1.25363254e-16, -1.11001831e-16,\n",
       "         3.26299137e-16,  1.18664862e-16],\n",
       "       [ 4.23900489e-16,  1.00000000e+00,  4.12407153e-16,\n",
       "        -3.34794319e-16,  7.11129816e-16],\n",
       "       [-2.74036638e-16, -2.63933302e-16,  1.00000000e+00,\n",
       "        -2.35128816e-16,  1.29045468e-15],\n",
       "       [ 9.03744031e-16, -1.02870778e-16, -4.73725436e-16,\n",
       "         1.00000000e+00,  1.13005561e-15],\n",
       "       [-8.31375421e-17, -8.55464802e-17, -2.81517864e-16,\n",
       "        -1.97082311e-16,  1.00000000e+00]])"
      ]
     },
     "execution_count": 26,
     "metadata": {},
     "output_type": "execute_result"
    }
   ],
   "source": [
    "mat.dot(inv(mat))"
   ]
  },
  {
   "cell_type": "markdown",
   "id": "a323d63d",
   "metadata": {},
   "source": [
    "**Determinant of a Matrix:** NumPy provides a function called **det()** that can be used to calculate the determinant of a matrix."
   ]
  },
  {
   "cell_type": "code",
   "execution_count": 34,
   "id": "d5f3581f",
   "metadata": {},
   "outputs": [
    {
     "name": "stdout",
     "output_type": "stream",
     "text": [
      "-2.0000000000000004\n"
     ]
    }
   ],
   "source": [
    "a = np.array([[1, 2], [3, 4]])\n",
    "b = np.linalg.det(a)\n",
    "print(b)"
   ]
  },
  {
   "cell_type": "markdown",
   "id": "6a0fcd36",
   "metadata": {},
   "source": [
    "In this code, mat is a square matrix, and the **qr()** function in NumPy is used to perform the QR decomposition of the matrix mat.\n",
    "\n",
    "QR decomposition factorizes a matrix A into the product of an orthogonal matrix Q and an upper triangular matrix R. The **qr()** function in NumPy returns the factorized matrices Q and R as separate arrays."
   ]
  },
  {
   "cell_type": "code",
   "execution_count": 29,
   "id": "ab6237c1",
   "metadata": {},
   "outputs": [
    {
     "data": {
      "text/plain": [
       "array([[-4.88938799, -4.84662313,  2.70981087, -8.54916849,  6.93687803],\n",
       "       [ 0.        , -8.10334557, -7.20425446, -7.8553729 , -4.27414973],\n",
       "       [ 0.        ,  0.        , -1.37191368, -0.6833949 , -1.03675289],\n",
       "       [ 0.        ,  0.        ,  0.        , -1.3626009 ,  0.16047939],\n",
       "       [ 0.        ,  0.        ,  0.        ,  0.        ,  0.25630293]])"
      ]
     },
     "execution_count": 29,
     "metadata": {},
     "output_type": "execute_result"
    }
   ],
   "source": [
    "q, r = qr(mat)\n",
    "\n",
    "r"
   ]
  },
  {
   "cell_type": "code",
   "execution_count": 30,
   "id": "0b4fa450",
   "metadata": {},
   "outputs": [
    {
     "data": {
      "text/plain": [
       "array([[-0.45734983,  0.10901997, -0.54732784,  0.53945317,  0.43401416],\n",
       "       [-0.27266721, -0.62046459,  0.58054423,  0.44929284,  0.04219748],\n",
       "       [ 0.26053416, -0.51797896, -0.55459722,  0.21181377, -0.5580113 ],\n",
       "       [-0.55069263, -0.43526605, -0.21026414, -0.67304194,  0.10042229],\n",
       "       [ 0.58765918, -0.38128678, -0.10775687, -0.09631045,  0.69884894]])"
      ]
     },
     "execution_count": 30,
     "metadata": {},
     "output_type": "execute_result"
    }
   ],
   "source": [
    "q"
   ]
  },
  {
   "cell_type": "markdown",
   "id": "42bbf073",
   "metadata": {},
   "source": [
    "# Statistical Functions with Numpy\n",
    "NumPy is a powerful Python library for scientific computing, which includes a wide range of mathematical functions and tools. Here are some of the most common statistical functions available in NumPy:\n",
    "1. **Mean:** The **mean()** function is used to calculate the arithmetic mean of the elements in an array or a matrix.\n",
    "2. **Median:** The **median()** function is used to calculate the median of the elements in an array or a matrix.\n",
    "3. **Standard Deviation:** The **std()** function is used to calculate the standard deviation of the elements in an array or a matrix.\n",
    "4. **Variance:** The **var()** function is used to calculate the variance of the elements in an array or a matrix.\n",
    "5. **Percentiles:** The **percentile()** function is used to calculate the percentile of the elements in an array or a matrix.\n",
    "6. **Correlation Coefficient:** The **corrcoef()** function is used to calculate the correlation coefficient between two arrays.\n",
    "7. **Covariance:** The **np.cov()** function computes the covariance matrix of a set of data."
   ]
  },
  {
   "cell_type": "code",
   "execution_count": 38,
   "id": "856d471e",
   "metadata": {},
   "outputs": [
    {
     "name": "stdout",
     "output_type": "stream",
     "text": [
      "Mean: 3.0\n",
      "Median: 3.0\n",
      "Standard deviation: 1.4142135623730951\n",
      "Variance: 2.0\n",
      "75th percentile: 4.0\n"
     ]
    }
   ],
   "source": [
    "import numpy as np\n",
    "\n",
    "# Create an array of data\n",
    "data = np.array([1, 2, 3, 4, 5])\n",
    "\n",
    "# Compute the mean of the data\n",
    "mean = np.mean(data)\n",
    "print(\"Mean:\", mean)\n",
    "\n",
    "# Compute the median of the data\n",
    "median = np.median(data)\n",
    "print(\"Median:\", median)\n",
    "\n",
    "# Compute the standard deviation of the data\n",
    "std = np.std(data)\n",
    "print(\"Standard deviation:\", std)\n",
    "\n",
    "# Compute the variance of the data\n",
    "var = np.var(data)\n",
    "print(\"Variance:\", var)\n",
    "\n",
    "# Compute the 75th percentile of the data\n",
    "percentile = np.percentile(data, 75)\n",
    "print(\"75th percentile:\", percentile)"
   ]
  },
  {
   "cell_type": "code",
   "execution_count": 36,
   "id": "ed1c41d5",
   "metadata": {},
   "outputs": [
    {
     "name": "stdout",
     "output_type": "stream",
     "text": [
      "[[1. 1.]\n",
      " [1. 1.]]\n"
     ]
    }
   ],
   "source": [
    "import numpy as np\n",
    "\n",
    "# Create two arrays of data\n",
    "x = np.array([1, 2, 3, 4, 5])\n",
    "y = np.array([2, 4, 6, 8, 10])\n",
    "\n",
    "# Compute the correlation coefficient between the two arrays\n",
    "corr = np.corrcoef(x, y)\n",
    "\n",
    "print(corr)"
   ]
  },
  {
   "cell_type": "code",
   "execution_count": 37,
   "id": "4f04cb16",
   "metadata": {},
   "outputs": [
    {
     "name": "stdout",
     "output_type": "stream",
     "text": [
      "[[1. 1. 1.]\n",
      " [1. 1. 1.]\n",
      " [1. 1. 1.]]\n"
     ]
    }
   ],
   "source": [
    "import numpy as np\n",
    "\n",
    "# Create an array of data\n",
    "data = np.array([[1, 2, 3], [4, 5, 6], [7, 8, 9]])\n",
    "\n",
    "# Compute the covariance matrix of the data\n",
    "cov = np.cov(data)\n",
    "\n",
    "print(cov)"
   ]
  },
  {
   "cell_type": "markdown",
   "id": "116624e7",
   "metadata": {},
   "source": [
    "In this example, we're using the **np.random.normal()** function to generate a random sample of 1000 values from a normal distribution with mean **0** and standard deviation **1**. The loc parameter specifies the mean of the distribution, the scale parameter specifies the standard deviation, and the size parameter specifies the number of values to generate. We then print the first 10 values of the sample using slicing.\n",
    "\n",
    "Note that Numpy has a variety of other random sampling functions, such as **np.random.uniform()** for generating samples from a uniform distribution, **np.random.exponential()** for generating samples from an exponential distribution, and many more. The syntax for these functions is similar to the example above, but with different parameters depending on the specific distribution."
   ]
  },
  {
   "cell_type": "code",
   "execution_count": 40,
   "id": "9490f1e7",
   "metadata": {},
   "outputs": [
    {
     "name": "stdout",
     "output_type": "stream",
     "text": [
      "[-1.10106581  0.05992341 -0.30295911  1.28777503  0.08182908 -0.07973347\n",
      " -1.00723206  0.04583103  0.44767378 -0.56551896]\n"
     ]
    }
   ],
   "source": [
    "# Generate a random sample from a normal distribution with mean 0 and standard deviation 1\n",
    "sample = np.random.normal(loc=0, scale=1, size=1000)\n",
    "\n",
    "# Print the first 10 values of the sample\n",
    "print(sample[:10])"
   ]
  },
  {
   "cell_type": "markdown",
   "id": "7587c70e",
   "metadata": {},
   "source": [
    "In this example, we're using the **np.random.uniform()** function to generate a random sample of 1000 values from a uniform distribution between **0** and **1**. The low parameter specifies the lower bound of the distribution, the high parameter specifies the upper bound, and the size parameter specifies the number of values to generate."
   ]
  },
  {
   "cell_type": "code",
   "execution_count": 41,
   "id": "9d54b1b6",
   "metadata": {},
   "outputs": [
    {
     "name": "stdout",
     "output_type": "stream",
     "text": [
      "[0.35950166 0.13806702 0.43343764 0.96961514 0.29218492 0.10914665\n",
      " 0.52434904 0.67149189 0.29792039 0.58201463]\n"
     ]
    }
   ],
   "source": [
    "# Generate a random sample from a uniform distribution between 0 and 1\n",
    "sample = np.random.uniform(low=0, high=1, size=1000)\n",
    "\n",
    "# Print the first 10 values of the sample\n",
    "print(sample[:10])"
   ]
  },
  {
   "cell_type": "markdown",
   "id": "142aba7f",
   "metadata": {},
   "source": [
    "In this example, we're using the **np.random.exponential()** function to generate a random sample of 1000 values from an exponential distribution with a mean of **2**. The scale parameter specifies the scale parameter of the distribution, which is equal to the inverse of the mean. The size parameter specifies the number of values to generate."
   ]
  },
  {
   "cell_type": "code",
   "execution_count": 42,
   "id": "9fc87373",
   "metadata": {},
   "outputs": [
    {
     "name": "stdout",
     "output_type": "stream",
     "text": [
      "[2.21177986 2.1943015  0.05332413 0.12722464 1.15619478 3.2555581\n",
      " 1.44576637 2.22047575 1.82392606 1.52251735]\n"
     ]
    }
   ],
   "source": [
    "# Generate a random sample from an exponential distribution with mean 2\n",
    "sample = np.random.exponential(scale=2, size=1000)\n",
    "\n",
    "# Print the first 10 values of the sample\n",
    "print(sample[:10])"
   ]
  },
  {
   "cell_type": "markdown",
   "id": "fee44bd5",
   "metadata": {},
   "source": [
    "Note that Numpy has many other random sampling functions for different distributions, such as **np.random.normal()** for generating samples from a normal distribution, **np.random.poisson()** for generating samples from a Poisson distribution, **np.random.gamma()** for generating samples from a gamma distribution, and many more. The syntax for these functions is similar to the examples above, but with different parameters depending on the specific distribution."
   ]
  },
  {
   "cell_type": "code",
   "execution_count": null,
   "id": "65f367e7",
   "metadata": {},
   "outputs": [],
   "source": []
  }
 ],
 "metadata": {
  "kernelspec": {
   "display_name": "Python 3 (ipykernel)",
   "language": "python",
   "name": "python3"
  },
  "language_info": {
   "codemirror_mode": {
    "name": "ipython",
    "version": 3
   },
   "file_extension": ".py",
   "mimetype": "text/x-python",
   "name": "python",
   "nbconvert_exporter": "python",
   "pygments_lexer": "ipython3",
   "version": "3.8.0"
  }
 },
 "nbformat": 4,
 "nbformat_minor": 5
}
