{
 "cells": [
  {
   "cell_type": "markdown",
   "id": "a05b7751",
   "metadata": {},
   "source": [
    "# Importing the libraries"
   ]
  },
  {
   "cell_type": "code",
   "execution_count": 1,
   "id": "201b8c35",
   "metadata": {},
   "outputs": [],
   "source": [
    "import numpy as np\n",
    "import pandas as pd"
   ]
  },
  {
   "cell_type": "markdown",
   "id": "2cf85c3b",
   "metadata": {},
   "source": [
    "# Handling Missing Data\n",
    "Missing data occurs commonly in many data analysis applications. One of the goals of pandas is to make working with missing data as painless as possible."
   ]
  },
  {
   "cell_type": "code",
   "execution_count": 2,
   "id": "fd309be1",
   "metadata": {},
   "outputs": [
    {
     "data": {
      "text/plain": [
       "0     Hafiz Hassan Mustafa\n",
       "1                     Saad\n",
       "2                      NaN\n",
       "3                  Hasnain\n",
       "4                    Ahsan\n",
       "5                     Saad\n",
       "6                      NaN\n",
       "7                    Faraz\n",
       "8                      NaN\n",
       "9     Hafiz Hassan Mustafa\n",
       "10                      23\n",
       "dtype: object"
      ]
     },
     "execution_count": 2,
     "metadata": {},
     "output_type": "execute_result"
    }
   ],
   "source": [
    "string_data = pd.Series(['Hafiz Hassan Mustafa', 'Saad', np.nan, 'Hasnain', 'Ahsan', 'Saad', np.nan, 'Faraz', np.NaN,\n",
    "                         'Hafiz Hassan Mustafa', '23'])\n",
    "string_data"
   ]
  },
  {
   "cell_type": "code",
   "execution_count": 3,
   "id": "2e0e39be",
   "metadata": {},
   "outputs": [
    {
     "data": {
      "text/plain": [
       "0     False\n",
       "1     False\n",
       "2      True\n",
       "3     False\n",
       "4     False\n",
       "5     False\n",
       "6      True\n",
       "7     False\n",
       "8      True\n",
       "9     False\n",
       "10    False\n",
       "dtype: bool"
      ]
     },
     "execution_count": 3,
     "metadata": {},
     "output_type": "execute_result"
    }
   ],
   "source": [
    "string_data.isnull()"
   ]
  },
  {
   "cell_type": "markdown",
   "id": "bee6025c",
   "metadata": {},
   "source": [
    "# Filtering Out Missing Data\n",
    "There are a few ways to filter out missing data. While you always have the option to do it by hand using **pandas.isnull()** and boolean indexing, the **dropna()** can be helpful. On a Series, it returns the Series with only the non-null data and index values:"
   ]
  },
  {
   "cell_type": "code",
   "execution_count": 4,
   "id": "cac333f8",
   "metadata": {},
   "outputs": [
    {
     "data": {
      "text/plain": [
       "0     Hafiz Hassan Mustafa\n",
       "1                     Saad\n",
       "3                  Hasnain\n",
       "4                    Ahsan\n",
       "5                     Saad\n",
       "7                    Faraz\n",
       "9     Hafiz Hassan Mustafa\n",
       "10                      23\n",
       "dtype: object"
      ]
     },
     "execution_count": 4,
     "metadata": {},
     "output_type": "execute_result"
    }
   ],
   "source": [
    "filtered_data = string_data.dropna()\n",
    "filtered_data"
   ]
  },
  {
   "cell_type": "code",
   "execution_count": 5,
   "id": "d9de70d6",
   "metadata": {},
   "outputs": [
    {
     "data": {
      "text/plain": [
       "0     Hafiz Hassan Mustafa\n",
       "1                     Saad\n",
       "3                  Hasnain\n",
       "4                    Ahsan\n",
       "5                     Saad\n",
       "7                    Faraz\n",
       "9     Hafiz Hassan Mustafa\n",
       "10                      23\n",
       "dtype: object"
      ]
     },
     "execution_count": 5,
     "metadata": {},
     "output_type": "execute_result"
    }
   ],
   "source": [
    "#Same output, different strategy...\n",
    "\n",
    "second_filtered = string_data[string_data.notnull()]\n",
    "second_filtered"
   ]
  },
  {
   "cell_type": "markdown",
   "id": "3ebf159e",
   "metadata": {},
   "source": [
    "# Filling and Replacing Values\n",
    "To fill and replace values using Pandas and NumPy with series data, you can use the following methods:\n",
    "\n",
    "1. **fillna()**: This method is used to replace NaN (null) values with a specified value or a method of interpolation.\n",
    "\n",
    "2. **replace():** This method is used to replace specific values with another value.\n",
    "\n",
    "3. **interpolate():** This method is used to fill NaN values using an interpolation method."
   ]
  },
  {
   "cell_type": "code",
   "execution_count": 7,
   "id": "0f4008df",
   "metadata": {},
   "outputs": [
    {
     "data": {
      "text/plain": [
       "0     Hafiz Hassan Mustafa\n",
       "1                     Saad\n",
       "2                     Saad\n",
       "3                  Hasnain\n",
       "4                    Ahsan\n",
       "5                     Saad\n",
       "6                     Saad\n",
       "7                    Faraz\n",
       "8                    Faraz\n",
       "9     Hafiz Hassan Mustafa\n",
       "10                      23\n",
       "dtype: object"
      ]
     },
     "execution_count": 7,
     "metadata": {},
     "output_type": "execute_result"
    }
   ],
   "source": [
    "#We are filling the nan values permanently...\n",
    "filled_data = string_data\n",
    "\n",
    "filled_data.fillna(method='ffill', inplace=True)\n",
    "filled_data"
   ]
  },
  {
   "cell_type": "code",
   "execution_count": 8,
   "id": "d76eb8e5",
   "metadata": {},
   "outputs": [
    {
     "data": {
      "text/plain": [
       "0     Hafiz Hassan Mustafa\n",
       "1                     Saad\n",
       "2                     Saad\n",
       "3                  Hasnain\n",
       "4                    Ahsan\n",
       "5                     Saad\n",
       "6                     Saad\n",
       "7                    Faraz\n",
       "8                    Faraz\n",
       "9     Hafiz Hassan Mustafa\n",
       "10                      23\n",
       "dtype: object"
      ]
     },
     "execution_count": 8,
     "metadata": {},
     "output_type": "execute_result"
    }
   ],
   "source": [
    "#Same output, different strategy...\n",
    "interpolated_data = string_data\n",
    "\n",
    "interpolated_data.interpolate(method='linear')\n",
    "interpolated_data"
   ]
  },
  {
   "cell_type": "code",
   "execution_count": 10,
   "id": "75ca388d",
   "metadata": {},
   "outputs": [
    {
     "data": {
      "text/plain": [
       "0     Hafiz Hassan Mustafa\n",
       "1                     Moiz\n",
       "3                  Hasnain\n",
       "4                    Ahsan\n",
       "7                    Faraz\n",
       "10                      23\n",
       "dtype: object"
      ]
     },
     "execution_count": 10,
     "metadata": {},
     "output_type": "execute_result"
    }
   ],
   "source": [
    "#Replacing the Saad with Moiz in the data...\n",
    "replaced_data = remove_duplicates.replace('Saad', 'Moiz')\n",
    "replaced_data"
   ]
  },
  {
   "cell_type": "markdown",
   "id": "46668d96",
   "metadata": {},
   "source": [
    "# Removing Duplicates\n",
    "To remove duplicates from a Pandas Series, you can use the **drop_duplicates()** method. This method returns a new Series with only the unique values from the original Series."
   ]
  },
  {
   "cell_type": "code",
   "execution_count": 17,
   "id": "aa797213",
   "metadata": {},
   "outputs": [
    {
     "name": "stdout",
     "output_type": "stream",
     "text": [
      "0     Hafiz Hassan Mustafa\n",
      "1                     Saad\n",
      "2                     Saad\n",
      "3                  Hasnain\n",
      "4                    Ahsan\n",
      "5                     Saad\n",
      "6                     Saad\n",
      "7                    Faraz\n",
      "8                    Faraz\n",
      "9     Hafiz Hassan Mustafa\n",
      "10                      23\n",
      "dtype: object\n",
      "0     Hafiz Hassan Mustafa\n",
      "1                     Saad\n",
      "3                  Hasnain\n",
      "4                    Ahsan\n",
      "7                    Faraz\n",
      "10                      23\n",
      "dtype: object\n"
     ]
    }
   ],
   "source": [
    "#Dropping the duplicates in the data...\n",
    "remove_duplicates = filled_data.drop_duplicates()\n",
    "print(filled_data)\n",
    "print(remove_duplicates)"
   ]
  },
  {
   "cell_type": "markdown",
   "id": "6ae8c978",
   "metadata": {},
   "source": [
    "# Detecting and Removing Outliers\n",
    "To detect and remove outliers from a Pandas Series, you can use the following methods:\n",
    "\n",
    "1. **describe():** This method provides a summary of the statistical measures of the Series, including the mean, standard deviation, minimum, maximum, and quartiles.\n",
    "\n",
    "2. **quantile():** This method can be used to find the quartile values of the Series.\n",
    "\n",
    "3. **boxplot():** This method creates a box plot that helps visualize the distribution of the data and identify potential outliers.\n",
    "\n",
    "4. **std():** This method calculates the standard deviation of the Series.\n",
    "\n",
    "5. **drop():** This method can be used to remove outliers from the Series."
   ]
  },
  {
   "cell_type": "code",
   "execution_count": 19,
   "id": "98b6cf6c",
   "metadata": {},
   "outputs": [
    {
     "name": "stdout",
     "output_type": "stream",
     "text": [
      "Summary statistics:\n",
      " count      8.00000\n",
      "mean      76.87500\n",
      "std      115.12532\n",
      "min        1.00000\n",
      "25%        2.75000\n",
      "50%        4.50000\n",
      "75%      125.00000\n",
      "max      300.00000\n",
      "dtype: float64\n",
      "Interquartile range (IQR): 122.25\n",
      "Standard deviation: 115.12531991579561\n",
      "Original Series:\n",
      " 0      1\n",
      "1      2\n",
      "2      3\n",
      "3      4\n",
      "4      5\n",
      "5    100\n",
      "6    200\n",
      "7    300\n",
      "dtype: int64\n",
      "\n",
      "Filtered Series:\n",
      " 0      1\n",
      "1      2\n",
      "2      3\n",
      "3      4\n",
      "4      5\n",
      "5    100\n",
      "6    200\n",
      "7    300\n",
      "dtype: int64\n"
     ]
    },
    {
     "data": {
      "image/png": "[encoded data removed]",
      "text/plain": [
       "<Figure size 640x480 with 1 Axes>"
      ]
     },
     "metadata": {},
     "output_type": "display_data"
    }
   ],
   "source": [
    "series_data = pd.Series([1, 2, 3, 4, 5, 100, 200, 300])\n",
    "\n",
    "# calculate summary statistics\n",
    "print(\"Summary statistics:\\n\", series_data.describe())\n",
    "\n",
    "# calculate the interquartile range (IQR)\n",
    "Q1 = series_data.quantile(0.25)\n",
    "Q3 = series_data.quantile(0.75)\n",
    "IQR = Q3 - Q1\n",
    "print(\"Interquartile range (IQR):\", IQR)\n",
    "\n",
    "# create a box plot\n",
    "series_data.plot.box()\n",
    "\n",
    "# calculate the standard deviation\n",
    "print(\"Standard deviation:\", series_data.std())\n",
    "\n",
    "# remove outliers\n",
    "filtered_series = series_data.drop(series_data[series_data > Q3 + 1.5*IQR].index)\n",
    "\n",
    "# print the original and filtered series\n",
    "print(\"Original Series:\\n\", series_data)\n",
    "print(\"\\nFiltered Series:\\n\", filtered_series)\n"
   ]
  },
  {
   "cell_type": "markdown",
   "id": "6d98c0c6",
   "metadata": {},
   "source": [
    "In this example, we first calculated the summary statistics of the Series using **describe()**, and then calculated the interquartile range (IQR) using **quantile()**. We then created a box plot to visualize the distribution of the data and identify potential outliers. We also calculated the standard deviation using **std()**. Finally, we used **drop()** to remove any values that were greater than **Q3 + 1.5*IQR**, which are considered outliers. The filtered Series is then printed for comparison with the original Series."
   ]
  },
  {
   "cell_type": "code",
   "execution_count": null,
   "id": "ef919087",
   "metadata": {},
   "outputs": [],
   "source": []
  }
 ],
 "metadata": {
  "kernelspec": {
   "display_name": "Python 3 (ipykernel)",
   "language": "python",
   "name": "python3"
  },
  "language_info": {
   "codemirror_mode": {
    "name": "ipython",
    "version": 3
   },
   "file_extension": ".py",
   "mimetype": "text/x-python",
   "name": "python",
   "nbconvert_exporter": "python",
   "pygments_lexer": "ipython3",
   "version": "3.8.0"
  }
 },
 "nbformat": 4,
 "nbformat_minor": 5
}
